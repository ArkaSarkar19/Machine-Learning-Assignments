{
 "cells": [
  {
   "cell_type": "code",
   "execution_count": 1,
   "metadata": {},
   "outputs": [
    {
     "name": "stdout",
     "output_type": "stream",
     "text": [
      "Linear Regression\n",
      "Training loss after  0  iterations is  1.5811388300841898\n",
      "Training loss after  500  iterations is  0.11515089871796896\n",
      "Training loss after  1000  iterations is  0.11515089872154656\n",
      "Training loss after  1500  iterations is  0.11515089872154524\n",
      "Training loss after  2000  iterations is  0.11515089872154423\n",
      "Training loss after  2500  iterations is  0.11515089872154423\n",
      "Training loss after  3000  iterations is  0.11515089872154423\n",
      "Training loss after  3500  iterations is  0.11515089872154423\n",
      "Training loss after  4000  iterations is  0.11515089872154423\n",
      "Training loss after  4500  iterations is  0.11515089872154423\n",
      "Predicted Values: [[2.76462962]\n",
      " [2.76462962]]\n",
      "True Values: [3]\n"
     ]
    }
   ],
   "source": [
    "import numpy as np\n",
    "import pandas as pd\n",
    "from scratch import *"
   ]
  },
  {
   "cell_type": "code",
   "execution_count": 2,
   "metadata": {},
   "outputs": [
    {
     "data": {
      "text/plain": [
       "' Running Linear Regression on Alabone dataset '"
      ]
     },
     "execution_count": 2,
     "metadata": {},
     "output_type": "execute_result"
    }
   ],
   "source": [
    "\"\"\" Running Linear Regression on Alabone dataset \"\"\""
   ]
  },
  {
   "cell_type": "code",
   "execution_count": 3,
   "metadata": {},
   "outputs": [
    {
     "name": "stdout",
     "output_type": "stream",
     "text": [
      "[[ 2.13626242  0.00849443 -0.19450817 ... -0.33811371 -0.55916099\n",
      "  -0.53284584]\n",
      " [ 3.63998538 -0.09676618 -0.28473155 ... -0.57043891 -0.70051095\n",
      "  -0.53510142]\n",
      " [ 3.63998538 -0.11180341 -0.28473155 ... -0.46968947 -0.65765484\n",
      "  -0.61254316]\n",
      " ...\n",
      " [ 0.63253946  0.0460875  -0.1569151  ... -0.18473397 -0.52833467\n",
      "  -0.4711932 ]\n",
      " [ 2.13626242 -0.14939648 -0.31480601 ... -0.49901207 -0.6448732\n",
      "  -0.63133969]\n",
      " [ 0.63253946  0.06864335 -0.1569151  ... -0.11857016 -0.51705675\n",
      "  -0.40427753]]\n",
      "[[ 6.]\n",
      " [12.]\n",
      " [ 7.]\n",
      " ...\n",
      " [10.]\n",
      " [15.]\n",
      " [10.]]\n"
     ]
    }
   ],
   "source": [
    "pp = MyPreProcessor()\n",
    "X,Y = pp.pre_process(0)\n",
    "print(X)\n",
    "print(Y)"
   ]
  },
  {
   "cell_type": "code",
   "execution_count": 4,
   "metadata": {},
   "outputs": [],
   "source": [
    "def k_fold_cross_validation(X, y, k=5, loss = \"rmse\", epochs = 8000, learning_rate = 0.01):\n",
    "    \"\"\" Performs K fold cross validation\n",
    "    Parameters\n",
    "    ----------\n",
    "    model : instance of the model to be used\n",
    "    X : 2-dimensional numpy array of shape (n_samples, n_features) which acts as data.\n",
    "    y : 1-dimensional numpy array of shape (n_samples,) which acts as labels.\n",
    "    k : number of folds, default = 5\n",
    "    \n",
    "    Returns\n",
    "    -------\n",
    "    model : instance of model\n",
    "    \"\"\"\n",
    "    m = X.shape[0]  #number of examples\n",
    "    fold_size = int(m/k)\n",
    "    start = 0\n",
    "    end = fold_size\n",
    "    models = {}\n",
    "    for i in range(k):\n",
    "        Xtrain_i = np.concatenate((X[0:start], X[end+1:]))\n",
    "        ytrain_i = np.concatenate((y[0:start],y[end+1:]))\n",
    "        X_test =  X[start:end]\n",
    "        y_test = y[start:end]\n",
    "        model = MyLinearRegression()\n",
    "        model.fit(Xtrain_i,ytrain_i,X_test,y_test,epochs,learning_rate, loss)\n",
    "        if(loss == \"rmse\"):\n",
    "            models[i] = (model.rmse_train_history[-1], model.rmse_val_history[-1], np.array(model.rmse_train_history), np.array(model.rmse_val_history))\n",
    "        if(loss == \"mae\"):\n",
    "            models[i] = (model.mae_train_history[-1], model.mae_val_history[-1], np.array(model.mae_train_history), np.array(model.mae_val_history))\n",
    "        print(model.W)\n",
    "        print(model.b)\n",
    "        start+=fold_size\n",
    "        end+=fold_size\n",
    "        \n",
    "    avg_train = 0\n",
    "    avg_val  = 0\n",
    "    for i in range(len(models)):\n",
    "        avg_train+=models[i][2]\n",
    "        avg_val+=models[i][3]\n",
    "            \n",
    "    \n",
    "    avg_train = avg_train/k\n",
    "    avg_val = avg_val/k\n",
    "    return models, avg_train, avg_val\n",
    "    "
   ]
  },
  {
   "cell_type": "code",
   "execution_count": 5,
   "metadata": {},
   "outputs": [
    {
     "name": "stdout",
     "output_type": "stream",
     "text": [
      "Training loss after  0  iterations is :  10.010778443113772  | validation loss is :  9.619161676646707\n",
      "Training loss after  500  iterations is :  2.9938461134611094  | validation loss is :  2.721128639255937\n",
      "Training loss after  1000  iterations is :  2.1137952185299502  | validation loss is :  1.890837577219462\n",
      "Training loss after  1500  iterations is :  1.9738674624236854  | validation loss is :  1.771705880618626\n",
      "Training loss after  2000  iterations is :  1.9397884689663611  | validation loss is :  1.7367318878537754\n",
      "Training loss after  2500  iterations is :  1.9245649909556333  | validation loss is :  1.7227344405208\n",
      "Training loss after  3000  iterations is :  1.9129968025505688  | validation loss is :  1.712532075968837\n",
      "Training loss after  3500  iterations is :  1.902574220022296  | validation loss is :  1.7035768880366224\n",
      "Training loss after  4000  iterations is :  1.8928921065519324  | validation loss is :  1.6953310900103733\n",
      "Training loss after  4500  iterations is :  1.8836667633934407  | validation loss is :  1.6871935770066067\n",
      "[[-0.27363187]\n",
      " [ 0.7724602 ]\n",
      " [-0.09527579]\n",
      " [-2.43385385]\n",
      " [ 3.59518867]\n",
      " [-2.03629273]\n",
      " [-2.27424777]\n",
      " [-0.79149128]]\n",
      "4.516646706586799\n",
      "Training loss after  0  iterations is :  9.903592814371258  | validation loss is :  10.037125748502994\n",
      "Training loss after  500  iterations is :  2.9272787262806386  | validation loss is :  3.0102513598598066\n",
      "Training loss after  1000  iterations is :  2.0594863113738575  | validation loss is :  2.1348133545557517\n",
      "Training loss after  1500  iterations is :  1.9231372358524017  | validation loss is :  1.9856779678979743\n",
      "Training loss after  2000  iterations is :  1.885846896477632  | validation loss is :  1.9494683887210567\n",
      "Training loss after  2500  iterations is :  1.8705061902845979  | validation loss is :  1.9345739702634543\n",
      "Training loss after  3000  iterations is :  1.85946453099901  | validation loss is :  1.9228601956829376\n",
      "Training loss after  3500  iterations is :  1.8495461588343085  | validation loss is :  1.9126722075875235\n",
      "Training loss after  4000  iterations is :  1.8402364029911489  | validation loss is :  1.9031811867512611\n",
      "Training loss after  4500  iterations is :  1.8312963610785233  | validation loss is :  1.8942501754726566\n",
      "[[-0.26974819]\n",
      " [ 0.83097531]\n",
      " [-0.05816595]\n",
      " [-2.4375736 ]\n",
      " [ 3.55369829]\n",
      " [-1.97163632]\n",
      " [-2.28223353]\n",
      " [-0.84495504]]\n",
      "4.508095808383169\n",
      "Training loss after  0  iterations is :  9.925449101796406  | validation loss is :  9.965269461077844\n",
      "Training loss after  500  iterations is :  2.9368138876234986  | validation loss is :  2.909812494495735\n",
      "Training loss after  1000  iterations is :  2.0653891397075275  | validation loss is :  2.067942768605923\n",
      "Training loss after  1500  iterations is :  1.9281647307747074  | validation loss is :  1.94132373002174\n",
      "Training loss after  2000  iterations is :  1.8953150312416935  | validation loss is :  1.9133393543129784\n",
      "Training loss after  2500  iterations is :  1.8809535571706073  | validation loss is :  1.899615913806642\n",
      "Training loss after  3000  iterations is :  1.8697928424950072  | validation loss is :  1.8900898120257392\n",
      "Training loss after  3500  iterations is :  1.859926692911795  | validation loss is :  1.8809679245537345\n",
      "Training loss after  4000  iterations is :  1.8508205643188795  | validation loss is :  1.8718770640814344\n",
      "Training loss after  4500  iterations is :  1.8419796233421866  | validation loss is :  1.8636652108095149\n",
      "[[-0.27426134]\n",
      " [ 0.81369739]\n",
      " [-0.06080071]\n",
      " [-2.41822749]\n",
      " [ 3.47780253]\n",
      " [-1.97929533]\n",
      " [-2.30988255]\n",
      " [-0.83964926]]\n",
      "4.491850299401097\n",
      "Training loss after  0  iterations is :  9.953592814371257  | validation loss is :  9.849101796407185\n",
      "Training loss after  500  iterations is :  2.939643856136977  | validation loss is :  2.960469847367881\n",
      "Training loss after  1000  iterations is :  2.0874765854977086  | validation loss is :  2.0520086681232486\n",
      "Training loss after  1500  iterations is :  1.9463760934814978  | validation loss is :  1.897294375239483\n",
      "Training loss after  2000  iterations is :  1.9098213968204554  | validation loss is :  1.8598197623631805\n",
      "Training loss after  2500  iterations is :  1.8937385247015377  | validation loss is :  1.846021320604688\n",
      "Training loss after  3000  iterations is :  1.8823340732954235  | validation loss is :  1.835748926817494\n",
      "Training loss after  3500  iterations is :  1.8722532715160747  | validation loss is :  1.8263941784763043\n",
      "Training loss after  4000  iterations is :  1.862642385554926  | validation loss is :  1.817467400655301\n",
      "Training loss after  4500  iterations is :  1.853493887503642  | validation loss is :  1.8091693408490506\n",
      "[[-0.26348081]\n",
      " [ 0.81401503]\n",
      " [-0.06301211]\n",
      " [-2.43789829]\n",
      " [ 3.53556852]\n",
      " [-2.00016763]\n",
      " [-2.27292923]\n",
      " [-0.82103859]]\n",
      "4.494999999999834\n",
      "Training loss after  0  iterations is :  9.867664670658682  | validation loss is :  10.191616766467066\n",
      "Training loss after  500  iterations is :  2.9159032697332554  | validation loss is :  3.1304627597000336\n",
      "Training loss after  1000  iterations is :  2.0386565107478276  | validation loss is :  2.230319723545191\n",
      "Training loss after  1500  iterations is :  1.899733038902532  | validation loss is :  2.0872943339695627\n",
      "Training loss after  2000  iterations is :  1.8648893715776897  | validation loss is :  2.0490089500245254\n",
      "Training loss after  2500  iterations is :  1.8505365353860184  | validation loss is :  2.032196311541359\n",
      "Training loss after  3000  iterations is :  1.840146314949515  | validation loss is :  2.0190650110828603\n",
      "Training loss after  3500  iterations is :  1.8309192224813473  | validation loss is :  2.00773690652643\n",
      "Training loss after  4000  iterations is :  1.822145104831408  | validation loss is :  1.9972447991454216\n",
      "Training loss after  4500  iterations is :  1.8138009487631443  | validation loss is :  1.9869905963791257\n",
      "[[-0.25777457]\n",
      " [ 0.7925151 ]\n",
      " [-0.08749978]\n",
      " [-2.46321305]\n",
      " [ 3.54405656]\n",
      " [-1.92735131]\n",
      " [-2.25773858]\n",
      " [-0.84547713]]\n",
      "4.481173652694823\n"
     ]
    }
   ],
   "source": [
    "models_mae,avg_train_loss, avg_val_loss = k_fold_cross_validation(X,Y, epochs = 5000, learning_rate = 0.01, loss = \"mae\")\n"
   ]
  },
  {
   "cell_type": "code",
   "execution_count": 6,
   "metadata": {},
   "outputs": [],
   "source": [
    "import matplotlib.pyplot as plt"
   ]
  },
  {
   "cell_type": "code",
   "execution_count": 7,
   "metadata": {},
   "outputs": [
    {
     "data": {
      "image/png": "[encoded data removed]",
      "text/plain": [
       "<Figure size 432x288 with 1 Axes>"
      ]
     },
     "metadata": {
      "needs_background": "light"
     },
     "output_type": "display_data"
    },
    {
     "data": {
      "image/png": "[encoded data removed]",
      "text/plain": [
       "<Figure size 432x288 with 1 Axes>"
      ]
     },
     "metadata": {
      "needs_background": "light"
     },
     "output_type": "display_data"
    }
   ],
   "source": [
    "plt.plot([x for x in range(len(avg_val_loss))],avg_val_loss, label = \"Average Validation Loss\")\n",
    "plt.plot([x for x in range(len(avg_train_loss))], avg_train_loss, label = \"Average Training Loss\")\n",
    "plt.xlabel('epochs')\n",
    "plt.ylabel('loss')\n",
    "plt.legend()\n",
    "plt.show()\n",
    "\n",
    "plt.plot([x for x in range(len(models_mae[0][2]))],models_mae[0][2], label = \"Best Training Loss\")\n",
    "plt.plot([x for x in range(len(models_mae[0][3]))], models_mae[0][3], label = \"Best Validation Loss\")\n",
    "plt.xlabel('epochs')\n",
    "plt.ylabel('loss')\n",
    "plt.legend()\n",
    "plt.show()"
   ]
  },
  {
   "cell_type": "code",
   "execution_count": 8,
   "metadata": {},
   "outputs": [
    {
     "name": "stdout",
     "output_type": "stream",
     "text": [
      "Training loss after  0  iterations is :  10.536193679195014  | validation loss is :  10.058868640326967\n",
      "Training loss after  500  iterations is :  3.891438129249002  | validation loss is :  3.500262862731633\n",
      "Training loss after  1000  iterations is :  3.0304417326909006  | validation loss is :  2.680896808741341\n",
      "Training loss after  1500  iterations is :  2.82558999429007  | validation loss is :  2.5156933516130895\n",
      "Training loss after  2000  iterations is :  2.7631191613037553  | validation loss is :  2.47095439053567\n",
      "Training loss after  2500  iterations is :  2.7352252717453367  | validation loss is :  2.451275279369472\n",
      "Training loss after  3000  iterations is :  2.717346787676429  | validation loss is :  2.4379277220024504\n",
      "Training loss after  3500  iterations is :  2.7026024865091345  | validation loss is :  2.4260918556163764\n",
      "Training loss after  4000  iterations is :  2.68898371211899  | validation loss is :  2.4145826080512993\n",
      "Training loss after  4500  iterations is :  2.675904385481728  | validation loss is :  2.403196585235139\n",
      "Training loss after  5000  iterations is :  2.6631933250183013  | validation loss is :  2.3919568763309695\n",
      "Training loss after  5500  iterations is :  2.6507993645561485  | validation loss is :  2.3809145726244716\n",
      "Training loss after  6000  iterations is :  2.6387057276566135  | validation loss is :  2.370107260080072\n",
      "Training loss after  6500  iterations is :  2.6269053534435636  | validation loss is :  2.359556739991821\n",
      "Training loss after  7000  iterations is :  2.6153938384371505  | validation loss is :  2.349273825936874\n",
      "Training loss after  7500  iterations is :  2.6041674340620182  | validation loss is :  2.339262694207425\n",
      "[[-0.33096586]\n",
      " [ 1.01698937]\n",
      " [ 0.1585133 ]\n",
      " [-2.37283916]\n",
      " [ 4.15074222]\n",
      " [-3.63160327]\n",
      " [-2.68020046]\n",
      " [ 0.20718599]]\n",
      "4.956995644567624\n",
      "Training loss after  0  iterations is :  10.404110196553857  | validation loss is :  10.5797796067284\n",
      "Training loss after  500  iterations is :  3.7871888352357876  | validation loss is :  3.914783862779078\n",
      "Training loss after  1000  iterations is :  2.9285544962445518  | validation loss is :  3.0814197476915144\n",
      "Training loss after  1500  iterations is :  2.731734875442034  | validation loss is :  2.8918488489412595\n",
      "Training loss after  2000  iterations is :  2.673313864544158  | validation loss is :  2.834051151069531\n",
      "Training loss after  2500  iterations is :  2.6476164994093  | validation loss is :  2.8074923701815426\n",
      "Training loss after  3000  iterations is :  2.631200960498166  | validation loss is :  2.7897766535741635\n",
      "Training loss after  3500  iterations is :  2.6176357629364135  | validation loss is :  2.774748565527812\n",
      "Training loss after  4000  iterations is :  2.6050847105903516  | validation loss is :  2.760670754910345\n",
      "Training loss after  4500  iterations is :  2.5930237157635756  | validation loss is :  2.7470603906088535\n",
      "Training loss after  5000  iterations is :  2.581302724652182  | validation loss is :  2.7337859708357564\n",
      "Training loss after  5500  iterations is :  2.5698774488061256  | validation loss is :  2.7208119733896377\n",
      "Training loss after  6000  iterations is :  2.558733231707729  | validation loss is :  2.708128066103361\n",
      "Training loss after  6500  iterations is :  2.5478636019030105  | validation loss is :  2.6957300122218792\n",
      "Training loss after  7000  iterations is :  2.537264274743245  | validation loss is :  2.6836147538980013\n",
      "Training loss after  7500  iterations is :  2.526931488787777  | validation loss is :  2.6717792615615106\n",
      "[[-0.32474083]\n",
      " [ 1.0925285 ]\n",
      " [ 0.19906315]\n",
      " [-2.36594331]\n",
      " [ 4.0604558 ]\n",
      " [-3.48758277]\n",
      " [-2.65569134]\n",
      " [ 0.06512237]]\n",
      "4.9200169819657456\n",
      "Training loss after  0  iterations is :  10.432144588653038  | validation loss is :  10.4873462390504\n",
      "Training loss after  500  iterations is :  3.8144197730974243  | validation loss is :  3.7997938406806577\n",
      "Training loss after  1000  iterations is :  2.9688468626448232  | validation loss is :  2.944080878602855\n",
      "Training loss after  1500  iterations is :  2.7715894134361645  | validation loss is :  2.745542507298169\n",
      "Training loss after  2000  iterations is :  2.7112689292975802  | validation loss is :  2.6910255767622733\n",
      "Training loss after  2500  iterations is :  2.684325680607714  | validation loss is :  2.66908738094332\n",
      "Training loss after  3000  iterations is :  2.6670038913910052  | validation loss is :  2.654932791796891\n",
      "Training loss after  3500  iterations is :  2.6526654627219024  | validation loss is :  2.642466821755525\n",
      "Training loss after  4000  iterations is :  2.6393972119145412  | validation loss is :  2.630313101238381\n",
      "Training loss after  4500  iterations is :  2.6266492491152746  | validation loss is :  2.6182582954703535\n",
      "Training loss after  5000  iterations is :  2.614263184563481  | validation loss is :  2.6063332002544795\n",
      "Training loss after  5500  iterations is :  2.602192049919212  | validation loss is :  2.5945934056662767\n",
      "Training loss after  6000  iterations is :  2.590420278425366  | validation loss is :  2.5830782039179145\n",
      "Training loss after  6500  iterations is :  2.5789410213777444  | validation loss is :  2.5718099548740327\n",
      "Training loss after  7000  iterations is :  2.567749766003699  | validation loss is :  2.560799701079669\n",
      "Training loss after  7500  iterations is :  2.556842555336326  | validation loss is :  2.550051814781697\n",
      "[[-0.3334237 ]\n",
      " [ 1.10845611]\n",
      " [ 0.23022223]\n",
      " [-2.3227641 ]\n",
      " [ 4.04603982]\n",
      " [-3.57789702]\n",
      " [-2.6881577 ]\n",
      " [ 0.08524886]]\n",
      "4.947256161887316\n",
      "Training loss after  0  iterations is :  10.463008692446145  | validation loss is :  10.361027854590143\n",
      "Training loss after  500  iterations is :  3.805477025982693  | validation loss is :  3.8682618877419417\n",
      "Training loss after  1000  iterations is :  2.9738223557998205  | validation loss is :  2.982642758653268\n",
      "Training loss after  1500  iterations is :  2.7784484330141033  | validation loss is :  2.754514223682133\n",
      "Training loss after  2000  iterations is :  2.717474023142718  | validation loss is :  2.682870523032349\n",
      "Training loss after  2500  iterations is :  2.689885471760399  | validation loss is :  2.6520097332142094\n",
      "Training loss after  3000  iterations is :  2.6720940547167493  | validation loss is :  2.6334210155335303\n",
      "Training loss after  3500  iterations is :  2.6573851180845254  | validation loss is :  2.618890514579274\n",
      "Training loss after  4000  iterations is :  2.6437921272283416  | validation loss is :  2.605913827712124\n",
      "Training loss after  4500  iterations is :  2.6307413755908926  | validation loss is :  2.593687015000019\n",
      "Training loss after  5000  iterations is :  2.6180653163925456  | validation loss is :  2.5819316473723237\n",
      "Training loss after  5500  iterations is :  2.605713732183246  | validation loss is :  2.5705407056327747\n",
      "Training loss after  6000  iterations is :  2.593669963280642  | validation loss is :  2.5594676226277575\n",
      "Training loss after  6500  iterations is :  2.5819268055310687  | validation loss is :  2.548689299502404\n",
      "Training loss after  7000  iterations is :  2.570479628148732  | validation loss is :  2.53819266644038\n",
      "Training loss after  7500  iterations is :  2.559324425432771  | validation loss is :  2.527969280135587\n",
      "[[-0.30208302]\n",
      " [ 1.08099041]\n",
      " [ 0.20646248]\n",
      " [-2.36043566]\n",
      " [ 4.07552263]\n",
      " [-3.59064375]\n",
      " [-2.66138954]\n",
      " [ 0.19171423]]\n",
      "4.920310393749419\n",
      "Training loss after  0  iterations is :  10.373619235729842  | validation loss is :  10.713470171413764\n",
      "Training loss after  500  iterations is :  3.785596229046982  | validation loss is :  3.999478000781372\n",
      "Training loss after  1000  iterations is :  2.9273665638969306  | validation loss is :  3.136824056116211\n",
      "Training loss after  1500  iterations is :  2.7307692054764927  | validation loss is :  2.9320040669456318\n",
      "Training loss after  2000  iterations is :  2.6729462968531066  | validation loss is :  2.8635797826302274\n",
      "Training loss after  2500  iterations is :  2.647351952470832  | validation loss is :  2.8303861523975837\n",
      "Training loss after  3000  iterations is :  2.6307942588868913  | validation loss is :  2.809049230972283\n",
      "Training loss after  3500  iterations is :  2.6169985766480584  | validation loss is :  2.792258564270894\n",
      "Training loss after  4000  iterations is :  2.604185998074389  | validation loss is :  2.7774689643328188\n",
      "Training loss after  4500  iterations is :  2.591851400343507  | validation loss is :  2.7637207296869746\n"
     ]
    },
    {
     "name": "stdout",
     "output_type": "stream",
     "text": [
      "Training loss after  5000  iterations is :  2.579850966171942  | validation loss is :  2.7506186609290415\n",
      "Training loss after  5500  iterations is :  2.5681425894592604  | validation loss is :  2.737985540161827\n",
      "Training loss after  6000  iterations is :  2.5567125285573793  | validation loss is :  2.725735948672915\n",
      "Training loss after  6500  iterations is :  2.5455548340565515  | validation loss is :  2.7138261300877247\n",
      "Training loss after  7000  iterations is :  2.53466562047027  | validation loss is :  2.702232267534609\n",
      "Training loss after  7500  iterations is :  2.5240414845127583  | validation loss is :  2.6909403905190903\n",
      "[[-0.30806295]\n",
      " [ 1.03573386]\n",
      " [ 0.15596091]\n",
      " [-2.38556573]\n",
      " [ 4.09956056]\n",
      " [-3.51328285]\n",
      " [-2.62882858]\n",
      " [ 0.17092356]]\n",
      "4.886718309630871\n"
     ]
    }
   ],
   "source": [
    "models,avg_train_loss, avg_val_loss = k_fold_cross_validation(X,Y)"
   ]
  },
  {
   "cell_type": "code",
   "execution_count": 9,
   "metadata": {},
   "outputs": [
    {
     "data": {
      "image/png": "[encoded data removed]",
      "text/plain": [
       "<Figure size 432x288 with 1 Axes>"
      ]
     },
     "metadata": {
      "needs_background": "light"
     },
     "output_type": "display_data"
    },
    {
     "data": {
      "image/png": "[encoded data removed]",
      "text/plain": [
       "<Figure size 432x288 with 1 Axes>"
      ]
     },
     "metadata": {
      "needs_background": "light"
     },
     "output_type": "display_data"
    }
   ],
   "source": [
    "plt.plot([x for x in range(len(avg_val_loss))],avg_val_loss, label = \"Average Validation Loss\")\n",
    "plt.plot([x for x in range(len(avg_train_loss))], avg_train_loss, label = \"Average Training Loss\")\n",
    "plt.xlabel('epochs')\n",
    "plt.ylabel('loss')\n",
    "plt.legend()\n",
    "plt.show()\n",
    "\n",
    "plt.plot([x for x in range(len(models[0][2]))],models[0][2], label = \"Best Training Loss\")\n",
    "plt.plot([x for x in range(len(models[0][3]))], models[0][3], label = \"Best Validation Loss\")\n",
    "plt.xlabel('epochs')\n",
    "plt.ylabel('loss')\n",
    "plt.legend()\n",
    "plt.show()"
   ]
  },
  {
   "cell_type": "code",
   "execution_count": 10,
   "metadata": {},
   "outputs": [
    {
     "name": "stdout",
     "output_type": "stream",
     "text": [
      "Stats for LR MAE Loss\n",
      "For CV number  0 the train loss =  1.87481747654486  and the val loss =  1.6790813891630927\n",
      "For CV number  1 the train loss =  1.8228108537526135  and the val loss =  1.8857559438287919\n",
      "For CV number  2 the train loss =  1.8334010568279047  and the val loss =  1.8546375506646744\n",
      "For CV number  3 the train loss =  1.8446967951554567  and the val loss =  1.8011214004555836\n",
      "For CV number  4 the train loss =  1.805822952791599  and the val loss =  1.9773369502725655\n",
      "Stats for LR RMSE Loss\n",
      "For CV number  0 the train loss =  2.593244097037651  and the val loss =  2.329542937469957\n",
      "For CV number  1 the train loss =  2.5168814307613854  and the val loss =  2.6602431708040317\n",
      "For CV number  2 the train loss =  2.546236475827177  and the val loss =  2.539587634286504\n",
      "For CV number  3 the train loss =  2.548478722155454  and the val loss =  2.5180325830246333\n",
      "For CV number  4 the train loss =  2.513699540093446  and the val loss =  2.6799631676498543\n"
     ]
    }
   ],
   "source": [
    "print(\"Stats for LR MAE Loss\")\n",
    "for i in range(len(models_mae)):\n",
    "    print(\"For CV number \",i, \"the train loss = \", models_mae[i][0], \" and the val loss = \", models_mae[i][1] )\n",
    "print(\"Stats for LR RMSE Loss\")\n",
    "for i in range(len(models)):\n",
    "    print(\"For CV number \",i, \"the train loss = \", models[i][0], \" and the val loss = \", models[i][1] )"
   ]
  },
  {
   "cell_type": "code",
   "execution_count": 11,
   "metadata": {},
   "outputs": [
    {
     "data": {
      "text/plain": [
       "'LR on Video Game dataset '"
      ]
     },
     "execution_count": 11,
     "metadata": {},
     "output_type": "execute_result"
    }
   ],
   "source": [
    "\"\"\"LR on Video Game dataset \"\"\""
   ]
  },
  {
   "cell_type": "code",
   "execution_count": 12,
   "metadata": {},
   "outputs": [
    {
     "name": "stdout",
     "output_type": "stream",
     "text": [
      "[[ 0.85068818 -0.91989366]\n",
      " [ 0.97591277 -0.97591234]\n",
      " [ 0.97591277 -0.97591234]\n",
      " ...\n",
      " [ 0.97591277 -0.97591234]\n",
      " [ 0.97591277 -0.97591234]\n",
      " [ 0.9453717  -0.93251812]]\n",
      "[[0.07]\n",
      " [0.01]\n",
      " [0.02]\n",
      " ...\n",
      " [0.08]\n",
      " [1.19]\n",
      " [0.29]]\n"
     ]
    }
   ],
   "source": [
    "pp = MyPreProcessor()\n",
    "X,Y = pp.pre_process(1)\n",
    "print(X)\n",
    "print(Y)"
   ]
  },
  {
   "cell_type": "code",
   "execution_count": 13,
   "metadata": {},
   "outputs": [
    {
     "name": "stdout",
     "output_type": "stream",
     "text": [
      "Training loss after  0  iterations is :  1.6843023836669495  | validation loss is :  1.4339734545596348\n",
      "Training loss after  500  iterations is :  1.5837706409242147  | validation loss is :  1.3150987117330353\n",
      "Training loss after  1000  iterations is :  1.5806537656368347  | validation loss is :  1.3112726375612256\n",
      "Training loss after  1500  iterations is :  1.578119406747972  | validation loss is :  1.3081590443646351\n",
      "Training loss after  2000  iterations is :  1.5760541933628676  | validation loss is :  1.3056276521435113\n",
      "[[ 0.5173866 ]\n",
      " [-0.01430619]]\n",
      "0.03096221385635126\n",
      "Training loss after  0  iterations is :  1.4726801912820016  | validation loss is :  2.1746726711032434\n",
      "Training loss after  500  iterations is :  1.3609676939534479  | validation loss is :  2.085475410082844\n",
      "Training loss after  1000  iterations is :  1.3572794334301936  | validation loss is :  2.08234086230012\n",
      "Training loss after  1500  iterations is :  1.354370337602475  | validation loss is :  2.079868271225428\n",
      "Training loss after  2000  iterations is :  1.3520777560027475  | validation loss is :  2.0778717128312336\n",
      "[[0.53775177]\n",
      " [0.00093298]]\n",
      "0.01338707201822353\n",
      "Training loss after  0  iterations is :  1.7025149621256437  | validation loss is :  1.3451820943225608\n",
      "Training loss after  500  iterations is :  1.601496956841097  | validation loss is :  1.2260789622070425\n",
      "Training loss after  1000  iterations is :  1.5983660849870425  | validation loss is :  1.222293122217744\n",
      "Training loss after  1500  iterations is :  1.5958264000665192  | validation loss is :  1.21911819976986\n",
      "Training loss after  2000  iterations is :  1.5937610434902292  | validation loss is :  1.216529036634888\n",
      "[[ 0.51931284]\n",
      " [-0.0155976 ]]\n",
      "0.032535814132256265\n",
      "Training loss after  0  iterations is :  1.639642532274904  | validation loss is :  1.6279317739402497\n",
      "Training loss after  500  iterations is :  1.5344756138526476  | validation loss is :  1.5297828329100966\n",
      "Training loss after  1000  iterations is :  1.5309385535897901  | validation loss is :  1.5269799760304559\n",
      "Training loss after  1500  iterations is :  1.5280932806166805  | validation loss is :  1.5247188747080005\n",
      "Training loss after  2000  iterations is :  1.5258022951483285  | validation loss is :  1.5229319262711354\n",
      "[[ 0.5382353 ]\n",
      " [-0.00531881]]\n",
      "0.021673670295166775\n",
      "Training loss after  0  iterations is :  1.6765355734287186  | validation loss is :  1.4699445373433957\n",
      "Training loss after  500  iterations is :  1.5748355885543888  | validation loss is :  1.3569920069845651\n",
      "Training loss after  1000  iterations is :  1.5716303251974815  | validation loss is :  1.3534319025032253\n",
      "Training loss after  1500  iterations is :  1.5690257197370947  | validation loss is :  1.3505354273705423\n",
      "Training loss after  2000  iterations is :  1.5669051215055414  | validation loss is :  1.3482015321052647\n",
      "[[ 0.52242506]\n",
      " [-0.01375344]]\n",
      "0.027798602166700426\n"
     ]
    }
   ],
   "source": [
    "video_game_model_rmse,avg_train_loss, avg_val_loss = k_fold_cross_validation(X,Y, epochs = 2500, learning_rate = 0.005)"
   ]
  },
  {
   "cell_type": "code",
   "execution_count": 14,
   "metadata": {},
   "outputs": [
    {
     "data": {
      "image/png": "[encoded data removed]",
      "text/plain": [
       "<Figure size 432x288 with 1 Axes>"
      ]
     },
     "metadata": {
      "needs_background": "light"
     },
     "output_type": "display_data"
    },
    {
     "data": {
      "image/png": "[encoded data removed]",
      "text/plain": [
       "<Figure size 432x288 with 1 Axes>"
      ]
     },
     "metadata": {
      "needs_background": "light"
     },
     "output_type": "display_data"
    }
   ],
   "source": [
    "plt.plot([x for x in range(len(avg_val_loss))],avg_val_loss, label = \"Average Validation Loss\")\n",
    "plt.plot([x for x in range(len(avg_train_loss))], avg_train_loss, label = \"Average Training Loss\")\n",
    "plt.xlabel('epochs')\n",
    "plt.ylabel('loss')\n",
    "plt.legend()\n",
    "plt.show()\n",
    "\n",
    "\n",
    "plt.plot([x for x in range(len(video_game_model_rmse[0][2]))],video_game_model_rmse[0][2], label = \"Best Training Loss\")\n",
    "plt.plot([x for x in range(len(video_game_model_rmse[0][3]))], video_game_model_rmse[0][3], label = \"Best Validation Loss\")\n",
    "plt.xlabel('epochs')\n",
    "plt.ylabel('loss')\n",
    "plt.legend()\n",
    "plt.show()"
   ]
  },
  {
   "cell_type": "code",
   "execution_count": 15,
   "metadata": {},
   "outputs": [
    {
     "name": "stdout",
     "output_type": "stream",
     "text": [
      "Training loss after  0  iterations is :  0.5341465420560748  | validation loss is :  0.5312055040382889\n",
      "Training loss after  500  iterations is :  0.4620198642498855  | validation loss is :  0.4595950833927773\n",
      "Training loss after  1000  iterations is :  0.4614597227817614  | validation loss is :  0.45906663267883024\n",
      "Training loss after  1500  iterations is :  0.4611927892402027  | validation loss is :  0.45878958878893417\n",
      "Training loss after  2000  iterations is :  0.46097824522442893  | validation loss is :  0.45857324115027953\n",
      "[[ 0.09029306]\n",
      " [-0.04509111]]\n",
      "0.047883663551401855\n",
      "Training loss after  0  iterations is :  0.5237233644859813  | validation loss is :  0.5728656895004487\n",
      "Training loss after  500  iterations is :  0.452200720573515  | validation loss is :  0.4992427815856188\n",
      "Training loss after  1000  iterations is :  0.4516606376142601  | validation loss is :  0.4984075810890639\n",
      "Training loss after  1500  iterations is :  0.45141652806304755  | validation loss is :  0.4980484148136607\n",
      "Training loss after  2000  iterations is :  0.4512148580206615  | validation loss is :  0.4977773880517829\n",
      "[[ 0.08920567]\n",
      " [-0.0456897 ]]\n",
      "0.04835416822429781\n",
      "Training loss after  0  iterations is :  0.5381869158878505  | validation loss is :  0.5151061920430751\n",
      "Training loss after  500  iterations is :  0.4662602225333484  | validation loss is :  0.4427917565714057\n",
      "Training loss after  1000  iterations is :  0.465707655400811  | validation loss is :  0.44214372453716383\n",
      "Training loss after  1500  iterations is :  0.4654554411559409  | validation loss is :  0.44183110100516587\n",
      "Training loss after  2000  iterations is :  0.46524829856049443  | validation loss is :  0.44159047630575826\n",
      "[[ 0.08945084]\n",
      " [-0.04562657]]\n",
      "0.048180485981308585\n",
      "Training loss after  0  iterations is :  0.5363768224299065  | validation loss is :  0.5222285372419981\n",
      "Training loss after  500  iterations is :  0.4644110926484115  | validation loss is :  0.4500889057313856\n",
      "Training loss after  1000  iterations is :  0.4638439093126829  | validation loss is :  0.4494851378145207\n",
      "Training loss after  1500  iterations is :  0.46356981979341194  | validation loss is :  0.44921880579502593\n",
      "Training loss after  2000  iterations is :  0.4633571412034691  | validation loss is :  0.44900197261985175\n",
      "[[ 0.09017319]\n",
      " [-0.04525315]]\n",
      "0.04783775700934566\n",
      "Training loss after  0  iterations is :  0.5353480373831776  | validation loss is :  0.5264732276398445\n",
      "Training loss after  500  iterations is :  0.46282172022561013  | validation loss is :  0.4561369728903929\n",
      "Training loss after  1000  iterations is :  0.46218030600803284  | validation loss is :  0.4559603995540036\n",
      "Training loss after  1500  iterations is :  0.4618911283312475  | validation loss is :  0.4557793403470557\n",
      "Training loss after  2000  iterations is :  0.4616540391606283  | validation loss is :  0.4556224696329988\n",
      "[[ 0.09208957]\n",
      " [-0.04454043]]\n",
      "0.047187514018691985\n"
     ]
    }
   ],
   "source": [
    "video_game_model_mae,avg_train_loss, avg_val_loss = k_fold_cross_validation(X,Y, epochs = 2500,learning_rate = 0.0005,loss = \"mae\")"
   ]
  },
  {
   "cell_type": "code",
   "execution_count": 16,
   "metadata": {},
   "outputs": [
    {
     "data": {
      "image/png": "[encoded data removed]",
      "text/plain": [
       "<Figure size 432x288 with 1 Axes>"
      ]
     },
     "metadata": {
      "needs_background": "light"
     },
     "output_type": "display_data"
    },
    {
     "data": {
      "image/png": "[encoded data removed]",
      "text/plain": [
       "<Figure size 432x288 with 1 Axes>"
      ]
     },
     "metadata": {
      "needs_background": "light"
     },
     "output_type": "display_data"
    }
   ],
   "source": [
    "plt.plot([x for x in range(len(avg_val_loss))],avg_val_loss, label = \"Average Validation Loss\")\n",
    "plt.plot([x for x in range(len(avg_train_loss))], avg_train_loss, label = \"Average Training Loss\")\n",
    "plt.xlabel('epochs')\n",
    "plt.ylabel('loss')\n",
    "plt.legend()\n",
    "plt.show()\n",
    "\n",
    "\n",
    "plt.plot([x for x in range(len(video_game_model_mae[2][2]))],video_game_model_mae[2][2], label = \"Best Training Loss\")\n",
    "plt.plot([x for x in range(len(video_game_model_mae[2][3]))], video_game_model_mae[2][3], label = \"Best Validation Loss\")\n",
    "plt.xlabel('epochs')\n",
    "plt.ylabel('loss')\n",
    "plt.legend()\n",
    "plt.show()"
   ]
  },
  {
   "cell_type": "code",
   "execution_count": 17,
   "metadata": {},
   "outputs": [
    {
     "name": "stdout",
     "output_type": "stream",
     "text": [
      "Stats for LR MAE Loss\n",
      "For CV number  0 the train loss =  0.4608005978658471  and the val loss =  0.45839460232866347\n",
      "For CV number  1 the train loss =  0.45104319046715696  and the val loss =  0.497556144876228\n",
      "For CV number  2 the train loss =  0.4650754590842164  and the val loss =  0.4413936455747876\n",
      "For CV number  3 the train loss =  0.46318463891549216  and the val loss =  0.4488144241293316\n",
      "For CV number  4 the train loss =  0.46145531369997006  and the val loss =  0.4555101396303334\n",
      "Stats for LR RMSE Loss\n",
      "For CV number  0 the train loss =  1.574375638469892  and the val loss =  1.3035759576783479\n",
      "For CV number  1 the train loss =  1.3502763584773276  and the val loss =  2.076259728458376\n",
      "For CV number  2 the train loss =  1.5920857682821916  and the val loss =  1.2144238203502724\n",
      "For CV number  3 the train loss =  1.5239626775564175  and the val loss =  1.521527409976184\n",
      "For CV number  4 the train loss =  1.565183092591641  and the val loss =  1.346328790355889\n"
     ]
    }
   ],
   "source": [
    "print(\"Stats for LR MAE Loss\")\n",
    "for i in range(len(video_game_model_mae)):\n",
    "    print(\"For CV number \",i, \"the train loss = \", video_game_model_mae[i][0], \" and the val loss = \", video_game_model_mae[i][1] )\n",
    "print(\"Stats for LR RMSE Loss\")\n",
    "for i in range(len(video_game_model_rmse)):\n",
    "    print(\"For CV number \",i, \"the train loss = \", video_game_model_rmse[i][0], \" and the val loss = \", video_game_model_rmse[i][1] )"
   ]
  },
  {
   "cell_type": "code",
   "execution_count": null,
   "metadata": {},
   "outputs": [],
   "source": []
  }
 ],
 "metadata": {
  "kernelspec": {
   "display_name": "Python 3",
   "language": "python",
   "name": "python3"
  },
  "language_info": {
   "codemirror_mode": {
    "name": "ipython",
    "version": 3
   },
   "file_extension": ".py",
   "mimetype": "text/x-python",
   "name": "python",
   "nbconvert_exporter": "python",
   "pygments_lexer": "ipython3",
   "version": "3.7.4"
  }
 },
 "nbformat": 4,
 "nbformat_minor": 2
}
