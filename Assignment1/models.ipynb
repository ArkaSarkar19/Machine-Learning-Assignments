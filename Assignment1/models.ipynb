{
 "cells": [
  {
   "cell_type": "code",
   "execution_count": 1,
   "metadata": {},
   "outputs": [
    {
     "name": "stdout",
     "output_type": "stream",
     "text": [
      "Linear Regression\n",
      "Training loss after  0  iterations is  1.5811388300841898\n",
      "Training loss after  500  iterations is  0.11522308082978301\n",
      "Training loss after  1000  iterations is  0.11531590760055782\n",
      "Training loss after  1500  iterations is  0.11540873459346981\n",
      "Training loss after  2000  iterations is  0.11550156192142631\n",
      "Training loss after  2500  iterations is  0.11559438970508162\n",
      "Training loss after  3000  iterations is  0.11568721806509605\n",
      "Training loss after  3500  iterations is  0.11578004712213608\n",
      "Training loss after  4000  iterations is  0.11587287699688441\n",
      "Training loss after  4500  iterations is  0.11596570781002223\n",
      "Predicted Values: [[2.76277438]\n",
      " [2.76277438]]\n",
      "True Values: [3]\n"
     ]
    }
   ],
   "source": [
    "import numpy as np\n",
    "import pandas as pd\n",
    "from scratch import *"
   ]
  },
  {
   "cell_type": "code",
   "execution_count": 2,
   "metadata": {},
   "outputs": [
    {
     "data": {
      "text/plain": [
       "' Running Linear Regression on Alabone dataset '"
      ]
     },
     "execution_count": 2,
     "metadata": {},
     "output_type": "execute_result"
    }
   ],
   "source": [
    "\"\"\" Running Linear Regression on Alabone dataset \"\"\""
   ]
  },
  {
   "cell_type": "code",
   "execution_count": 3,
   "metadata": {},
   "outputs": [
    {
     "name": "stdout",
     "output_type": "stream",
     "text": [
      "[[ 2.13626242 -0.14187787 -0.26969432 ... -0.51630489 -0.5960022\n",
      "  -0.48773415]\n",
      " [ 0.63253946  0.28668318  0.06112473 ...  0.80621946  0.09345478\n",
      "   0.09420664]\n",
      " [ 0.63253946 -0.02158003 -0.18698956 ... -0.18473397 -0.51104186\n",
      "  -0.52532722]\n",
      " ...\n",
      " [ 0.63253946 -0.01406142 -0.21706402 ... -0.29676133 -0.5960022\n",
      "  -0.46442644]\n",
      " [ 3.63998538 -0.412548   -0.54788307 ... -0.80501969 -0.84035718\n",
      "  -0.81404203]\n",
      " [ 3.63998538 -0.32984324 -0.48021553 ... -0.77419337 -0.81554576\n",
      "  -0.75840428]]\n",
      "[[11]\n",
      " [12]\n",
      " [ 9]\n",
      " ...\n",
      " [10]\n",
      " [ 5]\n",
      " [ 7]]\n"
     ]
    }
   ],
   "source": [
    "pp = MyPreProcessor()\n",
    "X,Y = pp.pre_process(0)\n",
    "print(X)\n",
    "print(Y)"
   ]
  },
  {
   "cell_type": "code",
   "execution_count": 4,
   "metadata": {},
   "outputs": [],
   "source": [
    "def k_fold_cross_validation(X, y, k=5, loss = \"rmse\", epochs = 5000, learning_rate = 0.01):\n",
    "    \"\"\" Performs K fold cross validation\n",
    "    Parameters\n",
    "    ----------\n",
    "    model : instance of the model to be used\n",
    "    X : 2-dimensional numpy array of shape (n_samples, n_features) which acts as data.\n",
    "    y : 1-dimensional numpy array of shape (n_samples,) which acts as labels.\n",
    "    k : number of folds, default = 5\n",
    "    \n",
    "    Returns\n",
    "    -------\n",
    "    model : instance of model\n",
    "    \"\"\"\n",
    "    m = X.shape[0]  #number of examples\n",
    "    fold_size = int(m/k)\n",
    "    start = 0\n",
    "    end = fold_size\n",
    "    models = {}\n",
    "    for i in range(k):\n",
    "        Xtrain_i = np.concatenate((X[0:start], X[end+1:]))\n",
    "        ytrain_i = np.concatenate((y[0:start],y[end+1:]))\n",
    "        X_test =  X[start:end]\n",
    "        y_test = y[start:end]\n",
    "        model = MyLinearRegression()\n",
    "        model.fit(Xtrain_i,ytrain_i,X_test,y_test,epochs,learning_rate, loss)\n",
    "        if(loss == \"rmse\"):\n",
    "            models[i] = (model.rmse_train_history[-1], model.rmse_val_history[-1], model.rmse_train_history, model.rmse_val_history )\n",
    "        if(loss == \"mae\"):\n",
    "            models[i] = (model.mae_train_history[-1], model.mae_val_history[-1], model.mae_train_history, model.mae_val_history )\n",
    "#         y_pred = model.predict(X_test)\n",
    "#         rmse_val = np.sum(((y_test - y_pred)**2)**0.5)/len(y_pred)\n",
    "#         mae_val = np.sum(np.abs(y_test - y_pred)/len(y_pred))\n",
    "#         rmse_train_history.append(model.get_rmse_loss())\n",
    "#         mae_train_history.append(model.get_mae_loss())\n",
    "#         rmse_val_history.append(rmse_val)\n",
    "#         mae_val_history.append(mae_val)\n",
    "#         print(Xtrain_i.shape,ytrain_i.shape,X_test.shape,y_test.shape)\n",
    "        print(model.W)\n",
    "        print(model.b)\n",
    "        start+=fold_size\n",
    "        end+=fold_size\n",
    "        \n",
    "    \n",
    "    return models\n",
    "    "
   ]
  },
  {
   "cell_type": "code",
   "execution_count": 5,
   "metadata": {},
   "outputs": [
    {
     "name": "stdout",
     "output_type": "stream",
     "text": [
      "Training loss after  0  iterations is :  9.91437125748503  | validation loss is :  10.002395209580838\n",
      "Training loss after  500  iterations is :  2.9367790715804  | validation loss is :  3.004876684061653\n",
      "Training loss after  1000  iterations is :  2.055237760828477  | validation loss is :  2.139330785603663\n",
      "Training loss after  1500  iterations is :  1.9147342291674685  | validation loss is :  2.0097869401782584\n",
      "Training loss after  2000  iterations is :  1.8795395494844533  | validation loss is :  1.977265252145453\n",
      "Training loss after  2500  iterations is :  1.86433400183026  | validation loss is :  1.9634451810212286\n",
      "Training loss after  3000  iterations is :  1.8530802314945236  | validation loss is :  1.9530219302417562\n",
      "Training loss after  3500  iterations is :  1.8429307233331016  | validation loss is :  1.94373633989891\n",
      "Training loss after  4000  iterations is :  1.833213926442291  | validation loss is :  1.9349668600920833\n",
      "Training loss after  4500  iterations is :  1.8241682036852171  | validation loss is :  1.9264721910792706\n",
      "[[-0.26366042]\n",
      " [ 0.82325555]\n",
      " [-0.07838401]\n",
      " [-2.42780942]\n",
      " [ 3.54593738]\n",
      " [-2.01438759]\n",
      " [-2.25767924]\n",
      " [-0.82069137]]\n",
      "4.493001097704555\n",
      "Training loss after  0  iterations is :  9.937125748502995  | validation loss is :  9.918562874251498\n",
      "Training loss after  500  iterations is :  2.964088078603261  | validation loss is :  2.8473946278494084\n",
      "Training loss after  1000  iterations is :  2.0971923414401425  | validation loss is :  1.9770660044008346\n",
      "Training loss after  1500  iterations is :  1.9608683423283049  | validation loss is :  1.8346302179723424\n",
      "Training loss after  2000  iterations is :  1.9261345834303452  | validation loss is :  1.7969585766782763\n",
      "Training loss after  2500  iterations is :  1.911819087199988  | validation loss is :  1.7803759372728976\n",
      "Training loss after  3000  iterations is :  1.900677181783558  | validation loss is :  1.767986030080503\n",
      "Training loss after  3500  iterations is :  1.8910200519475662  | validation loss is :  1.7577809226310832\n",
      "Training loss after  4000  iterations is :  1.8818143529634823  | validation loss is :  1.748248048743744\n",
      "Training loss after  4500  iterations is :  1.8730194603087187  | validation loss is :  1.7391319931437508\n",
      "[[-0.27365498]\n",
      " [ 0.8156838 ]\n",
      " [-0.06685958]\n",
      " [-2.43014966]\n",
      " [ 3.5411443 ]\n",
      " [-1.96568863]\n",
      " [-2.29840157]\n",
      " [-0.83265986]]\n",
      "4.49634197163234\n",
      "Training loss after  0  iterations is :  9.910479041916167  | validation loss is :  10.020359281437125\n",
      "Training loss after  500  iterations is :  2.9371181458858895  | validation loss is :  3.0023255798942112\n",
      "Training loss after  1000  iterations is :  2.0656940274697826  | validation loss is :  2.116407689664137\n",
      "Training loss after  1500  iterations is :  1.9280361826142673  | validation loss is :  1.973929372832434\n",
      "Training loss after  2000  iterations is :  1.8947186602865247  | validation loss is :  1.9328897137792667\n",
      "Training loss after  2500  iterations is :  1.8806852108319934  | validation loss is :  1.9143893234270986\n",
      "Training loss after  3000  iterations is :  1.870311629472098  | validation loss is :  1.9003096803321813\n",
      "Training loss after  3500  iterations is :  1.8612087928613976  | validation loss is :  1.8888995470981698\n",
      "Training loss after  4000  iterations is :  1.8523784815380844  | validation loss is :  1.8779170622618562\n",
      "Training loss after  4500  iterations is :  1.8437958634178921  | validation loss is :  1.867371115095955\n",
      "[[-0.24397125]\n",
      " [ 0.77894447]\n",
      " [-0.08237043]\n",
      " [-2.42653343]\n",
      " [ 3.58174862]\n",
      " [-1.93220878]\n",
      " [-2.25480429]\n",
      " [-0.83317561]]\n",
      "4.48011676870133\n",
      "Training loss after  0  iterations is :  9.934131736526947  | validation loss is :  9.928143712574851\n",
      "Training loss after  500  iterations is :  2.936219966273196  | validation loss is :  2.9616036567830277\n",
      "Training loss after  1000  iterations is :  2.0659165721912145  | validation loss is :  2.102956418016646\n",
      "Training loss after  1500  iterations is :  1.9298510161774185  | validation loss is :  1.9565138311977786\n",
      "Training loss after  2000  iterations is :  1.8955483862653686  | validation loss is :  1.918991616986642\n",
      "Training loss after  2500  iterations is :  1.8804266080145184  | validation loss is :  1.903438694316444\n",
      "Training loss after  3000  iterations is :  1.8691015533680115  | validation loss is :  1.8927402505146613\n",
      "Training loss after  3500  iterations is :  1.85910468452985  | validation loss is :  1.8832025220496138\n",
      "Training loss after  4000  iterations is :  1.8496922841017147  | validation loss is :  1.873965403409089\n",
      "Training loss after  4500  iterations is :  1.8408661883840645  | validation loss is :  1.8650110017432824\n",
      "[[-0.26518432]\n",
      " [ 0.79874962]\n",
      " [-0.06416398]\n",
      " [-2.45576306]\n",
      " [ 3.53312126]\n",
      " [-1.98236338]\n",
      " [-2.27616729]\n",
      " [-0.81449034]]\n",
      "4.490233375231608\n",
      "Training loss after  0  iterations is :  9.967365269461078  | validation loss is :  9.796407185628743\n",
      "Training loss after  500  iterations is :  2.9438818217770537  | validation loss is :  2.9098724761686667\n",
      "Training loss after  1000  iterations is :  2.085397113969806  | validation loss is :  2.0366784796004627\n",
      "Training loss after  1500  iterations is :  1.9414408123202895  | validation loss is :  1.9055079192615691\n",
      "Training loss after  2000  iterations is :  1.9033700048175823  | validation loss is :  1.8804148612341052\n",
      "Training loss after  2500  iterations is :  1.8872240917902299  | validation loss is :  1.870531560137109\n",
      "Training loss after  3000  iterations is :  1.8756201283325116  | validation loss is :  1.862517986425743\n",
      "Training loss after  3500  iterations is :  1.8654100900905968  | validation loss is :  1.8542787496749826\n",
      "Training loss after  4000  iterations is :  1.8558528279287725  | validation loss is :  1.8462123503818513\n",
      "Training loss after  4500  iterations is :  1.846843940342026  | validation loss is :  1.8379510535776626\n",
      "[[-0.27865559]\n",
      " [ 0.81373734]\n",
      " [-0.0679554 ]\n",
      " [-2.44109117]\n",
      " [ 3.52684999]\n",
      " [-2.01138979]\n",
      " [-2.2917162 ]\n",
      " [-0.82860523]]\n",
      "4.5225836850241485\n"
     ]
    }
   ],
   "source": [
    "models_mae = k_fold_cross_validation(X,Y, learning_rate = 0.01, loss = \"mae\")\n"
   ]
  },
  {
   "cell_type": "code",
   "execution_count": 6,
   "metadata": {},
   "outputs": [],
   "source": [
    "import matplotlib.pyplot as plt"
   ]
  },
  {
   "cell_type": "code",
   "execution_count": 7,
   "metadata": {},
   "outputs": [
    {
     "data": {
      "image/png": "[encoded data removed]",
      "text/plain": [
       "<Figure size 432x288 with 1 Axes>"
      ]
     },
     "metadata": {
      "needs_background": "light"
     },
     "output_type": "display_data"
    }
   ],
   "source": [
    "plt.plot([x for x in range(2000)], models_mae[3][2][0:2000], label = \"Training Loss\")\n",
    "plt.plot([x for x in range(2000)], models_mae[3][3][0:2000], label = \"Validation Loss\")\n",
    "plt.xlabel('epochs')\n",
    "plt.ylabel('loss')\n",
    "plt.legend()\n",
    "plt.show()"
   ]
  },
  {
   "cell_type": "code",
   "execution_count": 8,
   "metadata": {},
   "outputs": [
    {
     "name": "stdout",
     "output_type": "stream",
     "text": [
      "Training loss after  0  iterations is :  10.421419674111204  | validation loss is :  10.523768364934796\n",
      "Training loss after  500  iterations is :  3.8015536431535075  | validation loss is :  3.87833651749838\n",
      "Training loss after  1000  iterations is :  2.945266455556819  | validation loss is :  3.0440603338637526\n",
      "Training loss after  1500  iterations is :  2.7471976451619042  | validation loss is :  2.852138651581551\n",
      "Training loss after  2000  iterations is :  2.687601647316493  | validation loss is :  2.7926074828308574\n",
      "Training loss after  2500  iterations is :  2.661025843475662  | validation loss is :  2.7653340221607636\n",
      "Training loss after  3000  iterations is :  2.643890043806571  | validation loss is :  2.747675903434141\n",
      "Training loss after  3500  iterations is :  2.629679532083313  | validation loss is :  2.733156834977485\n",
      "Training loss after  4000  iterations is :  2.6165224380405196  | validation loss is :  2.719826753318711\n",
      "Training loss after  4500  iterations is :  2.603881257749007  | validation loss is :  2.707084275690293\n",
      "[[-0.32044778]\n",
      " [ 0.70491545]\n",
      " [-0.1813372 ]\n",
      " [-2.54431585]\n",
      " [ 3.95772879]\n",
      " [-2.49609286]\n",
      " [-2.5151905 ]\n",
      " [-0.56863828]]\n",
      "4.790230200397898\n",
      "Training loss after  0  iterations is :  10.450854476139122  | validation loss is :  10.412567257224683\n",
      "Training loss after  500  iterations is :  3.8356694516152503  | validation loss is :  3.7312784831645427\n",
      "Training loss after  1000  iterations is :  2.98210955931216  | validation loss is :  2.8886330068153536\n",
      "Training loss after  1500  iterations is :  2.7831956352499576  | validation loss is :  2.700053581007508\n",
      "Training loss after  2000  iterations is :  2.7232074941026263  | validation loss is :  2.6449870897509804\n",
      "Training loss after  2500  iterations is :  2.696423613308003  | validation loss is :  2.6206515799816446\n",
      "Training loss after  3000  iterations is :  2.679110751622066  | validation loss is :  2.604774626465362\n",
      "Training loss after  3500  iterations is :  2.664724159120071  | validation loss is :  2.5913692432195923\n",
      "Training loss after  4000  iterations is :  2.65138675377085  | validation loss is :  2.578791225576441\n",
      "Training loss after  4500  iterations is :  2.6385604482828717  | validation loss is :  2.5666105608520815\n",
      "[[-0.32703074]\n",
      " [ 0.73882793]\n",
      " [-0.15697329]\n",
      " [-2.56753681]\n",
      " [ 3.93336138]\n",
      " [-2.48354854]\n",
      " [-2.54817159]\n",
      " [-0.55898006]]\n",
      "4.805582380722962\n",
      "Training loss after  0  iterations is :  10.422985309137255  | validation loss is :  10.520069214954107\n",
      "Training loss after  500  iterations is :  3.8154153562805497  | validation loss is :  3.8665514185691787\n",
      "Training loss after  1000  iterations is :  2.966433604565572  | validation loss is :  2.9978842885928274\n",
      "Training loss after  1500  iterations is :  2.7707869698513266  | validation loss is :  2.785731372678091\n",
      "Training loss after  2000  iterations is :  2.7125567162797717  | validation loss is :  2.7152757729491133\n",
      "Training loss after  2500  iterations is :  2.686919212579329  | validation loss is :  2.6815562891492215\n",
      "Training loss after  3000  iterations is :  2.6705521370543006  | validation loss is :  2.6598784586896436\n",
      "Training loss after  3500  iterations is :  2.657043193422411  | validation loss is :  2.642675474554644\n",
      "Training loss after  4000  iterations is :  2.644553543067123  | validation loss is :  2.6273882155868598\n",
      "Training loss after  4500  iterations is :  2.63255548121821  | validation loss is :  2.6130810364145622\n",
      "[[-0.29957099]\n",
      " [ 0.67548831]\n",
      " [-0.18146813]\n",
      " [-2.54639341]\n",
      " [ 3.96324283]\n",
      " [-2.43928883]\n",
      " [-2.4768109 ]\n",
      " [-0.61791434]]\n",
      "4.770068045012618\n",
      "Training loss after  0  iterations is :  10.445524497885597  | validation loss is :  10.432331136142666\n",
      "Training loss after  500  iterations is :  3.8206860324576937  | validation loss is :  3.811365310933238\n",
      "Training loss after  1000  iterations is :  2.972532471892326  | validation loss is :  2.958058097419443\n",
      "Training loss after  1500  iterations is :  2.772351574320958  | validation loss is :  2.760030483820544\n",
      "Training loss after  2000  iterations is :  2.7109544320900842  | validation loss is :  2.702077541320007\n",
      "Training loss after  2500  iterations is :  2.6836015637894204  | validation loss is :  2.6771233644378216\n",
      "Training loss after  3000  iterations is :  2.6661212887028434  | validation loss is :  2.6611508193103237\n",
      "Training loss after  3500  iterations is :  2.6517118043630776  | validation loss is :  2.6477223479331418\n",
      "Training loss after  4000  iterations is :  2.6383966059324164  | validation loss is :  2.6351029501131373\n",
      "Training loss after  4500  iterations is :  2.6256030701009414  | validation loss is :  2.6228575632201148\n",
      "[[-0.32945345]\n",
      " [ 0.69697265]\n",
      " [-0.1716741 ]\n",
      " [-2.57492581]\n",
      " [ 3.95464629]\n",
      " [-2.50306545]\n",
      " [-2.51928857]\n",
      " [-0.58062344]]\n",
      "4.790241353260186\n",
      "Training loss after  0  iterations is :  10.472304506489806  | validation loss is :  10.325249558393917\n",
      "Training loss after  500  iterations is :  3.817765262309382  | validation loss is :  3.8052597184847285\n",
      "Training loss after  1000  iterations is :  2.9711439966763393  | validation loss is :  2.949217996942537\n",
      "Training loss after  1500  iterations is :  2.7725000873559993  | validation loss is :  2.7491554350056613\n",
      "Training loss after  2000  iterations is :  2.711323726562447  | validation loss is :  2.692605961347893\n",
      "Training loss after  2500  iterations is :  2.6838081156927553  | validation loss is :  2.6696170595674316\n",
      "Training loss after  3000  iterations is :  2.666089413573147  | validation loss is :  2.6551913014097166\n",
      "Training loss after  3500  iterations is :  2.651436576341388  | validation loss is :  2.6428646677981513\n",
      "Training loss after  4000  iterations is :  2.637886598193672  | validation loss is :  2.6310475396359694\n",
      "Training loss after  4500  iterations is :  2.6248686135963193  | validation loss is :  2.619424872886394\n",
      "[[-0.32371402]\n",
      " [ 0.71649207]\n",
      " [-0.1592735 ]\n",
      " [-2.55557089]\n",
      " [ 3.91505163]\n",
      " [-2.51043966]\n",
      " [-2.5654643 ]\n",
      " [-0.55687191]]\n",
      "4.811693413359124\n"
     ]
    }
   ],
   "source": [
    "models = k_fold_cross_validation(X,Y)"
   ]
  },
  {
   "cell_type": "code",
   "execution_count": 9,
   "metadata": {},
   "outputs": [
    {
     "data": {
      "image/png": "[encoded data removed]",
      "text/plain": [
       "<Figure size 432x288 with 1 Axes>"
      ]
     },
     "metadata": {
      "needs_background": "light"
     },
     "output_type": "display_data"
    }
   ],
   "source": [
    "plt.plot([x for x in range(2000)], models[0][2][0:2000], label = \"Training Loss\")\n",
    "plt.plot([x for x in range(2000)], models[0][3][0:2000], label = \"Validation Loss\")\n",
    "plt.xlabel('epochs')\n",
    "plt.ylabel('loss')\n",
    "plt.legend()\n",
    "plt.show()"
   ]
  },
  {
   "cell_type": "code",
   "execution_count": 10,
   "metadata": {},
   "outputs": [],
   "source": [
    "# print(models_mae)"
   ]
  },
  {
   "cell_type": "code",
   "execution_count": 11,
   "metadata": {},
   "outputs": [],
   "source": [
    "# print(models)"
   ]
  },
  {
   "cell_type": "code",
   "execution_count": 12,
   "metadata": {},
   "outputs": [
    {
     "name": "stdout",
     "output_type": "stream",
     "text": [
      "Stats for LR MAE Loss\n",
      "For CV number  0 the train loss =  1.8154860488343065  and the val loss =  1.918300876331445\n",
      "For CV number  1 the train loss =  1.8644249879386285  and the val loss =  1.730743942159198\n",
      "For CV number  2 the train loss =  1.8355944096266648  and the val loss =  1.8575910657606431\n",
      "For CV number  3 the train loss =  1.8323410233123605  and the val loss =  1.8564960965454207\n",
      "For CV number  4 the train loss =  1.8380789950308025  and the val loss =  1.830045064751558\n",
      "Stats for LR RMSE Loss\n",
      "For CV number  0 the train loss =  2.591625424755231  and the val loss =  2.6947594922692555\n",
      "For CV number  1 the train loss =  2.626115277754451  and the val loss =  2.554749834547914\n",
      "For CV number  2 the train loss =  2.6209200527078673  and the val loss =  2.59940653824036\n",
      "For CV number  3 the train loss =  2.6131898019080495  and the val loss =  2.6109189734995826\n",
      "For CV number  4 the train loss =  2.6122414743664772  and the val loss =  2.608003536929169\n"
     ]
    }
   ],
   "source": [
    "print(\"Stats for LR MAE Loss\")\n",
    "for i in range(len(models_mae)):\n",
    "    print(\"For CV number \",i, \"the train loss = \", models_mae[i][0], \" and the val loss = \", models_mae[i][1] )\n",
    "print(\"Stats for LR RMSE Loss\")\n",
    "for i in range(len(models)):\n",
    "    print(\"For CV number \",i, \"the train loss = \", models[i][0], \" and the val loss = \", models[i][1] )"
   ]
  },
  {
   "cell_type": "code",
   "execution_count": 13,
   "metadata": {},
   "outputs": [
    {
     "data": {
      "text/plain": [
       "' In both the cases we notice that FOLD 0 intern gives us the best validation loss, so we choose that as the best fold'"
      ]
     },
     "execution_count": 13,
     "metadata": {},
     "output_type": "execute_result"
    }
   ],
   "source": [
    "\"\"\" In both the cases we notice that FOLD 0 intern gives us the best validation loss, so we choose that as the best fold\"\"\""
   ]
  },
  {
   "cell_type": "code",
   "execution_count": 14,
   "metadata": {},
   "outputs": [
    {
     "data": {
      "image/png": "[encoded data removed]",
      "text/plain": [
       "<Figure size 432x288 with 1 Axes>"
      ]
     },
     "metadata": {
      "needs_background": "light"
     },
     "output_type": "display_data"
    }
   ],
   "source": [
    "plt.plot([x for x in range(3000)], models[2][2][0:3000], label = \"Training RMSE loss \" )\n",
    "plt.plot([x for x in range(3000)], models[2][3][0:3000], label = \"Validation RMSE loss\")\n",
    "plt.xlabel('epochs')\n",
    "plt.ylabel('loss')\n",
    "plt.legend()\n",
    "plt.show()"
   ]
  },
  {
   "cell_type": "code",
   "execution_count": 15,
   "metadata": {},
   "outputs": [
    {
     "data": {
      "image/png": "[encoded data removed]",
      "text/plain": [
       "<Figure size 432x288 with 1 Axes>"
      ]
     },
     "metadata": {
      "needs_background": "light"
     },
     "output_type": "display_data"
    }
   ],
   "source": [
    "plt.plot([x for x in range(3000)], models_mae[2][2][0:3000], label = \"Training MAE loss \" )\n",
    "plt.plot([x for x in range(3000)], models_mae[2][3][0:3000], label = \"Validation MAE loss\")\n",
    "plt.xlabel('epochs')\n",
    "plt.ylabel('loss')\n",
    "plt.legend()\n",
    "plt.show()"
   ]
  },
  {
   "cell_type": "code",
   "execution_count": 16,
   "metadata": {},
   "outputs": [
    {
     "data": {
      "text/plain": [
       "'LR on Video Game dataset '"
      ]
     },
     "execution_count": 16,
     "metadata": {},
     "output_type": "execute_result"
    }
   ],
   "source": [
    "\"\"\"LR on Video Game dataset \"\"\""
   ]
  },
  {
   "cell_type": "code",
   "execution_count": 17,
   "metadata": {},
   "outputs": [
    {
     "name": "stdout",
     "output_type": "stream",
     "text": [
      "[[-0.97591234  0.97591277]\n",
      " [-0.99248435  1.00849405]\n",
      " [-0.97591234  0.97591277]\n",
      " ...\n",
      " [-0.96723541  1.07161639]\n",
      " [-0.97591234  0.97591277]\n",
      " [-0.97591234  0.97591277]]\n",
      "[0.02 0.17 0.04 ... 0.2  1.08 0.07]\n"
     ]
    }
   ],
   "source": [
    "pp = MyPreProcessor()\n",
    "X,Y = pp.pre_process(1)\n",
    "print(X)\n",
    "print(np.squeeze(Y))"
   ]
  },
  {
   "cell_type": "code",
   "execution_count": 18,
   "metadata": {},
   "outputs": [
    {
     "name": "stdout",
     "output_type": "stream",
     "text": [
      "Training loss after  0  iterations is :  1.6720766203434176  | validation loss is :  1.4901019625547283\n",
      "Training loss after  500  iterations is :  1.5708706340696137  | validation loss is :  1.374951816947736\n",
      "Training loss after  1000  iterations is :  1.5675598622044205  | validation loss is :  1.3715971300374559\n",
      "Training loss after  1500  iterations is :  1.5648846075284322  | validation loss is :  1.3689050110870014\n",
      "Training loss after  2000  iterations is :  1.562719177517866  | validation loss is :  1.3667381289504785\n",
      "Training loss after  2500  iterations is :  1.560967918928971  | validation loss is :  1.3649968075020293\n",
      "Training loss after  3000  iterations is :  1.5595525868521307  | validation loss is :  1.3635996042500345\n",
      "Training loss after  3500  iterations is :  1.5584093638312317  | validation loss is :  1.362480169710715\n",
      "Training loss after  4000  iterations is :  1.5574863234060705  | validation loss is :  1.3615845972564042\n",
      "Training loss after  4500  iterations is :  1.5567412958295859  | validation loss is :  1.3608691887239859\n",
      "Training loss after  5000  iterations is :  1.5561400881564256  | validation loss is :  1.3602985884309353\n",
      "Training loss after  5500  iterations is :  1.5556550102447553  | validation loss is :  1.3598442365764838\n",
      "[[0.11792515]\n",
      " [0.77684777]]\n",
      "-0.10169984544406649\n",
      "Training loss after  0  iterations is :  1.6561622183403244  | validation loss is :  1.559610551800502\n",
      "Training loss after  500  iterations is :  1.5525809425249624  | validation loss is :  1.4558615447924386\n",
      "Training loss after  1000  iterations is :  1.5493664238189861  | validation loss is :  1.452398510990582\n",
      "Training loss after  1500  iterations is :  1.5467668584130017  | validation loss is :  1.4495440063765415\n",
      "Training loss after  2000  iterations is :  1.5446613240242375  | validation loss is :  1.447223519190934\n",
      "Training loss after  2500  iterations is :  1.5429573586820216  | validation loss is :  1.445338451072253\n",
      "Training loss after  3000  iterations is :  1.5415792932861598  | validation loss is :  1.443807591459807\n",
      "Training loss after  3500  iterations is :  1.5404653795873298  | validation loss is :  1.4425645496909631\n",
      "Training loss after  4000  iterations is :  1.5395653468108246  | validation loss is :  1.441555180170911\n",
      "Training loss after  4500  iterations is :  1.5388383456755022  | validation loss is :  1.4407354061999116\n",
      "Training loss after  5000  iterations is :  1.5382512334666734  | validation loss is :  1.440069400312561\n",
      "Training loss after  5500  iterations is :  1.5377771534076232  | validation loss is :  1.4395280737677465\n",
      "[[0.11146097]\n",
      " [0.77010896]]\n",
      "-0.09878878495646007\n",
      "Training loss after  0  iterations is :  1.7055129652882606  | validation loss is :  1.3299001242246737\n",
      "Training loss after  500  iterations is :  1.605642202027079  | validation loss is :  1.2040841593756675\n",
      "Training loss after  1000  iterations is :  1.602458875285677  | validation loss is :  1.2003395054108392\n",
      "Training loss after  1500  iterations is :  1.5998686587708777  | validation loss is :  1.1972884594410547\n",
      "Training loss after  2000  iterations is :  1.5977557507992355  | validation loss is :  1.194834265153905\n",
      "Training loss after  2500  iterations is :  1.5960335645818897  | validation loss is :  1.1928662173755642\n",
      "Training loss after  3000  iterations is :  1.5946307493660181  | validation loss is :  1.1912927206194814\n",
      "Training loss after  3500  iterations is :  1.593488668358131  | validation loss is :  1.1900386426946932\n",
      "Training loss after  4000  iterations is :  1.5925592401036963  | validation loss is :  1.189042556623142\n",
      "Training loss after  4500  iterations is :  1.591803109736207  | validation loss is :  1.1882543788334823\n",
      "Training loss after  5000  iterations is :  1.5911881126491398  | validation loss is :  1.1876333725422248\n",
      "Training loss after  5500  iterations is :  1.5906879923977817  | validation loss is :  1.1871464742797515\n",
      "[[0.11632988]\n",
      " [0.77355343]]\n",
      "-0.09737021473653952\n",
      "Training loss after  0  iterations is :  1.4475477684885134  | validation loss is :  2.241172552974136\n",
      "Training loss after  500  iterations is :  1.331993123381832  | validation loss is :  2.1579220716429983\n",
      "Training loss after  1000  iterations is :  1.3277826350209798  | validation loss is :  2.155334047687004\n",
      "Training loss after  1500  iterations is :  1.3244833878918145  | validation loss is :  2.153348506155025\n",
      "Training loss after  2000  iterations is :  1.3219016242573283  | validation loss is :  2.15180192869574\n",
      "Training loss after  2500  iterations is :  1.3198841768007703  | validation loss is :  2.1505990290804484\n",
      "Training loss after  3000  iterations is :  1.3183094290905035  | validation loss is :  2.1496646927748166\n",
      "Training loss after  3500  iterations is :  1.317081268125808  | validation loss is :  2.1489398299563494\n",
      "Training loss after  4000  iterations is :  1.3161240146333544  | validation loss is :  2.1483780968940027\n",
      "Training loss after  4500  iterations is :  1.3153782497370632  | validation loss is :  2.1479432342242992\n",
      "Training loss after  5000  iterations is :  1.3147974257855428  | validation loss is :  2.1476069276559375\n",
      "Training loss after  5500  iterations is :  1.3143451419626568  | validation loss is :  2.147347101948438\n",
      "[[0.1410934 ]\n",
      " [0.81433916]]\n",
      "-0.12487737581346908\n",
      "Training loss after  0  iterations is :  1.69130666955088  | validation loss is :  1.4006065841163025\n",
      "Training loss after  500  iterations is :  1.59044715842744  | validation loss is :  1.28323879420058\n",
      "Training loss after  1000  iterations is :  1.5875628804698991  | validation loss is :  1.2789043137684397\n",
      "Training loss after  1500  iterations is :  1.585214357420253  | validation loss is :  1.275266455756893\n",
      "Training loss after  2000  iterations is :  1.583297018177664  | validation loss is :  1.2722468829113514\n",
      "Training loss after  2500  iterations is :  1.5817328116196097  | validation loss is :  1.269739702567536\n",
      "Training loss after  3000  iterations is :  1.5804574262805624  | validation loss is :  1.2676564121157683\n",
      "Training loss after  3500  iterations is :  1.579418002261605  | validation loss is :  1.2659236285747468\n",
      "Training loss after  4000  iterations is :  1.5785711800277598  | validation loss is :  1.26448063262698\n",
      "Training loss after  4500  iterations is :  1.5778814516921604  | validation loss is :  1.263277259525091\n",
      "Training loss after  5000  iterations is :  1.5773197784136397  | validation loss is :  1.2622721093334375\n",
      "Training loss after  5500  iterations is :  1.5768624379245173  | validation loss is :  1.261431039869037\n",
      "[[0.09945978]\n",
      " [0.74664612]]\n",
      "-0.08732498867172513\n"
     ]
    }
   ],
   "source": [
    "video_game_model_rmse = k_fold_cross_validation(X,Y, epochs = 6000, learning_rate = 0.005)"
   ]
  },
  {
   "cell_type": "code",
   "execution_count": 19,
   "metadata": {},
   "outputs": [
    {
     "data": {
      "image/png": "[encoded data removed]",
      "text/plain": [
       "<Figure size 432x288 with 1 Axes>"
      ]
     },
     "metadata": {
      "needs_background": "light"
     },
     "output_type": "display_data"
    }
   ],
   "source": [
    "plt.plot([x for x in range(6000)], video_game_model_rmse[4][2][0:6000], label = \"Training RMSE loss \" )\n",
    "plt.plot([x for x in range(6000)], video_game_model_rmse[4][3][0:6000], label = \"Validation RMSE loss\")\n",
    "plt.xlabel('epochs')\n",
    "plt.ylabel('loss')\n",
    "plt.legend()\n",
    "plt.show()"
   ]
  },
  {
   "cell_type": "code",
   "execution_count": 20,
   "metadata": {},
   "outputs": [
    {
     "name": "stdout",
     "output_type": "stream",
     "text": [
      "Training loss after  0  iterations is :  0.5324112149532709  | validation loss is :  0.5380825605743345\n",
      "Training loss after  500  iterations is :  0.4591365265223259  | validation loss is :  0.46210657591142895\n",
      "Training loss after  1000  iterations is :  0.45881233412489897  | validation loss is :  0.4618220939109372\n",
      "Training loss after  1500  iterations is :  0.45875232078631756  | validation loss is :  0.46173045842031635\n",
      "Training loss after  2000  iterations is :  0.4587392482624125  | validation loss is :  0.4617030149498357\n",
      "Training loss after  2500  iterations is :  0.4587355455393963  | validation loss is :  0.461694312586966\n",
      "Training loss after  3000  iterations is :  0.45873394033345477  | validation loss is :  0.4616891705317162\n",
      "Training loss after  3500  iterations is :  0.4587324851475629  | validation loss is :  0.4616870918522605\n",
      "Training loss after  4000  iterations is :  0.4587311270801446  | validation loss is :  0.4616861967324472\n",
      "Training loss after  4500  iterations is :  0.4587297943601798  | validation loss is :  0.4616855346570147\n",
      "[[-0.0267181 ]\n",
      " [ 0.15358051]]\n",
      "0.008649861267302626\n",
      "Training loss after  0  iterations is :  0.5371222429906541  | validation loss is :  0.5193389171402932\n",
      "Training loss after  500  iterations is :  0.4633226194861201  | validation loss is :  0.4453545902275811\n",
      "Training loss after  1000  iterations is :  0.46299068482601924  | validation loss is :  0.445122712887986\n",
      "Training loss after  1500  iterations is :  0.46291884521512666  | validation loss is :  0.44509089280218617\n",
      "Training loss after  2000  iterations is :  0.4629002449513385  | validation loss is :  0.44510496805953065\n",
      "Training loss after  2500  iterations is :  0.4628955295336428  | validation loss is :  0.4451147265740196\n",
      "Training loss after  3000  iterations is :  0.4628916499399283  | validation loss is :  0.4451269594338346\n",
      "Training loss after  3500  iterations is :  0.46288812187985756  | validation loss is :  0.4451363953243009\n",
      "Training loss after  4000  iterations is :  0.462885974906857  | validation loss is :  0.44514396526334155\n",
      "Training loss after  4500  iterations is :  0.4628850659577394  | validation loss is :  0.4451454130225776\n",
      "[[-0.02045055]\n",
      " [ 0.16408788]]\n",
      "0.008478655459588758\n",
      "Training loss after  0  iterations is :  0.5350684112149532  | validation loss is :  0.5275680526473228\n",
      "Training loss after  500  iterations is :  0.46125541726599567  | validation loss is :  0.4538301659301468\n",
      "Training loss after  1000  iterations is :  0.4609384751466389  | validation loss is :  0.4534310556539988\n",
      "Training loss after  1500  iterations is :  0.46087836124979525  | validation loss is :  0.4533197763187272\n",
      "Training loss after  2000  iterations is :  0.46086538030294916  | validation loss is :  0.4532832371727399\n",
      "Training loss after  2500  iterations is :  0.4608623946235393  | validation loss is :  0.4532690809905271\n",
      "Training loss after  3000  iterations is :  0.4608610593431956  | validation loss is :  0.45325945495252323\n",
      "Training loss after  3500  iterations is :  0.4608601415388729  | validation loss is :  0.45325529957131644\n",
      "Training loss after  4000  iterations is :  0.4608594095425149  | validation loss is :  0.453253459223412\n",
      "Training loss after  4500  iterations is :  0.4608586867491246  | validation loss is :  0.4532506944663483\n",
      "[[-0.02399745]\n",
      " [ 0.15487466]]\n",
      "0.013226262573127513\n",
      "Training loss after  0  iterations is :  0.525363738317757  | validation loss is :  0.5663266527071493\n",
      "Training loss after  500  iterations is :  0.45081388058925115  | validation loss is :  0.49564466810120356\n",
      "Training loss after  1000  iterations is :  0.4504706744618441  | validation loss is :  0.49529433772938497\n",
      "Training loss after  1500  iterations is :  0.45039829916379154  | validation loss is :  0.49521786953222\n",
      "Training loss after  2000  iterations is :  0.45037940824425426  | validation loss is :  0.49522227085675335\n",
      "Training loss after  2500  iterations is :  0.4503703049106355  | validation loss is :  0.4952202232459866\n",
      "Training loss after  3000  iterations is :  0.4503674774634319  | validation loss is :  0.49521576009795204\n",
      "Training loss after  3500  iterations is :  0.4503666168382593  | validation loss is :  0.49521458248516176\n",
      "Training loss after  4000  iterations is :  0.45036613684712395  | validation loss is :  0.49521091142215984\n",
      "Training loss after  4500  iterations is :  0.4503651387250777  | validation loss is :  0.49521348700651086\n",
      "[[-0.02262636]\n",
      " [ 0.16061094]]\n",
      "0.011173379680702523\n",
      "Training loss after  0  iterations is :  0.5378093457943925  | validation loss is :  0.5165868979958121\n",
      "Training loss after  500  iterations is :  0.46420557340529117  | validation loss is :  0.4420038428828051\n",
      "Training loss after  1000  iterations is :  0.46386016142929515  | validation loss is :  0.4416835517220958\n",
      "Training loss after  1500  iterations is :  0.46378091621931533  | validation loss is :  0.4416373002192834\n",
      "Training loss after  2000  iterations is :  0.4637625968322728  | validation loss is :  0.44164086739306796\n",
      "Training loss after  2500  iterations is :  0.4637581807167981  | validation loss is :  0.4416465195514273\n",
      "Training loss after  3000  iterations is :  0.46375592373601804  | validation loss is :  0.4416512094682281\n",
      "Training loss after  3500  iterations is :  0.4637543440049831  | validation loss is :  0.44165391724755837\n",
      "Training loss after  4000  iterations is :  0.46375341930537783  | validation loss is :  0.4416544711126346\n",
      "Training loss after  4500  iterations is :  0.4637527020476799  | validation loss is :  0.4416533188762392\n",
      "[[-0.02044364]\n",
      " [ 0.159822  ]]\n",
      "0.009938624654684067\n"
     ]
    }
   ],
   "source": [
    "video_game_model_mae = k_fold_cross_validation(X,Y, learning_rate = 0.005,loss = \"mae\")"
   ]
  },
  {
   "cell_type": "code",
   "execution_count": 21,
   "metadata": {},
   "outputs": [
    {
     "data": {
      "image/png": "[encoded data removed]",
      "text/plain": [
       "<Figure size 432x288 with 1 Axes>"
      ]
     },
     "metadata": {
      "needs_background": "light"
     },
     "output_type": "display_data"
    }
   ],
   "source": [
    "plt.plot([x for x in range(5000)], video_game_model_mae[4][2][0:5000], label = \"Training MAE loss \" )\n",
    "plt.plot([x for x in range(5000)], video_game_model_mae[4][3][0:5000], label = \"Validation MAE loss\")\n",
    "plt.xlabel('epochs')\n",
    "plt.ylabel('loss')\n",
    "plt.legend()\n",
    "plt.show()"
   ]
  },
  {
   "cell_type": "code",
   "execution_count": 22,
   "metadata": {},
   "outputs": [
    {
     "name": "stdout",
     "output_type": "stream",
     "text": [
      "Stats for LR MAE Loss\n",
      "For CV number  0 the train loss =  0.4587285031678176  and the val loss =  0.4616859569855576\n",
      "For CV number  1 the train loss =  0.4628843424028088  and the val loss =  0.44514466334031044\n",
      "For CV number  2 the train loss =  0.46085799755101275  and the val loss =  0.45324780342575444\n",
      "For CV number  3 the train loss =  0.4503644710456873  and the val loss =  0.4952126946018925\n",
      "For CV number  4 the train loss =  0.46375203018353467  and the val loss =  0.4416521151477615\n",
      "Stats for LR RMSE Loss\n",
      "For CV number  0 the train loss =  1.555264362667496  and the val loss =  1.3594837372447541\n",
      "For CV number  1 the train loss =  1.5373950509885315  and the val loss =  1.4390886228137543\n",
      "For CV number  2 the train loss =  1.590282068638485  and the val loss =  1.186767567960224\n",
      "For CV number  3 the train loss =  1.3139935912660867  and the val loss =  2.1471469198775943\n",
      "For CV number  4 the train loss =  1.5764907394603682  and the val loss =  1.2607271961599797\n"
     ]
    }
   ],
   "source": [
    "print(\"Stats for LR MAE Loss\")\n",
    "for i in range(len(video_game_model_mae)):\n",
    "    print(\"For CV number \",i, \"the train loss = \", video_game_model_mae[i][0], \" and the val loss = \", video_game_model_mae[i][1] )\n",
    "print(\"Stats for LR RMSE Loss\")\n",
    "for i in range(len(video_game_model_rmse)):\n",
    "    print(\"For CV number \",i, \"the train loss = \", video_game_model_rmse[i][0], \" and the val loss = \", video_game_model_rmse[i][1] )"
   ]
  },
  {
   "cell_type": "code",
   "execution_count": null,
   "metadata": {},
   "outputs": [],
   "source": []
  }
 ],
 "metadata": {
  "kernelspec": {
   "display_name": "Python 3",
   "language": "python",
   "name": "python3"
  },
  "language_info": {
   "codemirror_mode": {
    "name": "ipython",
    "version": 3
   },
   "file_extension": ".py",
   "mimetype": "text/x-python",
   "name": "python",
   "nbconvert_exporter": "python",
   "pygments_lexer": "ipython3",
   "version": "3.7.4"
  }
 },
 "nbformat": 4,
 "nbformat_minor": 2
}
