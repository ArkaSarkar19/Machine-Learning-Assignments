{
 "cells": [
  {
   "cell_type": "code",
   "execution_count": 1,
   "metadata": {},
   "outputs": [
    {
     "name": "stdout",
     "output_type": "stream",
     "text": [
      "Linear Regression\n",
      "Training loss after  0  iterations is  1.5811388300841898\n",
      "Training loss after  500  iterations is  0.11515089871796896\n",
      "Training loss after  1000  iterations is  0.11515089872154656\n",
      "Training loss after  1500  iterations is  0.11515089872154524\n",
      "Training loss after  2000  iterations is  0.11515089872154423\n",
      "Training loss after  2500  iterations is  0.11515089872154423\n",
      "Training loss after  3000  iterations is  0.11515089872154423\n",
      "Training loss after  3500  iterations is  0.11515089872154423\n",
      "Training loss after  4000  iterations is  0.11515089872154423\n",
      "Training loss after  4500  iterations is  0.11515089872154423\n",
      "Predicted Values: [[2.76462962]\n",
      " [2.76462962]]\n",
      "True Values: [3]\n"
     ]
    }
   ],
   "source": [
    "import numpy as np\n",
    "import pandas as pd\n",
    "from scratch import *"
   ]
  },
  {
   "cell_type": "code",
   "execution_count": 2,
   "metadata": {},
   "outputs": [
    {
     "data": {
      "text/plain": [
       "' Running Linear Regression on Alabone dataset '"
      ]
     },
     "execution_count": 2,
     "metadata": {},
     "output_type": "execute_result"
    }
   ],
   "source": [
    "\"\"\" Running Linear Regression on Alabone dataset \"\"\""
   ]
  },
  {
   "cell_type": "code",
   "execution_count": 3,
   "metadata": {},
   "outputs": [
    {
     "name": "stdout",
     "output_type": "stream",
     "text": [
      "[[ 2.13626242  0.00849443 -0.19450817 ... -0.33811371 -0.55916099\n",
      "  -0.53284584]\n",
      " [ 3.63998538 -0.09676618 -0.28473155 ... -0.57043891 -0.70051095\n",
      "  -0.53510142]\n",
      " [ 3.63998538 -0.11180341 -0.28473155 ... -0.46968947 -0.65765484\n",
      "  -0.61254316]\n",
      " ...\n",
      " [ 0.63253946  0.0460875  -0.1569151  ... -0.18473397 -0.52833467\n",
      "  -0.4711932 ]\n",
      " [ 2.13626242 -0.14939648 -0.31480601 ... -0.49901207 -0.6448732\n",
      "  -0.63133969]\n",
      " [ 0.63253946  0.06864335 -0.1569151  ... -0.11857016 -0.51705675\n",
      "  -0.40427753]]\n",
      "[[ 6.]\n",
      " [12.]\n",
      " [ 7.]\n",
      " ...\n",
      " [10.]\n",
      " [15.]\n",
      " [10.]]\n"
     ]
    }
   ],
   "source": [
    "pp = MyPreProcessor()\n",
    "X,Y = pp.pre_process(0)\n",
    "print(X)\n",
    "print(Y)"
   ]
  },
  {
   "cell_type": "code",
   "execution_count": 4,
   "metadata": {},
   "outputs": [],
   "source": [
    "def k_fold_cross_validation(X, y, k=5, loss = \"rmse\", epochs = 8000, learning_rate = 0.01):\n",
    "    \"\"\" Performs K fold cross validation\n",
    "    Parameters\n",
    "    ----------\n",
    "    model : instance of the model to be used\n",
    "    X : 2-dimensional numpy array of shape (n_samples, n_features) which acts as data.\n",
    "    y : 1-dimensional numpy array of shape (n_samples,) which acts as labels.\n",
    "    k : number of folds, default = 5\n",
    "    \n",
    "    Returns\n",
    "    -------\n",
    "    model : instance of model\n",
    "    \"\"\"\n",
    "    m = X.shape[0]  #number of examples\n",
    "    fold_size = int(m/k)\n",
    "    start = 0\n",
    "    end = fold_size\n",
    "    models = {}\n",
    "    for i in range(k):\n",
    "        Xtrain_i = np.concatenate((X[0:start], X[end+1:]))\n",
    "        ytrain_i = np.concatenate((y[0:start],y[end+1:]))\n",
    "        X_test =  X[start:end]\n",
    "        y_test = y[start:end]\n",
    "        model = MyLinearRegression()\n",
    "        model.fit(Xtrain_i,ytrain_i,X_test,y_test,epochs,learning_rate, loss)\n",
    "        if(loss == \"rmse\"):\n",
    "            models[i] = (model.rmse_train_history[-1], model.rmse_val_history[-1], np.array(model.rmse_train_history), np.array(model.rmse_val_history))\n",
    "        if(loss == \"mae\"):\n",
    "            models[i] = (model.mae_train_history[-1], model.mae_val_history[-1], np.array(model.mae_train_history), np.array(model.mae_val_history))\n",
    "        print(model.W)\n",
    "        print(model.b)\n",
    "        start+=fold_size\n",
    "        end+=fold_size\n",
    "        \n",
    "    avg_train = 0\n",
    "    avg_val  = 0\n",
    "    for i in range(len(models)):\n",
    "        avg_train+=models[i][2]\n",
    "        avg_val+=models[i][3]\n",
    "            \n",
    "    \n",
    "    avg_train = avg_train/k\n",
    "    avg_val = avg_val/k\n",
    "    return models, avg_train, avg_val\n",
    "    "
   ]
  },
  {
   "cell_type": "code",
   "execution_count": 5,
   "metadata": {},
   "outputs": [
    {
     "name": "stdout",
     "output_type": "stream",
     "text": [
      "Training loss after  0  iterations is :  10.010778443113772  | validation loss is :  9.58557563567932\n",
      "Training loss after  500  iterations is :  4.076473613954244  | validation loss is :  3.756176296263115\n",
      "Training loss after  1000  iterations is :  2.993752467628635  | validation loss is :  2.7192348703848848\n",
      "Training loss after  1500  iterations is :  2.366216971006298  | validation loss is :  2.109684313771774\n",
      "Training loss after  2000  iterations is :  2.1138841422559214  | validation loss is :  1.890657082873696\n",
      "Training loss after  2500  iterations is :  2.016314135754149  | validation loss is :  1.8118548994074004\n",
      "Training loss after  3000  iterations is :  1.9738916340431105  | validation loss is :  1.7716702333150711\n",
      "Training loss after  3500  iterations is :  1.9524904257632094  | validation loss is :  1.7493895153068941\n",
      "Training loss after  4000  iterations is :  1.9397951285148043  | validation loss is :  1.7367189112074475\n",
      "Training loss after  4500  iterations is :  1.931292905332976  | validation loss is :  1.7289735514813924\n",
      "Training loss after  5000  iterations is :  1.9245665126781992  | validation loss is :  1.72272366995494\n",
      "Training loss after  5500  iterations is :  1.9185289093031768  | validation loss is :  1.7172235797589788\n",
      "Training loss after  6000  iterations is :  1.9129961819283698  | validation loss is :  1.712521851059885\n",
      "Training loss after  6500  iterations is :  1.9076745889155287  | validation loss is :  1.708018329579347\n",
      "Training loss after  7000  iterations is :  1.9025727365938054  | validation loss is :  1.7035629373189676\n",
      "Training loss after  7500  iterations is :  1.8976340726948648  | validation loss is :  1.6994269151813122\n",
      "[[-0.26002425]\n",
      " [ 0.63342557]\n",
      " [-0.22116586]\n",
      " [-2.47885619]\n",
      " [ 3.58080428]\n",
      " [-1.7140762 ]\n",
      " [-2.23248078]\n",
      " [-0.97390448]]\n",
      "4.452146128619716\n",
      "Training loss after  0  iterations is :  9.903592814371258  | validation loss is :  10.003856788161212\n",
      "Training loss after  500  iterations is :  4.007053928754379  | validation loss is :  4.104906577778887\n",
      "Training loss after  1000  iterations is :  2.927190709147677  | validation loss is :  3.0083996977650767\n",
      "Training loss after  1500  iterations is :  2.302250780021174  | validation loss is :  2.3853117690295185\n",
      "Training loss after  2000  iterations is :  2.059583232795363  | validation loss is :  2.1346128866208396\n",
      "Training loss after  2500  iterations is :  1.9669029088635586  | validation loss is :  2.032686690787023\n",
      "Training loss after  3000  iterations is :  1.923160942892664  | validation loss is :  1.9856346290289033\n",
      "Training loss after  3500  iterations is :  1.899350327120151  | validation loss is :  1.9629500366359556\n",
      "Training loss after  4000  iterations is :  1.8858524367141158  | validation loss is :  1.9494536299255922\n",
      "Training loss after  4500  iterations is :  1.8773276838251234  | validation loss is :  1.940962893696034\n",
      "Training loss after  5000  iterations is :  1.8705060077128273  | validation loss is :  1.9345613878156385\n",
      "Training loss after  5500  iterations is :  1.8646678920865678  | validation loss is :  1.9284545683922376\n",
      "Training loss after  6000  iterations is :  1.8594622166207204  | validation loss is :  1.9228489549714949\n",
      "Training loss after  6500  iterations is :  1.8544505437582395  | validation loss is :  1.9176980247906126\n",
      "Training loss after  7000  iterations is :  1.8495435138645153  | validation loss is :  1.912660002974668\n",
      "Training loss after  7500  iterations is :  1.8448267321000076  | validation loss is :  1.9078361078071306\n",
      "[[-0.25513784]\n",
      " [ 0.681259  ]\n",
      " [-0.19076067]\n",
      " [-2.47802887]\n",
      " [ 3.54058269]\n",
      " [-1.66266577]\n",
      " [-2.23781595]\n",
      " [-1.01844039]]\n",
      "4.441553214995995\n",
      "Training loss after  0  iterations is :  9.925449101796406  | validation loss is :  9.931537386791996\n",
      "Training loss after  500  iterations is :  4.0263206877666216  | validation loss is :  3.9436356674145228\n",
      "Training loss after  1000  iterations is :  2.9367623812148147  | validation loss is :  2.9080156620498174\n",
      "Training loss after  1500  iterations is :  2.3090380040544165  | validation loss is :  2.3048520165116018\n",
      "Training loss after  2000  iterations is :  2.065484290772883  | validation loss is :  2.0677806182758958\n",
      "Training loss after  2500  iterations is :  1.9709581718353586  | validation loss is :  1.9815517658088042\n",
      "Training loss after  3000  iterations is :  1.9281907124251016  | validation loss is :  1.9413079707786716\n",
      "Training loss after  3500  iterations is :  1.9067211988616168  | validation loss is :  1.9234010185628334\n",
      "Training loss after  4000  iterations is :  1.8953201759343048  | validation loss is :  1.913329175793925\n",
      "Training loss after  4500  iterations is :  1.887507292588314  | validation loss is :  1.9058326044164475\n",
      "Training loss after  5000  iterations is :  1.8809539833200841  | validation loss is :  1.8996068305564642\n",
      "Training loss after  5500  iterations is :  1.8751289288052686  | validation loss is :  1.8946587351836766\n",
      "Training loss after  6000  iterations is :  1.869791250108528  | validation loss is :  1.89007796474455\n",
      "Training loss after  6500  iterations is :  1.86470424105444  | validation loss is :  1.8855629854318927\n",
      "Training loss after  7000  iterations is :  1.8599242632775659  | validation loss is :  1.8809559518462031\n",
      "Training loss after  7500  iterations is :  1.855329222498636  | validation loss is :  1.8764470104979185\n",
      "[[-0.26331505]\n",
      " [ 0.66591576]\n",
      " [-0.19272228]\n",
      " [-2.46278484]\n",
      " [ 3.46054111]\n",
      " [-1.67307172]\n",
      " [-2.26286943]\n",
      " [-1.01839882]]\n",
      "4.4247500541594365\n",
      "Training loss after  0  iterations is :  9.953592814371257  | validation loss is :  9.81577056347949\n",
      "Training loss after  500  iterations is :  4.007363927045168  | validation loss is :  4.030155399711485\n",
      "Training loss after  1000  iterations is :  2.9396387500449044  | validation loss is :  2.958686460685128\n",
      "Training loss after  1500  iterations is :  2.3304680047022304  | validation loss is :  2.3167573819436087\n",
      "Training loss after  2000  iterations is :  2.087573211646992  | validation loss is :  2.0518022531149476\n",
      "Training loss after  2500  iterations is :  1.9925092057281342  | validation loss is :  1.944443500197439\n",
      "Training loss after  3000  iterations is :  1.94640635767213  | validation loss is :  1.8972613490063497\n",
      "Training loss after  3500  iterations is :  1.9228107455914294  | validation loss is :  1.8733413028067327\n",
      "Training loss after  4000  iterations is :  1.9098275632590314  | validation loss is :  1.8598070006492136\n",
      "Training loss after  4500  iterations is :  1.9009568118260376  | validation loss is :  1.852001710345004\n",
      "Training loss after  5000  iterations is :  1.893739977809456  | validation loss is :  1.846010440719371\n",
      "Training loss after  5500  iterations is :  1.887646254125602  | validation loss is :  1.8406569030156053\n",
      "Training loss after  6000  iterations is :  1.8823329715538661  | validation loss is :  1.8357382389791042\n",
      "Training loss after  6500  iterations is :  1.8772601140870206  | validation loss is :  1.830967530688411\n",
      "Training loss after  7000  iterations is :  1.872251723055463  | validation loss is :  1.8263834182615926\n",
      "Training loss after  7500  iterations is :  1.8673740985205096  | validation loss is :  1.8218790703251073\n",
      "[[-0.25461641]\n",
      " [ 0.66350784]\n",
      " [-0.19882795]\n",
      " [-2.47966939]\n",
      " [ 3.51459297]\n",
      " [-1.68752998]\n",
      " [-2.23476891]\n",
      " [-1.00197035]]\n",
      "4.430638781743608\n",
      "Training loss after  0  iterations is :  9.867664670658682  | validation loss is :  10.158893175265959\n",
      "Training loss after  500  iterations is :  3.990195451092879  | validation loss is :  4.27375688702647\n",
      "Training loss after  1000  iterations is :  2.9158648147679496  | validation loss is :  3.128575131048927\n",
      "Training loss after  1500  iterations is :  2.2866307977462865  | validation loss is :  2.4855227862734255\n",
      "Training loss after  2000  iterations is :  2.038760184665087  | validation loss is :  2.230133198649095\n",
      "Training loss after  2500  iterations is :  1.9436105008799978  | validation loss is :  2.1314139007305553\n",
      "Training loss after  3000  iterations is :  1.899761010347701  | validation loss is :  2.087256405250822\n",
      "Training loss after  3500  iterations is :  1.877764742685246  | validation loss is :  2.063118866849031\n",
      "Training loss after  4000  iterations is :  1.8648956754529062  | validation loss is :  2.048992265712653\n"
     ]
    },
    {
     "name": "stdout",
     "output_type": "stream",
     "text": [
      "Training loss after  4500  iterations is :  1.856794608967834  | validation loss is :  2.0397955059253805\n",
      "Training loss after  5000  iterations is :  1.8505365118821946  | validation loss is :  2.0321823786517057\n",
      "Training loss after  5500  iterations is :  1.8450974662155273  | validation loss is :  2.025244696893946\n",
      "Training loss after  6000  iterations is :  1.840144211765567  | validation loss is :  2.0190516866164425\n",
      "Training loss after  6500  iterations is :  1.8355080547645106  | validation loss is :  2.0133277315169065\n",
      "Training loss after  7000  iterations is :  1.8309167882356543  | validation loss is :  2.007724259287326\n",
      "Training loss after  7500  iterations is :  1.8264632342053824  | validation loss is :  2.0024761873061907\n",
      "[[-0.24972658]\n",
      " [ 0.6489376 ]\n",
      " [-0.21598711]\n",
      " [-2.50195269]\n",
      " [ 3.53961531]\n",
      " [-1.62799498]\n",
      " [-2.2225938 ]\n",
      " [-1.019797  ]]\n",
      "4.425283097134518\n"
     ]
    }
   ],
   "source": [
    "models_mae,avg_train_loss, avg_val_loss = k_fold_cross_validation(X,Y, learning_rate = 0.005, loss = \"mae\")\n"
   ]
  },
  {
   "cell_type": "code",
   "execution_count": 6,
   "metadata": {},
   "outputs": [],
   "source": [
    "import matplotlib.pyplot as plt"
   ]
  },
  {
   "cell_type": "code",
   "execution_count": 7,
   "metadata": {},
   "outputs": [
    {
     "data": {
      "image/png": "[encoded data removed]",
      "text/plain": [
       "<Figure size 432x288 with 1 Axes>"
      ]
     },
     "metadata": {
      "needs_background": "light"
     },
     "output_type": "display_data"
    }
   ],
   "source": [
    "plt.plot([x for x in range(len(avg_val_loss))],avg_val_loss, label = \"Average Validation Loss\")\n",
    "plt.plot([x for x in range(len(avg_train_loss))], avg_train_loss, label = \"Average Training Loss\")\n",
    "plt.xlabel('epochs')\n",
    "plt.ylabel('loss')\n",
    "plt.legend()\n",
    "plt.show()"
   ]
  },
  {
   "cell_type": "code",
   "execution_count": 8,
   "metadata": {},
   "outputs": [
    {
     "name": "stdout",
     "output_type": "stream",
     "text": [
      "Training loss after  0  iterations is :  10.536193679195014  | validation loss is :  10.003265851912946\n",
      "Training loss after  500  iterations is :  3.891438129249002  | validation loss is :  3.497244158937672\n",
      "Training loss after  1000  iterations is :  3.0304417326909006  | validation loss is :  2.6802358029353255\n",
      "Training loss after  1500  iterations is :  2.82558999429007  | validation loss is :  2.515545662469618\n",
      "Training loss after  2000  iterations is :  2.7631191613037553  | validation loss is :  2.470900904864282\n",
      "Training loss after  2500  iterations is :  2.7352252717453367  | validation loss is :  2.4512450123906726\n",
      "Training loss after  3000  iterations is :  2.717346787676429  | validation loss is :  2.4379032539606946\n",
      "Training loss after  3500  iterations is :  2.7026024865091345  | validation loss is :  2.426068659466425\n",
      "Training loss after  4000  iterations is :  2.68898371211899  | validation loss is :  2.414559720350484\n",
      "Training loss after  4500  iterations is :  2.675904385481728  | validation loss is :  2.4031739421531744\n",
      "Training loss after  5000  iterations is :  2.6631933250183013  | validation loss is :  2.391934579242403\n",
      "Training loss after  5500  iterations is :  2.6507993645561485  | validation loss is :  2.380892713858092\n",
      "Training loss after  6000  iterations is :  2.6387057276566135  | validation loss is :  2.370085897666851\n",
      "Training loss after  6500  iterations is :  2.6269053534435636  | validation loss is :  2.3595359048338644\n",
      "Training loss after  7000  iterations is :  2.6153938384371505  | validation loss is :  2.3492535318185577\n",
      "Training loss after  7500  iterations is :  2.6041674340620182  | validation loss is :  2.339242944962685\n",
      "[[-0.33096586]\n",
      " [ 1.01698937]\n",
      " [ 0.1585133 ]\n",
      " [-2.37283916]\n",
      " [ 4.15074222]\n",
      " [-3.63160327]\n",
      " [-2.68020046]\n",
      " [ 0.20718599]]\n",
      "4.956995644567624\n",
      "Training loss after  0  iterations is :  10.404110196553857  | validation loss is :  10.524961925905842\n",
      "Training loss after  500  iterations is :  3.7871888352357876  | validation loss is :  3.9117688356280955\n",
      "Training loss after  1000  iterations is :  2.9285544962445518  | validation loss is :  3.0807038589298132\n",
      "Training loss after  1500  iterations is :  2.731734875442034  | validation loss is :  2.8916645148488187\n",
      "Training loss after  2000  iterations is :  2.673313864544158  | validation loss is :  2.8339795939857093\n",
      "Training loss after  2500  iterations is :  2.6476164994093  | validation loss is :  2.807451541108078\n",
      "Training loss after  3000  iterations is :  2.631200960498166  | validation loss is :  2.789744885700816\n",
      "Training loss after  3500  iterations is :  2.6176357629364135  | validation loss is :  2.7747197329893956\n",
      "Training loss after  4000  iterations is :  2.6050847105903516  | validation loss is :  2.760643142049379\n",
      "Training loss after  4500  iterations is :  2.5930237157635756  | validation loss is :  2.7470335265186043\n",
      "Training loss after  5000  iterations is :  2.581302724652182  | validation loss is :  2.7337597285326005\n",
      "Training loss after  5500  iterations is :  2.5698774488061256  | validation loss is :  2.72078631793492\n",
      "Training loss after  6000  iterations is :  2.558733231707729  | validation loss is :  2.708102985793663\n",
      "Training loss after  6500  iterations is :  2.5478636019030105  | validation loss is :  2.695705500462134\n",
      "Training loss after  7000  iterations is :  2.537264274743245  | validation loss is :  2.683590804744063\n",
      "Training loss after  7500  iterations is :  2.526931488787777  | validation loss is :  2.6717558687886807\n",
      "[[-0.32474083]\n",
      " [ 1.0925285 ]\n",
      " [ 0.19906315]\n",
      " [-2.36594331]\n",
      " [ 4.0604558 ]\n",
      " [-3.48758277]\n",
      " [-2.65569134]\n",
      " [ 0.06512237]]\n",
      "4.9200169819657456\n",
      "Training loss after  0  iterations is :  10.432144588653038  | validation loss is :  10.431721287708582\n",
      "Training loss after  500  iterations is :  3.8144197730974243  | validation loss is :  3.7967619219013025\n",
      "Training loss after  1000  iterations is :  2.9688468626448232  | validation loss is :  2.9433239847782113\n",
      "Training loss after  1500  iterations is :  2.7715894134361645  | validation loss is :  2.745358202806168\n",
      "Training loss after  2000  iterations is :  2.7112689292975802  | validation loss is :  2.690963613361544\n",
      "Training loss after  2500  iterations is :  2.684325680607714  | validation loss is :  2.6690548667765412\n",
      "Training loss after  3000  iterations is :  2.6670038913910052  | validation loss is :  2.6549070229429046\n",
      "Training loss after  3500  iterations is :  2.6526654627219024  | validation loss is :  2.6424423637167886\n",
      "Training loss after  4000  iterations is :  2.6393972119145412  | validation loss is :  2.6302888975905616\n",
      "Training loss after  4500  iterations is :  2.6266492491152746  | validation loss is :  2.6182342960181426\n",
      "Training loss after  5000  iterations is :  2.614263184563481  | validation loss is :  2.6063095193675023\n",
      "Training loss after  5500  iterations is :  2.602192049919212  | validation loss is :  2.594570141201819\n",
      "Training loss after  6000  iterations is :  2.590420278425366  | validation loss is :  2.5830554157669776\n",
      "Training loss after  6500  iterations is :  2.5789410213777444  | validation loss is :  2.5717876745669885\n",
      "Training loss after  7000  iterations is :  2.567749766003699  | validation loss is :  2.5607779427766117\n",
      "Training loss after  7500  iterations is :  2.556842555336326  | validation loss is :  2.550030582747753\n",
      "[[-0.3334237 ]\n",
      " [ 1.10845611]\n",
      " [ 0.23022223]\n",
      " [-2.3227641 ]\n",
      " [ 4.04603982]\n",
      " [-3.57789702]\n",
      " [-2.6881577 ]\n",
      " [ 0.08524886]]\n",
      "4.947256161887316\n",
      "Training loss after  0  iterations is :  10.463008692446145  | validation loss is :  10.306338938989327\n",
      "Training loss after  500  iterations is :  3.805477025982693  | validation loss is :  3.8651965015357823\n",
      "Training loss after  1000  iterations is :  2.9738223557998205  | validation loss is :  2.9818155907352875\n",
      "Training loss after  1500  iterations is :  2.7784484330141033  | validation loss is :  2.7542841572320973\n",
      "Training loss after  2000  iterations is :  2.717474023142718  | validation loss is :  2.682784079673808\n",
      "Training loss after  2500  iterations is :  2.689885471760399  | validation loss is :  2.651964803591937\n",
      "Training loss after  3000  iterations is :  2.6720940547167493  | validation loss is :  2.633389255605032\n",
      "Training loss after  3500  iterations is :  2.6573851180845254  | validation loss is :  2.618863435332291\n",
      "Training loss after  4000  iterations is :  2.6437921272283416  | validation loss is :  2.605888768313726\n",
      "Training loss after  4500  iterations is :  2.6307413755908926  | validation loss is :  2.593663086341701\n",
      "Training loss after  5000  iterations is :  2.6180653163925456  | validation loss is :  2.5819085235933352\n",
      "Training loss after  5500  iterations is :  2.605713732183246  | validation loss is :  2.57051825251799\n",
      "Training loss after  6000  iterations is :  2.593669963280642  | validation loss is :  2.559445777320037\n",
      "Training loss after  6500  iterations is :  2.5819268055310687  | validation loss is :  2.5486680284722136\n",
      "Training loss after  7000  iterations is :  2.570479628148732  | validation loss is :  2.5381719493053256\n",
      "Training loss after  7500  iterations is :  2.559324425432771  | validation loss is :  2.527949102771527\n",
      "[[-0.30208302]\n",
      " [ 1.08099041]\n",
      " [ 0.20646248]\n",
      " [-2.36043566]\n",
      " [ 4.07552263]\n",
      " [-3.59064375]\n",
      " [-2.66138954]\n",
      " [ 0.19171423]]\n",
      "4.920310393749419\n",
      "Training loss after  0  iterations is :  10.373619235729842  | validation loss is :  10.65943537623291\n",
      "Training loss after  500  iterations is :  3.785596229046982  | validation loss is :  3.9963779633241314\n",
      "Training loss after  1000  iterations is :  2.9273665638969306  | validation loss is :  3.1360698420277506\n",
      "Training loss after  1500  iterations is :  2.7307692054764927  | validation loss is :  2.9317943652065432\n",
      "Training loss after  2000  iterations is :  2.6729462968531066  | validation loss is :  2.863491153733225\n",
      "Training loss after  2500  iterations is :  2.647351952470832  | validation loss is :  2.830335494248194\n",
      "Training loss after  3000  iterations is :  2.6307942588868913  | validation loss is :  2.8090124179202203\n",
      "Training loss after  3500  iterations is :  2.6169985766480584  | validation loss is :  2.792227465647267\n"
     ]
    },
    {
     "name": "stdout",
     "output_type": "stream",
     "text": [
      "Training loss after  4000  iterations is :  2.604185998074389  | validation loss is :  2.777440618924155\n",
      "Training loss after  4500  iterations is :  2.591851400343507  | validation loss is :  2.763693963501189\n",
      "Training loss after  5000  iterations is :  2.579850966171942  | validation loss is :  2.7505929656020296\n",
      "Training loss after  5500  iterations is :  2.5681425894592604  | validation loss is :  2.7379606777025756\n",
      "Training loss after  6000  iterations is :  2.5567125285573793  | validation loss is :  2.7257118002747123\n",
      "Training loss after  6500  iterations is :  2.5455548340565515  | validation loss is :  2.7138026328892737\n",
      "Training loss after  7000  iterations is :  2.53466562047027  | validation loss is :  2.702209386011969\n",
      "Training loss after  7500  iterations is :  2.5240414845127583  | validation loss is :  2.6909181027852602\n",
      "[[-0.30806295]\n",
      " [ 1.03573386]\n",
      " [ 0.15596091]\n",
      " [-2.38556573]\n",
      " [ 4.09956056]\n",
      " [-3.51328285]\n",
      " [-2.62882858]\n",
      " [ 0.17092356]]\n",
      "4.886718309630871\n"
     ]
    }
   ],
   "source": [
    "models,avg_train_loss, avg_val_loss = k_fold_cross_validation(X,Y)"
   ]
  },
  {
   "cell_type": "code",
   "execution_count": 9,
   "metadata": {},
   "outputs": [
    {
     "data": {
      "image/png": "[encoded data removed]",
      "text/plain": [
       "<Figure size 432x288 with 1 Axes>"
      ]
     },
     "metadata": {
      "needs_background": "light"
     },
     "output_type": "display_data"
    }
   ],
   "source": [
    "plt.plot([x for x in range(len(avg_val_loss))],avg_val_loss, label = \"Average Validation Loss\")\n",
    "plt.plot([x for x in range(len(avg_train_loss))], avg_train_loss, label = \"Average Training Loss\")\n",
    "plt.xlabel('epochs')\n",
    "plt.ylabel('loss')\n",
    "plt.legend()\n",
    "plt.show()"
   ]
  },
  {
   "cell_type": "code",
   "execution_count": 10,
   "metadata": {},
   "outputs": [
    {
     "name": "stdout",
     "output_type": "stream",
     "text": [
      "Stats for LR MAE Loss\n",
      "For CV number  0 the train loss =  1.8928997352767205  and the val loss =  1.6953279754970247\n",
      "For CV number  1 the train loss =  1.8402425988013538  and the val loss =  1.9031788719758738\n",
      "For CV number  2 the train loss =  1.8508268311338614  and the val loss =  1.871871899311866\n",
      "For CV number  3 the train loss =  1.862649676009377  and the val loss =  1.8174656749653357\n",
      "For CV number  4 the train loss =  1.8221507620495925  and the val loss =  1.9972418069858926\n",
      "Stats for LR RMSE Loss\n",
      "For CV number  0 the train loss =  2.593244097037651  and the val loss =  2.329523730254407\n",
      "For CV number  1 the train loss =  2.5168814307613854  and the val loss =  2.6602203267141897\n",
      "For CV number  2 the train loss =  2.546236475827177  and the val loss =  2.5395669262626566\n",
      "For CV number  3 the train loss =  2.548478722155454  and the val loss =  2.518012933325905\n",
      "For CV number  4 the train loss =  2.513699540093446  and the val loss =  2.6799414575117164\n"
     ]
    }
   ],
   "source": [
    "print(\"Stats for LR MAE Loss\")\n",
    "for i in range(len(models_mae)):\n",
    "    print(\"For CV number \",i, \"the train loss = \", models_mae[i][0], \" and the val loss = \", models_mae[i][1] )\n",
    "print(\"Stats for LR RMSE Loss\")\n",
    "for i in range(len(models)):\n",
    "    print(\"For CV number \",i, \"the train loss = \", models[i][0], \" and the val loss = \", models[i][1] )"
   ]
  },
  {
   "cell_type": "code",
   "execution_count": 11,
   "metadata": {},
   "outputs": [
    {
     "data": {
      "text/plain": [
       "'LR on Video Game dataset '"
      ]
     },
     "execution_count": 11,
     "metadata": {},
     "output_type": "execute_result"
    }
   ],
   "source": [
    "\"\"\"LR on Video Game dataset \"\"\""
   ]
  },
  {
   "cell_type": "code",
   "execution_count": 12,
   "metadata": {},
   "outputs": [
    {
     "name": "stdout",
     "output_type": "stream",
     "text": [
      "[[-0.99319802  0.86629483]\n",
      " [-0.99491633  0.97992289]\n",
      " [-0.99462994  0.97992289]\n",
      " ...\n",
      " [-0.99291164  0.97992289]\n",
      " [-0.96112299  0.97992289]\n",
      " [-0.98689757  0.9522101 ]]\n",
      "[8.89999962 7.12507582 7.12507582 ... 7.12507582 7.12507582 8.5       ]\n"
     ]
    }
   ],
   "source": [
    "pp = MyPreProcessor()\n",
    "X,Y = pp.pre_process(1)\n",
    "print(X)\n",
    "print(np.squeeze(Y))"
   ]
  },
  {
   "cell_type": "code",
   "execution_count": 13,
   "metadata": {},
   "outputs": [
    {
     "name": "stdout",
     "output_type": "stream",
     "text": [
      "Training loss after  0  iterations is :  7.202597093705222  | validation loss is :  7.156711931257612\n",
      "Training loss after  500  iterations is :  0.9906099227315471  | validation loss is :  0.9989610655499715\n",
      "Training loss after  1000  iterations is :  0.8808017861494943  | validation loss is :  0.9120547785575729\n",
      "[[-2.43477953]\n",
      " [ 2.27914901]]\n",
      "2.502341999817641\n",
      "Training loss after  0  iterations is :  7.202607296588113  | validation loss is :  7.156929240516356\n",
      "Training loss after  500  iterations is :  0.9895148651840588  | validation loss is :  1.0031762098249628\n",
      "Training loss after  1000  iterations is :  0.8803281838733715  | validation loss is :  0.9126819384464692\n",
      "[[-2.44471049]\n",
      " [ 2.26716265]]\n",
      "2.50216301535009\n",
      "Training loss after  0  iterations is :  7.190916841900976  | validation loss is :  7.2033027873561695\n",
      "Training loss after  500  iterations is :  1.0007090156324145  | validation loss is :  0.987956508922694\n",
      "Training loss after  1000  iterations is :  0.891604845673354  | validation loss is :  0.870380288286327\n",
      "[[-2.42414868]\n",
      " [ 2.28827865]]\n",
      "2.492418648423735\n",
      "Training loss after  0  iterations is :  7.193426125007659  | validation loss is :  7.193686435771943\n",
      "Training loss after  500  iterations is :  1.001644187793644  | validation loss is :  0.9835153893203183\n",
      "Training loss after  1000  iterations is :  0.8927946954999899  | validation loss is :  0.8646168857709037\n",
      "[[-2.43039135]\n",
      " [ 2.2790977 ]]\n",
      "2.4947593344899732\n",
      "Training loss after  0  iterations is :  7.192286461722272  | validation loss is :  7.198234792226267\n",
      "Training loss after  500  iterations is :  0.9985347296481879  | validation loss is :  0.9932163711581393\n",
      "Training loss after  1000  iterations is :  0.889866184589515  | validation loss is :  0.875633649200306\n",
      "[[-2.43409502]\n",
      " [ 2.27080379]]\n",
      "2.498893836339204\n"
     ]
    }
   ],
   "source": [
    "video_game_model_rmse,avg_train_loss, avg_val_loss = k_fold_cross_validation(X,Y, epochs = 1500, learning_rate = 0.005)"
   ]
  },
  {
   "cell_type": "code",
   "execution_count": 14,
   "metadata": {},
   "outputs": [
    {
     "data": {
      "image/png": "[encoded data removed]",
      "text/plain": [
       "<Figure size 432x288 with 1 Axes>"
      ]
     },
     "metadata": {
      "needs_background": "light"
     },
     "output_type": "display_data"
    }
   ],
   "source": [
    "plt.plot([x for x in range(len(avg_val_loss))],avg_val_loss, label = \"Average Validation Loss\")\n",
    "plt.plot([x for x in range(len(avg_train_loss))], avg_train_loss, label = \"Average Training Loss\")\n",
    "plt.xlabel('epochs')\n",
    "plt.ylabel('loss')\n",
    "plt.legend()\n",
    "plt.show()"
   ]
  },
  {
   "cell_type": "code",
   "execution_count": 15,
   "metadata": {},
   "outputs": [
    {
     "name": "stdout",
     "output_type": "stream",
     "text": [
      "Training loss after  0  iterations is :  7.132439434174065  | validation loss is :  7.080712236918954\n",
      "Training loss after  500  iterations is :  0.614148171244788  | validation loss is :  0.6059391750908069\n",
      "Training loss after  1000  iterations is :  0.47946157755603225  | validation loss is :  0.48101223112372327\n",
      "[[-2.39268743]\n",
      " [ 2.32943028]]\n",
      "2.471575954874395\n",
      "Training loss after  0  iterations is :  7.132903370323582  | validation loss is :  7.079103945480413\n",
      "Training loss after  500  iterations is :  0.6068013797026166  | validation loss is :  0.6203418365544587\n",
      "Training loss after  1000  iterations is :  0.4741694173253457  | validation loss is :  0.5021775284136295\n",
      "[[-2.39506759]\n",
      " [ 2.32708993]]\n",
      "2.4715564455172125\n",
      "Training loss after  0  iterations is :  7.117845064120872  | validation loss is :  7.138975430996348\n",
      "Training loss after  500  iterations is :  0.6244406246629296  | validation loss is :  0.608828566706291\n",
      "Training loss after  1000  iterations is :  0.48255125784622244  | validation loss is :  0.46881592220501533\n",
      "[[-2.39086043]\n",
      " [ 2.33240242]]\n",
      "2.47023740438647\n",
      "Training loss after  0  iterations is :  7.120772042134098  | validation loss is :  7.127627393758108\n",
      "Training loss after  500  iterations is :  0.6232237003856941  | validation loss is :  0.6075359690530777\n",
      "Training loss after  1000  iterations is :  0.48222605807877883  | validation loss is :  0.4702821721949342\n",
      "[[-2.39040524]\n",
      " [ 2.33419967]]\n",
      "2.4691180235965042\n",
      "Training loss after  0  iterations is :  7.121308801665484  | validation loss is :  7.125482314614772\n",
      "Training loss after  500  iterations is :  0.6199416576496337  | validation loss is :  0.6151047793173511\n",
      "Training loss after  1000  iterations is :  0.4805234693808415  | validation loss is :  0.47666998865932503\n",
      "[[-2.39478996]\n",
      " [ 2.32579716]]\n",
      "2.4728006619245972\n"
     ]
    }
   ],
   "source": [
    "video_game_model_mae,avg_train_loss, avg_val_loss = k_fold_cross_validation(X,Y, epochs = 1500,learning_rate = 0.005,loss = \"mae\")"
   ]
  },
  {
   "cell_type": "code",
   "execution_count": 16,
   "metadata": {},
   "outputs": [
    {
     "data": {
      "image/png": "[encoded data removed]",
      "text/plain": [
       "<Figure size 432x288 with 1 Axes>"
      ]
     },
     "metadata": {
      "needs_background": "light"
     },
     "output_type": "display_data"
    }
   ],
   "source": [
    "plt.plot([x for x in range(len(avg_val_loss))],avg_val_loss, label = \"Average Validation Loss\")\n",
    "plt.plot([x for x in range(len(avg_train_loss))], avg_train_loss, label = \"Average Training Loss\")\n",
    "plt.xlabel('epochs')\n",
    "plt.ylabel('loss')\n",
    "plt.legend()\n",
    "plt.show()"
   ]
  },
  {
   "cell_type": "code",
   "execution_count": 17,
   "metadata": {},
   "outputs": [
    {
     "name": "stdout",
     "output_type": "stream",
     "text": [
      "Stats for LR MAE Loss\n",
      "For CV number  0 the train loss =  0.47892553925197767  and the val loss =  0.4804769103271079\n",
      "For CV number  1 the train loss =  0.4735868860072368  and the val loss =  0.5017352867309682\n",
      "For CV number  2 the train loss =  0.4820550056615654  and the val loss =  0.4681993815520155\n",
      "For CV number  3 the train loss =  0.481745288521445  and the val loss =  0.4696358206221275\n",
      "For CV number  4 the train loss =  0.479923530773234  and the val loss =  0.47626838234966895\n",
      "Stats for LR RMSE Loss\n",
      "For CV number  0 the train loss =  0.8787221277191104  and the val loss =  0.909994233218367\n",
      "For CV number  1 the train loss =  0.8779007213488739  and the val loss =  0.9114025899326081\n",
      "For CV number  2 the train loss =  0.8898901253027284  and the val loss =  0.8675474307552187\n",
      "For CV number  3 the train loss =  0.8907958927255403  and the val loss =  0.8623356192555848\n",
      "For CV number  4 the train loss =  0.8876567506202279  and the val loss =  0.8738601909376258\n"
     ]
    }
   ],
   "source": [
    "print(\"Stats for LR MAE Loss\")\n",
    "for i in range(len(video_game_model_mae)):\n",
    "    print(\"For CV number \",i, \"the train loss = \", video_game_model_mae[i][0], \" and the val loss = \", video_game_model_mae[i][1] )\n",
    "print(\"Stats for LR RMSE Loss\")\n",
    "for i in range(len(video_game_model_rmse)):\n",
    "    print(\"For CV number \",i, \"the train loss = \", video_game_model_rmse[i][0], \" and the val loss = \", video_game_model_rmse[i][1] )"
   ]
  },
  {
   "cell_type": "code",
   "execution_count": null,
   "metadata": {},
   "outputs": [],
   "source": []
  }
 ],
 "metadata": {
  "kernelspec": {
   "display_name": "Python 3",
   "language": "python",
   "name": "python3"
  },
  "language_info": {
   "codemirror_mode": {
    "name": "ipython",
    "version": 3
   },
   "file_extension": ".py",
   "mimetype": "text/x-python",
   "name": "python",
   "nbconvert_exporter": "python",
   "pygments_lexer": "ipython3",
   "version": "3.7.4"
  }
 },
 "nbformat": 4,
 "nbformat_minor": 2
}
