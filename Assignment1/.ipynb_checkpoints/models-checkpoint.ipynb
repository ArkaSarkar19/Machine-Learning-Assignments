{
 "cells": [
  {
   "cell_type": "code",
   "execution_count": 1,
   "metadata": {},
   "outputs": [
    {
     "name": "stdout",
     "output_type": "stream",
     "text": [
      "Linear Regression\n",
      "Training loss after  0  iterations is  1.5811388300841898\n",
      "Training loss after  500  iterations is  0.11522308082978301\n",
      "Training loss after  1000  iterations is  0.11531590760055782\n",
      "Training loss after  1500  iterations is  0.11540873459346981\n",
      "Training loss after  2000  iterations is  0.11550156192142631\n",
      "Training loss after  2500  iterations is  0.11559438970508162\n",
      "Training loss after  3000  iterations is  0.11568721806509605\n",
      "Training loss after  3500  iterations is  0.11578004712213608\n",
      "Training loss after  4000  iterations is  0.11587287699688441\n",
      "Training loss after  4500  iterations is  0.11596570781002223\n",
      "Predicted Values: [[2.76277438]\n",
      " [2.76277438]]\n",
      "True Values: [3]\n"
     ]
    }
   ],
   "source": [
    "import numpy as np\n",
    "import pandas as pd\n",
    "from scratch import *"
   ]
  },
  {
   "cell_type": "code",
   "execution_count": 2,
   "metadata": {},
   "outputs": [
    {
     "data": {
      "text/plain": [
       "' Running Linear Regression on Alabone dataset '"
      ]
     },
     "execution_count": 2,
     "metadata": {},
     "output_type": "execute_result"
    }
   ],
   "source": [
    "\"\"\" Running Linear Regression on Alabone dataset \"\"\""
   ]
  },
  {
   "cell_type": "code",
   "execution_count": 3,
   "metadata": {},
   "outputs": [
    {
     "name": "stdout",
     "output_type": "stream",
     "text": [
      "[[ 2.13626242 -0.0065428  -0.17195233 ... -0.20653796 -0.59825779\n",
      "  -0.46442644]\n",
      " [ 0.63253946 -0.03661726 -0.2095454  ... -0.40954056 -0.64186575\n",
      "  -0.48021553]\n",
      " [ 3.63998538 -0.23210125 -0.42006662 ... -0.65915857 -0.75464498\n",
      "  -0.69073675]\n",
      " ...\n",
      " [ 0.63253946 -0.0065428  -0.21706402 ... -0.22157519 -0.53660515\n",
      "  -0.51179372]\n",
      " [ 0.63253946  0.23405287  0.00849443 ...  0.56036075 -0.04413588\n",
      "  -0.11932202]\n",
      " [ 0.63253946 -0.29976878 -0.43510385 ... -0.69449606 -0.77268965\n",
      "  -0.74336705]]\n",
      "[[ 9]\n",
      " [12]\n",
      " [ 8]\n",
      " ...\n",
      " [10]\n",
      " [11]\n",
      " [ 9]]\n"
     ]
    }
   ],
   "source": [
    "pp = MyPreProcessor()\n",
    "X,Y = pp.pre_process(0)\n",
    "print(X)\n",
    "print(Y)"
   ]
  },
  {
   "cell_type": "code",
   "execution_count": 4,
   "metadata": {},
   "outputs": [],
   "source": [
    "def k_fold_cross_validation(X, y, k=5, loss = \"rmse\", epochs = 5000, learning_rate = 0.01):\n",
    "    \"\"\" Performs K fold cross validation\n",
    "    Parameters\n",
    "    ----------\n",
    "    model : instance of the model to be used\n",
    "    X : 2-dimensional numpy array of shape (n_samples, n_features) which acts as data.\n",
    "    y : 1-dimensional numpy array of shape (n_samples,) which acts as labels.\n",
    "    k : number of folds, default = 5\n",
    "    \n",
    "    Returns\n",
    "    -------\n",
    "    model : instance of model\n",
    "    \"\"\"\n",
    "    m = X.shape[0]  #number of examples\n",
    "    fold_size = int(m/k)\n",
    "    start = 0\n",
    "    end = fold_size\n",
    "    models = {}\n",
    "    for i in range(k):\n",
    "        Xtrain_i = np.concatenate((X[0:start], X[end+1:]))\n",
    "        ytrain_i = np.concatenate((y[0:start],y[end+1:]))\n",
    "        X_test =  X[start:end]\n",
    "        y_test = y[start:end]\n",
    "        model = MyLinearRegression()\n",
    "        model.fit(Xtrain_i,ytrain_i,X_test,y_test,epochs,learning_rate, loss)\n",
    "        if(loss == \"rmse\"):\n",
    "            models[i] = (model.rmse_train_history[-1], model.rmse_val_history[-1], model.rmse_train_history, model.rmse_val_history )\n",
    "        if(loss == \"mae\"):\n",
    "            models[i] = (model.mae_train_history[-1], model.mae_val_history[-1], model.mae_train_history, model.mae_val_history )\n",
    "#         y_pred = model.predict(X_test)\n",
    "#         rmse_val = np.sum(((y_test - y_pred)**2)**0.5)/len(y_pred)\n",
    "#         mae_val = np.sum(np.abs(y_test - y_pred)/len(y_pred))\n",
    "#         rmse_train_history.append(model.get_rmse_loss())\n",
    "#         mae_train_history.append(model.get_mae_loss())\n",
    "#         rmse_val_history.append(rmse_val)\n",
    "#         mae_val_history.append(mae_val)\n",
    "#         print(Xtrain_i.shape,ytrain_i.shape,X_test.shape,y_test.shape)\n",
    "        print(model.W)\n",
    "        print(model.b)\n",
    "        start+=fold_size\n",
    "        end+=fold_size\n",
    "        \n",
    "    \n",
    "    return models\n",
    "    "
   ]
  },
  {
   "cell_type": "code",
   "execution_count": 5,
   "metadata": {},
   "outputs": [
    {
     "name": "stdout",
     "output_type": "stream",
     "text": [
      "Training loss after  0  iterations is :  9.915868263473055  | validation loss is :  9.997604790419162\n",
      "Training loss after  500  iterations is :  2.9362489423494256  | validation loss is :  2.9487900492879042\n",
      "Training loss after  1000  iterations is :  2.0669168098009525  | validation loss is :  2.0907197915543208\n",
      "Training loss after  1500  iterations is :  1.9245577264695586  | validation loss is :  1.9653182029548946\n",
      "Training loss after  2000  iterations is :  1.8861550514860823  | validation loss is :  1.9432406391098052\n",
      "Training loss after  2500  iterations is :  1.869745788263152  | validation loss is :  1.9353976887019289\n",
      "Training loss after  3000  iterations is :  1.8578562494081765  | validation loss is :  1.9285112843434247\n",
      "Training loss after  3500  iterations is :  1.8473802457142925  | validation loss is :  1.921646048124454\n",
      "Training loss after  4000  iterations is :  1.8376122799196097  | validation loss is :  1.9144356090440044\n",
      "Training loss after  4500  iterations is :  1.8285626167681723  | validation loss is :  1.9068434206234588\n",
      "[[-0.29664469]\n",
      " [ 0.82472775]\n",
      " [-0.04837728]\n",
      " [-2.45489762]\n",
      " [ 3.54218037]\n",
      " [-2.0207308 ]\n",
      " [-2.30028354]\n",
      " [-0.85056503]]\n",
      "4.530014083355899\n",
      "Training loss after  0  iterations is :  9.937125748502995  | validation loss is :  9.917365269461078\n",
      "Training loss after  500  iterations is :  2.957761570717206  | validation loss is :  2.9434910672634103\n",
      "Training loss after  1000  iterations is :  2.0829752700859796  | validation loss is :  2.048583235971262\n",
      "Training loss after  1500  iterations is :  1.9413883910697343  | validation loss is :  1.908871942035779\n",
      "Training loss after  2000  iterations is :  1.9049988426174527  | validation loss is :  1.8777903077647276\n",
      "Training loss after  2500  iterations is :  1.8903164656136522  | validation loss is :  1.8637040815281318\n",
      "Training loss after  3000  iterations is :  1.8794944589407612  | validation loss is :  1.8529410891377307\n",
      "Training loss after  3500  iterations is :  1.8698455959477012  | validation loss is :  1.8430519617990224\n",
      "Training loss after  4000  iterations is :  1.8608183559609812  | validation loss is :  1.8337827743626776\n",
      "Training loss after  4500  iterations is :  1.852224000028729  | validation loss is :  1.8246770180370013\n",
      "[[-0.28123247]\n",
      " [ 0.77933823]\n",
      " [-0.10373154]\n",
      " [-2.44657164]\n",
      " [ 3.54662683]\n",
      " [-1.97018627]\n",
      " [-2.29443949]\n",
      " [-0.82408655]]\n",
      "4.514993461040884\n",
      "Training loss after  0  iterations is :  9.919161676646707  | validation loss is :  9.98562874251497\n",
      "Training loss after  500  iterations is :  2.9198936242633313  | validation loss is :  3.0266699196095725\n",
      "Training loss after  1000  iterations is :  2.0763780770623743  | validation loss is :  2.118740932454269\n",
      "Training loss after  1500  iterations is :  1.938903068780086  | validation loss is :  1.9453611435804452\n",
      "Training loss after  2000  iterations is :  1.9027407412861375  | validation loss is :  1.8977693379193794\n",
      "Training loss after  2500  iterations is :  1.8868917552712992  | validation loss is :  1.8805131207671655\n",
      "Training loss after  3000  iterations is :  1.8751429814809424  | validation loss is :  1.869229439442592\n",
      "Training loss after  3500  iterations is :  1.8651353835649025  | validation loss is :  1.859813251713942\n",
      "Training loss after  4000  iterations is :  1.8557857401628002  | validation loss is :  1.850828063684494\n",
      "Training loss after  4500  iterations is :  1.8467873818199292  | validation loss is :  1.8422423878093126\n",
      "[[-0.27058721]\n",
      " [ 0.81060766]\n",
      " [-0.07408869]\n",
      " [-2.42252503]\n",
      " [ 3.49197163]\n",
      " [-1.99461838]\n",
      " [-2.28506681]\n",
      " [-0.83709187]]\n",
      "4.488375874212938\n",
      "Training loss after  0  iterations is :  9.959880239520958  | validation loss is :  9.822754491017964\n",
      "Training loss after  500  iterations is :  2.952139434353075  | validation loss is :  2.8822728044964583\n",
      "Training loss after  1000  iterations is :  2.0816953399139244  | validation loss is :  2.0304175604754024\n",
      "Training loss after  1500  iterations is :  1.9470326796050739  | validation loss is :  1.891859687356773\n",
      "Training loss after  2000  iterations is :  1.9135155370932941  | validation loss is :  1.8491018033842888\n",
      "Training loss after  2500  iterations is :  1.8986293594740868  | validation loss is :  1.8306059764497047\n",
      "Training loss after  3000  iterations is :  1.887249217296582  | validation loss is :  1.817726973270776\n",
      "Training loss after  3500  iterations is :  1.8772155869281868  | validation loss is :  1.8072986291259565\n",
      "Training loss after  4000  iterations is :  1.8675006420541802  | validation loss is :  1.797747792579029\n",
      "Training loss after  4500  iterations is :  1.8580656593388711  | validation loss is :  1.7885573272090214\n",
      "[[-0.24146283]\n",
      " [ 0.83983437]\n",
      " [-0.03710743]\n",
      " [-2.41818321]\n",
      " [ 3.55905479]\n",
      " [-1.99047304]\n",
      " [-2.26318673]\n",
      " [-0.80693831]]\n",
      "4.488210458440893\n",
      "Training loss after  0  iterations is :  9.930838323353294  | validation loss is :  9.940119760479043\n",
      "Training loss after  500  iterations is :  2.9531731945199873  | validation loss is :  2.9317176731316623\n",
      "Training loss after  1000  iterations is :  2.0598701700931836  | validation loss is :  2.084626466441741\n",
      "Training loss after  1500  iterations is :  1.921883454227574  | validation loss is :  1.9699504807131425\n",
      "Training loss after  2000  iterations is :  1.8904494038132078  | validation loss is :  1.938368738906578\n",
      "Training loss after  2500  iterations is :  1.8771707440200562  | validation loss is :  1.9224265944559862\n",
      "Training loss after  3000  iterations is :  1.8670677490859982  | validation loss is :  1.9096434126939659\n",
      "Training loss after  3500  iterations is :  1.8579592780633276  | validation loss is :  1.8983400227110705\n",
      "Training loss after  4000  iterations is :  1.8492324062626637  | validation loss is :  1.887774933228858\n",
      "Training loss after  4500  iterations is :  1.840798993468783  | validation loss is :  1.8775499693928162\n",
      "[[-0.25137535]\n",
      " [ 0.76467672]\n",
      " [-0.10582218]\n",
      " [-2.44888901]\n",
      " [ 3.57411374]\n",
      " [-1.94262215]\n",
      " [-2.2529453 ]\n",
      " [-0.82069735]]\n",
      "4.471918448237516\n"
     ]
    }
   ],
   "source": [
    "models_mae = k_fold_cross_validation(X,Y, learning_rate = 0.01, loss = \"mae\")\n"
   ]
  },
  {
   "cell_type": "code",
   "execution_count": 6,
   "metadata": {},
   "outputs": [],
   "source": [
    "import matplotlib.pyplot as plt"
   ]
  },
  {
   "cell_type": "code",
   "execution_count": 7,
   "metadata": {},
   "outputs": [
    {
     "data": {
      "image/png": "[encoded data removed]",
      "text/plain": [
       "<Figure size 432x288 with 1 Axes>"
      ]
     },
     "metadata": {
      "needs_background": "light"
     },
     "output_type": "display_data"
    }
   ],
   "source": [
    "plt.plot([x for x in range(2000)], models_mae[3][2][0:2000], label = \"Training Loss\")\n",
    "plt.plot([x for x in range(2000)], models_mae[3][3][0:2000], label = \"Validation Loss\")\n",
    "plt.xlabel('epochs')\n",
    "plt.ylabel('loss')\n",
    "plt.legend()\n",
    "plt.show()"
   ]
  },
  {
   "cell_type": "code",
   "execution_count": 8,
   "metadata": {},
   "outputs": [
    {
     "name": "stdout",
     "output_type": "stream",
     "text": [
      "Training loss after  0  iterations is :  10.425828705269273  | validation loss is :  10.50759633971173\n",
      "Training loss after  500  iterations is :  3.8181186930190423  | validation loss is :  3.8127652378940646\n",
      "Training loss after  1000  iterations is :  2.961082249732314  | validation loss is :  2.9732085202000826\n",
      "Training loss after  1500  iterations is :  2.759879310824202  | validation loss is :  2.78880074293965\n",
      "Training loss after  2000  iterations is :  2.699148282222867  | validation loss is :  2.737513784898147\n",
      "Training loss after  2500  iterations is :  2.6721782821418856  | validation loss is :  2.7155580966413093\n",
      "Training loss after  3000  iterations is :  2.6547965280411883  | validation loss is :  2.7010420777919566\n",
      "Training loss after  3500  iterations is :  2.6403544175338114  | validation loss is :  2.688421545956316\n",
      "Training loss after  4000  iterations is :  2.6269602150538325  | validation loss is :  2.6763205957740284\n",
      "Training loss after  4500  iterations is :  2.614076657985106  | validation loss is :  2.6644530831476727\n",
      "[[-0.34011645]\n",
      " [ 0.73859488]\n",
      " [-0.13398312]\n",
      " [-2.56341371]\n",
      " [ 3.9363419 ]\n",
      " [-2.49114373]\n",
      " [-2.54684337]\n",
      " [-0.59239836]]\n",
      "4.80798601990816\n",
      "Training loss after  0  iterations is :  10.439675586305611  | validation loss is :  10.456582604296637\n",
      "Training loss after  500  iterations is :  3.809039574004658  | validation loss is :  3.875300118122484\n",
      "Training loss after  1000  iterations is :  2.9507178872426527  | validation loss is :  3.0223998818410944\n",
      "Training loss after  1500  iterations is :  2.7481175911726896  | validation loss is :  2.836474231313323\n",
      "Training loss after  2000  iterations is :  2.687434912839805  | validation loss is :  2.785498950683454\n",
      "Training loss after  2500  iterations is :  2.660955949593563  | validation loss is :  2.7634842640337047\n",
      "Training loss after  3000  iterations is :  2.644176798074937  | validation loss is :  2.748473053095685\n",
      "Training loss after  3500  iterations is :  2.6303568580067918  | validation loss is :  2.7350860657011076\n",
      "Training loss after  4000  iterations is :  2.617579135995125  | validation loss is :  2.722072780969281\n",
      "Training loss after  4500  iterations is :  2.6052993905085886  | validation loss is :  2.70922010718215\n",
      "[[-0.33390807]\n",
      " [ 0.68961107]\n",
      " [-0.19158005]\n",
      " [-2.57426845]\n",
      " [ 3.92914859]\n",
      " [-2.46378542]\n",
      " [-2.54422905]\n",
      " [-0.57769915]]\n",
      "4.8139963862598645\n",
      "Training loss after  0  iterations is :  10.430896069579605  | validation loss is :  10.488659401844652\n",
      "Training loss after  500  iterations is :  3.808517555696127  | validation loss is :  3.857219925237266\n",
      "Training loss after  1000  iterations is :  2.9766440323468566  | validation loss is :  2.973032236874889\n",
      "Training loss after  1500  iterations is :  2.781119247020823  | validation loss is :  2.7454539117611434\n",
      "Training loss after  2000  iterations is :  2.719862399814956  | validation loss is :  2.6754112321331607\n",
      "Training loss after  2500  iterations is :  2.692323567795826  | validation loss is :  2.6459099878881704\n",
      "Training loss after  3000  iterations is :  2.6747974695782006  | validation loss is :  2.628008882755284\n",
      "Training loss after  3500  iterations is :  2.6604426611393195  | validation loss is :  2.6136104145991155\n",
      "Training loss after  4000  iterations is :  2.6472292434346882  | validation loss is :  2.600409088070055\n",
      "Training loss after  4500  iterations is :  2.634557627440766  | validation loss is :  2.587752275307553\n",
      "[[-0.31589511]\n",
      " [ 0.71671614]\n",
      " [-0.1759755 ]\n",
      " [-2.5332771 ]\n",
      " [ 3.91758711]\n",
      " [-2.4933706 ]\n",
      " [-2.53335154]\n",
      " [-0.5850214 ]]\n",
      "4.7818490034112\n",
      "Training loss after  0  iterations is :  10.475806172799299  | validation loss is :  10.308069044450066\n",
      "Training loss after  500  iterations is :  3.82131839189172  | validation loss is :  3.768778123694515\n",
      "Training loss after  1000  iterations is :  2.9773327129143126  | validation loss is :  2.9366985012857945\n",
      "Training loss after  1500  iterations is :  2.7852598379109894  | validation loss is :  2.7251852961877048\n",
      "Training loss after  2000  iterations is :  2.726686357484256  | validation loss is :  2.65077033653668\n",
      "Training loss after  2500  iterations is :  2.6999192709140116  | validation loss is :  2.6150815093156075\n",
      "Training loss after  3000  iterations is :  2.6823477176897823  | validation loss is :  2.593155605940397\n",
      "Training loss after  3500  iterations is :  2.667667433113924  | validation loss is :  2.576706715093146\n",
      "Training loss after  4000  iterations is :  2.654044647168655  | validation loss is :  2.5627165386205126\n",
      "Training loss after  4500  iterations is :  2.6409461448162492  | validation loss is :  2.549995695058617\n",
      "[[-0.28265325]\n",
      " [ 0.74346031]\n",
      " [-0.12632729]\n",
      " [-2.53820532]\n",
      " [ 3.97404535]\n",
      " [-2.50307426]\n",
      " [-2.48911983]\n",
      " [-0.55410413]]\n",
      "4.777584460568295\n",
      "Training loss after  0  iterations is :  10.440521587447826  | validation loss is :  10.451370136233379\n",
      "Training loss after  500  iterations is :  3.8340209660090463  | validation loss is :  3.783493722058321\n",
      "Training loss after  1000  iterations is :  2.9694165556745933  | validation loss is :  2.9380490789247387\n",
      "Training loss after  1500  iterations is :  2.7691041499485283  | validation loss is :  2.75783611368021\n",
      "Training loss after  2000  iterations is :  2.7101139283302067  | validation loss is :  2.704412639863553\n",
      "Training loss after  2500  iterations is :  2.68405763158734  | validation loss is :  2.6794232878576194\n",
      "Training loss after  3000  iterations is :  2.6673058904527926  | validation loss is :  2.66254842316823\n",
      "Training loss after  3500  iterations is :  2.653426771950154  | validation loss is :  2.6481785512211515\n",
      "Training loss after  4000  iterations is :  2.640576105967587  | validation loss is :  2.6346994361729754\n",
      "Training loss after  4500  iterations is :  2.6282234484290807  | validation loss is :  2.6216609350084514\n",
      "[[-0.32547901]\n",
      " [ 0.64281556]\n",
      " [-0.22241773]\n",
      " [-2.57754484]\n",
      " [ 3.97636057]\n",
      " [-2.4780391 ]\n",
      " [-2.5091532 ]\n",
      " [-0.57103985]]\n",
      "4.786023682025099\n"
     ]
    }
   ],
   "source": [
    "models = k_fold_cross_validation(X,Y)"
   ]
  },
  {
   "cell_type": "code",
   "execution_count": 9,
   "metadata": {},
   "outputs": [
    {
     "data": {
      "image/png": "[encoded data removed]",
      "text/plain": [
       "<Figure size 432x288 with 1 Axes>"
      ]
     },
     "metadata": {
      "needs_background": "light"
     },
     "output_type": "display_data"
    }
   ],
   "source": [
    "plt.plot([x for x in range(2000)], models[0][2][0:2000], label = \"Training Loss\")\n",
    "plt.plot([x for x in range(2000)], models[0][3][0:2000], label = \"Validation Loss\")\n",
    "plt.xlabel('epochs')\n",
    "plt.ylabel('loss')\n",
    "plt.legend()\n",
    "plt.show()"
   ]
  },
  {
   "cell_type": "code",
   "execution_count": 10,
   "metadata": {},
   "outputs": [],
   "source": [
    "# print(models_mae)"
   ]
  },
  {
   "cell_type": "code",
   "execution_count": 11,
   "metadata": {},
   "outputs": [],
   "source": [
    "# print(models)"
   ]
  },
  {
   "cell_type": "code",
   "execution_count": 12,
   "metadata": {},
   "outputs": [
    {
     "name": "stdout",
     "output_type": "stream",
     "text": [
      "Stats for LR MAE Loss\n",
      "For CV number  0 the train loss =  1.8198240204310119  and the val loss =  1.8992854008706959\n",
      "For CV number  1 the train loss =  1.8440854783057476  and the val loss =  1.8157385148771157\n",
      "For CV number  2 the train loss =  1.838013487428033  and the val loss =  1.8343856935779872\n",
      "For CV number  3 the train loss =  1.849126921994221  and the val loss =  1.7803519200360287\n",
      "For CV number  4 the train loss =  1.8326775480548332  and the val loss =  1.8680968057551555\n",
      "Stats for LR RMSE Loss\n",
      "For CV number  0 the train loss =  2.601575582931341  and the val loss =  2.6528166717626296\n",
      "For CV number  1 the train loss =  2.5933863377316126  and the val loss =  2.6965669023838967\n",
      "For CV number  2 the train loss =  2.622274984520168  and the val loss =  2.575480898424153\n",
      "For CV number  3 the train loss =  2.6282416508973556  and the val loss =  2.5380565002230404\n",
      "For CV number  4 the train loss =  2.6162394356363485  and the val loss =  2.608969477926165\n"
     ]
    }
   ],
   "source": [
    "print(\"Stats for LR MAE Loss\")\n",
    "for i in range(len(models_mae)):\n",
    "    print(\"For CV number \",i, \"the train loss = \", models_mae[i][0], \" and the val loss = \", models_mae[i][1] )\n",
    "print(\"Stats for LR RMSE Loss\")\n",
    "for i in range(len(models)):\n",
    "    print(\"For CV number \",i, \"the train loss = \", models[i][0], \" and the val loss = \", models[i][1] )"
   ]
  },
  {
   "cell_type": "code",
   "execution_count": 13,
   "metadata": {},
   "outputs": [
    {
     "data": {
      "text/plain": [
       "' In both the cases we notice that FOLD 0 intern gives us the best validation loss, so we choose that as the best fold'"
      ]
     },
     "execution_count": 13,
     "metadata": {},
     "output_type": "execute_result"
    }
   ],
   "source": [
    "\"\"\" In both the cases we notice that FOLD 0 intern gives us the best validation loss, so we choose that as the best fold\"\"\""
   ]
  },
  {
   "cell_type": "code",
   "execution_count": 14,
   "metadata": {},
   "outputs": [
    {
     "data": {
      "image/png": "[encoded data removed]",
      "text/plain": [
       "<Figure size 432x288 with 1 Axes>"
      ]
     },
     "metadata": {
      "needs_background": "light"
     },
     "output_type": "display_data"
    }
   ],
   "source": [
    "plt.plot([x for x in range(3000)], models[2][2][0:3000], label = \"Training RMSE loss \" )\n",
    "plt.plot([x for x in range(3000)], models[2][3][0:3000], label = \"Validation RMSE loss\")\n",
    "plt.xlabel('epochs')\n",
    "plt.ylabel('loss')\n",
    "plt.legend()\n",
    "plt.show()"
   ]
  },
  {
   "cell_type": "code",
   "execution_count": 15,
   "metadata": {},
   "outputs": [
    {
     "data": {
      "image/png": "[encoded data removed]",
      "text/plain": [
       "<Figure size 432x288 with 1 Axes>"
      ]
     },
     "metadata": {
      "needs_background": "light"
     },
     "output_type": "display_data"
    }
   ],
   "source": [
    "plt.plot([x for x in range(3000)], models_mae[2][2][0:3000], label = \"Training MAE loss \" )\n",
    "plt.plot([x for x in range(3000)], models_mae[2][3][0:3000], label = \"Validation MAE loss\")\n",
    "plt.xlabel('epochs')\n",
    "plt.ylabel('loss')\n",
    "plt.legend()\n",
    "plt.show()"
   ]
  },
  {
   "cell_type": "code",
   "execution_count": 16,
   "metadata": {},
   "outputs": [
    {
     "data": {
      "text/plain": [
       "'LR on Video Game dataset '"
      ]
     },
     "execution_count": 16,
     "metadata": {},
     "output_type": "execute_result"
    }
   ],
   "source": [
    "\"\"\"LR on Video Game dataset \"\"\""
   ]
  },
  {
   "cell_type": "code",
   "execution_count": 17,
   "metadata": {},
   "outputs": [
    {
     "name": "stdout",
     "output_type": "stream",
     "text": [
      "[[-0.97591234  0.9453717 ]\n",
      " [-0.97591234  0.97591277]\n",
      " [-0.97591234  0.97591277]\n",
      " ...\n",
      " [-0.97591234  0.97591277]\n",
      " [-1.03351387  0.15634236]\n",
      " [-0.97985988  0.78756583]]\n",
      "[0.12 0.47 0.03 ... 0.01 0.43 0.57]\n"
     ]
    }
   ],
   "source": [
    "pp = MyPreProcessor()\n",
    "X,Y = pp.pre_process(1)\n",
    "print(X)\n",
    "print(np.squeeze(Y))"
   ]
  },
  {
   "cell_type": "code",
   "execution_count": 18,
   "metadata": {},
   "outputs": [
    {
     "name": "stdout",
     "output_type": "stream",
     "text": [
      "Training loss after  0  iterations is :  1.6668513245990948  | validation loss is :  1.5132902011921672\n",
      "Training loss after  500  iterations is :  1.5622520758132301  | validation loss is :  1.4128680460240104\n",
      "Training loss after  1000  iterations is :  1.5586948390734592  | validation loss is :  1.4102095720697394\n",
      "Training loss after  1500  iterations is :  1.5558096856974766  | validation loss is :  1.4080647225245109\n",
      "Training loss after  2000  iterations is :  1.5534663862702223  | validation loss is :  1.4064247360202438\n",
      "Training loss after  2500  iterations is :  1.5515649166471033  | validation loss is :  1.4051868757973378\n",
      "Training loss after  3000  iterations is :  1.5500230988014452  | validation loss is :  1.404266902094291\n",
      "Training loss after  3500  iterations is :  1.5487736293946908  | validation loss is :  1.4035968040741242\n",
      "Training loss after  4000  iterations is :  1.5477615288667872  | validation loss is :  1.4031219150416878\n",
      "Training loss after  4500  iterations is :  1.5469419784972207  | validation loss is :  1.4027984717044144\n",
      "Training loss after  5000  iterations is :  1.5462785043836185  | validation loss is :  1.4025915771085462\n",
      "Training loss after  5500  iterations is :  1.545741464436688  | validation loss is :  1.4024735143952338\n",
      "[[0.12638761]\n",
      " [0.80409768]]\n",
      "-0.11420810839200261\n",
      "Training loss after  0  iterations is :  1.6904062487997695  | validation loss is :  1.404951118661109\n",
      "Training loss after  500  iterations is :  1.5884918092335152  | validation loss is :  1.2920827434305975\n",
      "Training loss after  1000  iterations is :  1.5853971497126882  | validation loss is :  1.288291281756447\n",
      "Training loss after  1500  iterations is :  1.5828874235671244  | validation loss is :  1.2851036456967522\n",
      "Training loss after  2000  iterations is :  1.5808473351969836  | validation loss is :  1.2824933825584028\n",
      "Training loss after  2500  iterations is :  1.5791903165139498  | validation loss is :  1.2803572082084673\n",
      "Training loss after  3000  iterations is :  1.577845299856301  | validation loss is :  1.2786090734330788\n",
      "Training loss after  3500  iterations is :  1.5767540986655584  | validation loss is :  1.2771782204629\n",
      "Training loss after  4000  iterations is :  1.5758691769253221  | validation loss is :  1.2760066095131692\n",
      "Training loss after  4500  iterations is :  1.575151768698255  | validation loss is :  1.2750467213599819\n",
      "Training loss after  5000  iterations is :  1.574570305749002  | validation loss is :  1.2742597064697936\n",
      "Training loss after  5500  iterations is :  1.5740991112699547  | validation loss is :  1.2736138380957935\n",
      "[[0.11149463]\n",
      " [0.76308012]]\n",
      "-0.08920530375249774\n",
      "Training loss after  0  iterations is :  1.6828293731289041  | validation loss is :  1.4408474174204453\n",
      "Training loss after  500  iterations is :  1.5812756833639532  | validation loss is :  1.3270831787145843\n",
      "Training loss after  1000  iterations is :  1.5781889667297109  | validation loss is :  1.3232505791357996\n",
      "Training loss after  1500  iterations is :  1.5756795795024208  | validation loss is :  1.3200819945999749\n",
      "Training loss after  2000  iterations is :  1.5736350694024586  | validation loss is :  1.317495532979398\n",
      "Training loss after  2500  iterations is :  1.571970604064915  | validation loss is :  1.315386291281422\n",
      "Training loss after  3000  iterations is :  1.5706163791780259  | validation loss is :  1.3136672862417358\n",
      "Training loss after  3500  iterations is :  1.569515109631167  | validation loss is :  1.312266964055382\n",
      "Training loss after  4000  iterations is :  1.5686198870035284  | validation loss is :  1.3111266147706613\n",
      "Training loss after  4500  iterations is :  1.5678923683405113  | validation loss is :  1.3101981652446126\n",
      "Training loss after  5000  iterations is :  1.5673012575541792  | validation loss is :  1.3094423170536917\n",
      "Training loss after  5500  iterations is :  1.5668210404533585  | validation loss is :  1.3088269876538678\n",
      "[[0.10842844]\n",
      " [0.76382214]]\n",
      "-0.09579957291687974\n",
      "Training loss after  0  iterations is :  1.4722395452183292  | validation loss is :  2.1758686947349304\n",
      "Training loss after  500  iterations is :  1.3617264342875877  | validation loss is :  2.0835417600738677\n",
      "Training loss after  1000  iterations is :  1.3580063921873196  | validation loss is :  2.0804229982460405\n",
      "Training loss after  1500  iterations is :  1.3550820056067092  | validation loss is :  2.0779704661897687\n",
      "Training loss after  2000  iterations is :  1.3527851294384698  | validation loss is :  2.0759840890989274\n",
      "Training loss after  2500  iterations is :  1.3509832773532788  | validation loss is :  2.07437175507641\n",
      "Training loss after  3000  iterations is :  1.3495710695128857  | validation loss is :  2.0730598692924147\n",
      "Training loss after  3500  iterations is :  1.3484650227671666  | validation loss is :  2.0719895156001793\n",
      "Training loss after  4000  iterations is :  1.3475992093815723  | validation loss is :  2.071113584439968\n",
      "Training loss after  4500  iterations is :  1.3469216943106452  | validation loss is :  2.070394425616225\n",
      "Training loss after  5000  iterations is :  1.34639164482089  | validation loss is :  2.069801945984734\n",
      "Training loss after  5500  iterations is :  1.3459770059784397  | validation loss is :  2.069312077979748\n",
      "[[0.12334393]\n",
      " [0.77845267]]\n",
      "-0.11164310413257329\n",
      "Training loss after  0  iterations is :  1.6637344481673424  | validation loss is :  1.5270272344308038\n",
      "Training loss after  500  iterations is :  1.5624554149895205  | validation loss is :  1.41307835152844\n",
      "Training loss after  1000  iterations is :  1.559239065545348  | validation loss is :  1.4095158534526442\n",
      "Training loss after  1500  iterations is :  1.5566367964672096  | validation loss is :  1.4066476455318169\n",
      "Training loss after  2000  iterations is :  1.5545278192486418  | validation loss is :  1.4043190120815887\n",
      "Training loss after  2500  iterations is :  1.5528200563026775  | validation loss is :  1.402429682551625\n",
      "Training loss after  3000  iterations is :  1.5514381089627745  | validation loss is :  1.400897588833304\n",
      "Training loss after  3500  iterations is :  1.5503204123192074  | validation loss is :  1.3996556296984015\n",
      "Training loss after  4000  iterations is :  1.549416813686985  | validation loss is :  1.398649073629947\n",
      "Training loss after  4500  iterations is :  1.5486865339509361  | validation loss is :  1.3978333659127717\n",
      "Training loss after  5000  iterations is :  1.5480964661241823  | validation loss is :  1.3971722932357433\n",
      "Training loss after  5500  iterations is :  1.5476197650404968  | validation loss is :  1.3966364588332432\n",
      "[[0.11510364]\n",
      " [0.76929685]]\n",
      "-0.0980679493768302\n"
     ]
    }
   ],
   "source": [
    "video_game_model_rmse = k_fold_cross_validation(X,Y, epochs = 6000, learning_rate = 0.005)"
   ]
  },
  {
   "cell_type": "code",
   "execution_count": 19,
   "metadata": {},
   "outputs": [
    {
     "data": {
      "image/png": "[encoded data removed]",
      "text/plain": [
       "<Figure size 432x288 with 1 Axes>"
      ]
     },
     "metadata": {
      "needs_background": "light"
     },
     "output_type": "display_data"
    }
   ],
   "source": [
    "plt.plot([x for x in range(6000)], video_game_model_rmse[4][2][0:6000], label = \"Training RMSE loss \" )\n",
    "plt.plot([x for x in range(6000)], video_game_model_rmse[4][3][0:6000], label = \"Validation RMSE loss\")\n",
    "plt.xlabel('epochs')\n",
    "plt.ylabel('loss')\n",
    "plt.legend()\n",
    "plt.show()"
   ]
  },
  {
   "cell_type": "code",
   "execution_count": 20,
   "metadata": {},
   "outputs": [
    {
     "name": "stdout",
     "output_type": "stream",
     "text": [
      "Training loss after  0  iterations is :  0.5392231775700935  | validation loss is :  0.5107119353873766\n",
      "Training loss after  500  iterations is :  0.4640852215642782  | validation loss is :  0.4420986019684521\n",
      "Training loss after  1000  iterations is :  0.4636632763706102  | validation loss is :  0.44218608639552\n",
      "Training loss after  1500  iterations is :  0.4635788286766403  | validation loss is :  0.4422468728952584\n",
      "Training loss after  2000  iterations is :  0.4635560941749852  | validation loss is :  0.4422930774331041\n",
      "Training loss after  2500  iterations is :  0.46354903950045595  | validation loss is :  0.44232463493841356\n",
      "Training loss after  3000  iterations is :  0.463545473173169  | validation loss is :  0.44235085396378815\n",
      "Training loss after  3500  iterations is :  0.46354441816476954  | validation loss is :  0.44236070990046406\n",
      "Training loss after  4000  iterations is :  0.46354425874505467  | validation loss is :  0.44236203901130655\n",
      "Training loss after  4500  iterations is :  0.4635433613632426  | validation loss is :  0.44236327298707484\n",
      "[[-0.01737805]\n",
      " [ 0.16814425]]\n",
      "0.008826044097926887\n",
      "Training loss after  0  iterations is :  0.5391491588785047  | validation loss is :  0.5112593478911157\n",
      "Training loss after  500  iterations is :  0.46579312294995295  | validation loss is :  0.4359357580276352\n",
      "Training loss after  1000  iterations is :  0.4654988883281793  | validation loss is :  0.43534703666083846\n",
      "Training loss after  1500  iterations is :  0.4654472994131692  | validation loss is :  0.43515751497086846\n",
      "Training loss after  2000  iterations is :  0.46543074003125656  | validation loss is :  0.43506505949682783\n",
      "Training loss after  2500  iterations is :  0.4654280679499389  | validation loss is :  0.43503401153778004\n",
      "Training loss after  3000  iterations is :  0.4654266974164433  | validation loss is :  0.43501684104692206\n",
      "Training loss after  3500  iterations is :  0.46542599842997684  | validation loss is :  0.4350109039410317\n",
      "Training loss after  4000  iterations is :  0.4654254134895258  | validation loss is :  0.4350096247799093\n",
      "Training loss after  4500  iterations is :  0.4654248544937537  | validation loss is :  0.4350090134515673\n",
      "[[-0.02522251]\n",
      " [ 0.14944957]]\n",
      "0.015424542440223163\n",
      "Training loss after  0  iterations is :  0.5368336448598131  | validation loss is :  0.5203589590188453\n",
      "Training loss after  500  iterations is :  0.46269929571507656  | validation loss is :  0.4479630864883839\n",
      "Training loss after  1000  iterations is :  0.46236206463794965  | validation loss is :  0.4475885132760907\n",
      "Training loss after  1500  iterations is :  0.4622879326479292  | validation loss is :  0.4475095581228414\n",
      "Training loss after  2000  iterations is :  0.4622687567838909  | validation loss is :  0.44750005266049503\n",
      "Training loss after  2500  iterations is :  0.46226232448427274  | validation loss is :  0.44750117068812256\n",
      "Training loss after  3000  iterations is :  0.46225937136624057  | validation loss is :  0.4475075695054589\n",
      "Training loss after  3500  iterations is :  0.46225701051399193  | validation loss is :  0.4475095598079955\n",
      "Training loss after  4000  iterations is :  0.46225504431000575  | validation loss is :  0.4475121627245702\n",
      "Training loss after  4500  iterations is :  0.46225344626249704  | validation loss is :  0.44751327256795986\n",
      "[[-0.0256727 ]\n",
      " [ 0.15924458]]\n",
      "0.005178123748158683\n",
      "Training loss after  0  iterations is :  0.5204104672897196  | validation loss is :  0.5861352078970984\n",
      "Training loss after  500  iterations is :  0.4470727752119343  | validation loss is :  0.5104356906639151\n",
      "Training loss after  1000  iterations is :  0.44676836779456863  | validation loss is :  0.5100486896052236\n",
      "Training loss after  1500  iterations is :  0.44670081967483105  | validation loss is :  0.509948115002112\n",
      "Training loss after  2000  iterations is :  0.4466869114119854  | validation loss is :  0.5099194546200277\n",
      "Training loss after  2500  iterations is :  0.44668320100296427  | validation loss is :  0.5099060055464364\n",
      "Training loss after  3000  iterations is :  0.4466815178939601  | validation loss is :  0.5099007871053766\n",
      "Training loss after  3500  iterations is :  0.44668038965698653  | validation loss is :  0.509898870471755\n",
      "Training loss after  4000  iterations is :  0.44667934462491454  | validation loss is :  0.5098993649668728\n",
      "Training loss after  4500  iterations is :  0.44667840271345427  | validation loss is :  0.5098994688850825\n",
      "[[-0.02197731]\n",
      " [ 0.15660733]]\n",
      "0.011067458487090487\n",
      "Training loss after  0  iterations is :  0.532072523364486  | validation loss is :  0.5395782231528568\n",
      "Training loss after  500  iterations is :  0.4589558640255338  | validation loss is :  0.4627383778186608\n",
      "Training loss after  1000  iterations is :  0.45865493603803004  | validation loss is :  0.46248551973551316\n",
      "Training loss after  1500  iterations is :  0.4585992137275327  | validation loss is :  0.4623891172726864\n",
      "Training loss after  2000  iterations is :  0.4585835503348155  | validation loss is :  0.462382301421858\n",
      "Training loss after  2500  iterations is :  0.4585785133252414  | validation loss is :  0.46237371352260714\n",
      "Training loss after  3000  iterations is :  0.4585761129535414  | validation loss is :  0.4623769747823761\n",
      "Training loss after  3500  iterations is :  0.458574424326929  | validation loss is :  0.46237454883296514\n",
      "Training loss after  4000  iterations is :  0.4585731378656084  | validation loss is :  0.46237337723980987\n",
      "Training loss after  4500  iterations is :  0.45857230220049394  | validation loss is :  0.46237323574898703\n",
      "[[-0.02134661]\n",
      " [ 0.15839625]]\n",
      "0.00942168221761837\n"
     ]
    }
   ],
   "source": [
    "video_game_model_mae = k_fold_cross_validation(X,Y, learning_rate = 0.005,loss = \"mae\")"
   ]
  },
  {
   "cell_type": "code",
   "execution_count": 21,
   "metadata": {},
   "outputs": [
    {
     "data": {
      "image/png": "[encoded data removed]",
      "text/plain": [
       "<Figure size 432x288 with 1 Axes>"
      ]
     },
     "metadata": {
      "needs_background": "light"
     },
     "output_type": "display_data"
    }
   ],
   "source": [
    "plt.plot([x for x in range(5000)], video_game_model_mae[4][2][0:5000], label = \"Training MAE loss \" )\n",
    "plt.plot([x for x in range(5000)], video_game_model_mae[4][3][0:5000], label = \"Validation MAE loss\")\n",
    "plt.xlabel('epochs')\n",
    "plt.ylabel('loss')\n",
    "plt.legend()\n",
    "plt.show()"
   ]
  },
  {
   "cell_type": "code",
   "execution_count": 22,
   "metadata": {},
   "outputs": [
    {
     "name": "stdout",
     "output_type": "stream",
     "text": [
      "Stats for LR MAE Loss\n",
      "For CV number  0 the train loss =  0.46354241094715215  and the val loss =  0.4423660435489545\n",
      "For CV number  1 the train loss =  0.46542430140622526  and the val loss =  0.4350084351252972\n",
      "For CV number  2 the train loss =  0.46225189988422016  and the val loss =  0.44751330427174013\n",
      "For CV number  3 the train loss =  0.4466776228358148  and the val loss =  0.5098970599942781\n",
      "For CV number  4 the train loss =  0.45857158469923565  and the val loss =  0.46237290535541253\n",
      "Stats for LR RMSE Loss\n",
      "For CV number  0 the train loss =  1.5453075763237074  and the val loss =  1.4024224077886707\n",
      "For CV number  1 the train loss =  1.5737180064445566  and the val loss =  1.2730841882166737\n",
      "For CV number  2 the train loss =  1.5664316385892418  and the val loss =  1.3083269161349163\n",
      "For CV number  3 the train loss =  1.3456532161721486  and the val loss =  2.068906293507798\n",
      "For CV number  4 the train loss =  1.5472353757193322  and the val loss =  1.3962028041821222\n"
     ]
    }
   ],
   "source": [
    "print(\"Stats for LR MAE Loss\")\n",
    "for i in range(len(video_game_model_mae)):\n",
    "    print(\"For CV number \",i, \"the train loss = \", video_game_model_mae[i][0], \" and the val loss = \", video_game_model_mae[i][1] )\n",
    "print(\"Stats for LR RMSE Loss\")\n",
    "for i in range(len(video_game_model_rmse)):\n",
    "    print(\"For CV number \",i, \"the train loss = \", video_game_model_rmse[i][0], \" and the val loss = \", video_game_model_rmse[i][1] )"
   ]
  },
  {
   "cell_type": "code",
   "execution_count": null,
   "metadata": {},
   "outputs": [],
   "source": []
  }
 ],
 "metadata": {
  "kernelspec": {
   "display_name": "Python 3",
   "language": "python",
   "name": "python3"
  },
  "language_info": {
   "codemirror_mode": {
    "name": "ipython",
    "version": 3
   },
   "file_extension": ".py",
   "mimetype": "text/x-python",
   "name": "python",
   "nbconvert_exporter": "python",
   "pygments_lexer": "ipython3",
   "version": "3.7.4"
  }
 },
 "nbformat": 4,
 "nbformat_minor": 2
}
