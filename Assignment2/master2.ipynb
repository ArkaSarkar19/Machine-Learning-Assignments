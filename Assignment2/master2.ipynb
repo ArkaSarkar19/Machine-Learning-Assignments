{
 "cells": [
  {
   "cell_type": "code",
   "execution_count": 3,
   "metadata": {},
   "outputs": [],
   "source": [
    "import numpy as np\n",
    "import pandas as pd\n",
    "from sklearn.linear_model import LinearRegression"
   ]
  },
  {
   "cell_type": "code",
   "execution_count": 4,
   "metadata": {},
   "outputs": [],
   "source": [
    "df = pd.read_csv(\"Dataset/weight-height.csv\")"
   ]
  },
  {
   "cell_type": "code",
   "execution_count": 5,
   "metadata": {},
   "outputs": [
    {
     "data": {
      "text/html": [
       "<div>\n",
       "<style scoped>\n",
       "    .dataframe tbody tr th:only-of-type {\n",
       "        vertical-align: middle;\n",
       "    }\n",
       "\n",
       "    .dataframe tbody tr th {\n",
       "        vertical-align: top;\n",
       "    }\n",
       "\n",
       "    .dataframe thead th {\n",
       "        text-align: right;\n",
       "    }\n",
       "</style>\n",
       "<table border=\"1\" class=\"dataframe\">\n",
       "  <thead>\n",
       "    <tr style=\"text-align: right;\">\n",
       "      <th></th>\n",
       "      <th>Gender</th>\n",
       "      <th>Height</th>\n",
       "      <th>Weight</th>\n",
       "    </tr>\n",
       "  </thead>\n",
       "  <tbody>\n",
       "    <tr>\n",
       "      <td>0</td>\n",
       "      <td>Male</td>\n",
       "      <td>73.847017</td>\n",
       "      <td>241.893563</td>\n",
       "    </tr>\n",
       "    <tr>\n",
       "      <td>1</td>\n",
       "      <td>Male</td>\n",
       "      <td>68.781904</td>\n",
       "      <td>162.310473</td>\n",
       "    </tr>\n",
       "    <tr>\n",
       "      <td>2</td>\n",
       "      <td>Male</td>\n",
       "      <td>74.110105</td>\n",
       "      <td>212.740856</td>\n",
       "    </tr>\n",
       "    <tr>\n",
       "      <td>3</td>\n",
       "      <td>Male</td>\n",
       "      <td>71.730978</td>\n",
       "      <td>220.042470</td>\n",
       "    </tr>\n",
       "    <tr>\n",
       "      <td>4</td>\n",
       "      <td>Male</td>\n",
       "      <td>69.881796</td>\n",
       "      <td>206.349801</td>\n",
       "    </tr>\n",
       "  </tbody>\n",
       "</table>\n",
       "</div>"
      ],
      "text/plain": [
       "  Gender     Height      Weight\n",
       "0   Male  73.847017  241.893563\n",
       "1   Male  68.781904  162.310473\n",
       "2   Male  74.110105  212.740856\n",
       "3   Male  71.730978  220.042470\n",
       "4   Male  69.881796  206.349801"
      ]
     },
     "execution_count": 5,
     "metadata": {},
     "output_type": "execute_result"
    }
   ],
   "source": [
    "df.head()"
   ]
  },
  {
   "cell_type": "code",
   "execution_count": 9,
   "metadata": {},
   "outputs": [
    {
     "name": "stdout",
     "output_type": "stream",
     "text": [
      "[208.8391625  216.63399969 103.38694607 ... 119.31598826 200.31301563\n",
      " 163.29338674]\n",
      "[73.18176748 71.43337582 60.02674978 ... 63.31981767 68.99744011\n",
      " 66.44514693]\n"
     ]
    }
   ],
   "source": [
    "X = np.array(df[\"Weight\"])  #height\n",
    "y = np.array(df[\"Height\"])  #weight\n",
    "np.random.seed(123)\n",
    "index = np.random.permutation(X.shape[0])\n",
    "np.take(X, index, axis = 0, out = X)\n",
    "np.take(y, index, axis = 0, out = y)\n",
    "print(X)\n",
    "X = X.reshape(-1,1)\n",
    "print(y)\n"
   ]
  },
  {
   "cell_type": "code",
   "execution_count": 10,
   "metadata": {},
   "outputs": [],
   "source": [
    "from sklearn.preprocessing import StandardScaler\n",
    "standardScalar = StandardScaler()\n",
    "X = standardScalar.fit_transform(X)"
   ]
  },
  {
   "cell_type": "code",
   "execution_count": 12,
   "metadata": {},
   "outputs": [
    {
     "name": "stdout",
     "output_type": "stream",
     "text": [
      "(10000, 1)\n",
      "(10000,)\n"
     ]
    }
   ],
   "source": [
    "print(X.shape)\n",
    "print(y.shape)"
   ]
  },
  {
   "cell_type": "code",
   "execution_count": 16,
   "metadata": {},
   "outputs": [],
   "source": [
    "from sklearn.model_selection import train_test_split\n",
    "X_train, X_test, y_train, y_test = train_test_split(X, y, test_size=0.15, random_state=0)\n"
   ]
  },
  {
   "cell_type": "code",
   "execution_count": 17,
   "metadata": {},
   "outputs": [
    {
     "name": "stdout",
     "output_type": "stream",
     "text": [
      "(8500, 1)\n"
     ]
    }
   ],
   "source": [
    "print(X_train.shape)"
   ]
  },
  {
   "cell_type": "code",
   "execution_count": 25,
   "metadata": {},
   "outputs": [
    {
     "name": "stdout",
     "output_type": "stream",
     "text": [
      "(8500, 1)\n",
      "(8500,)\n",
      "(8500, 1)\n",
      "(8500,)\n",
      "(8500, 1)\n",
      "(8500,)\n",
      "(8500, 1)\n",
      "(8500,)\n",
      "(8500, 1)\n",
      "(8500,)\n",
      "(8500, 1)\n",
      "(8500,)\n",
      "(8500, 1)\n",
      "(8500,)\n",
      "(8500, 1)\n",
      "(8500,)\n",
      "(8500, 1)\n",
      "(8500,)\n",
      "(8500, 1)\n",
      "(8500,)\n",
      "(8500, 1)\n",
      "(8500,)\n",
      "(8500, 1)\n",
      "(8500,)\n",
      "(8500, 1)\n",
      "(8500,)\n",
      "(8500, 1)\n",
      "(8500,)\n",
      "(8500, 1)\n",
      "(8500,)\n",
      "(8500, 1)\n",
      "(8500,)\n",
      "(8500, 1)\n",
      "(8500,)\n",
      "(8500, 1)\n",
      "(8500,)\n",
      "(8500, 1)\n",
      "(8500,)\n",
      "(8500, 1)\n",
      "(8500,)\n",
      "(8500, 1)\n",
      "(8500,)\n",
      "(8500, 1)\n",
      "(8500,)\n",
      "(8500, 1)\n",
      "(8500,)\n",
      "(8500, 1)\n",
      "(8500,)\n",
      "(8500, 1)\n",
      "(8500,)\n",
      "(8500, 1)\n",
      "(8500,)\n",
      "(8500, 1)\n",
      "(8500,)\n",
      "(8500, 1)\n",
      "(8500,)\n",
      "(8500, 1)\n",
      "(8500,)\n",
      "(8500, 1)\n",
      "(8500,)\n",
      "(8500, 1)\n",
      "(8500,)\n",
      "(8500, 1)\n",
      "(8500,)\n",
      "(8500, 1)\n",
      "(8500,)\n",
      "(8500, 1)\n",
      "(8500,)\n",
      "(8500, 1)\n",
      "(8500,)\n",
      "(8500, 1)\n",
      "(8500,)\n",
      "(8500, 1)\n",
      "(8500,)\n",
      "(8500, 1)\n",
      "(8500,)\n",
      "(8500, 1)\n",
      "(8500,)\n",
      "(8500, 1)\n",
      "(8500,)\n",
      "(8500, 1)\n",
      "(8500,)\n",
      "(8500, 1)\n",
      "(8500,)\n",
      "(8500, 1)\n",
      "(8500,)\n",
      "(8500, 1)\n",
      "(8500,)\n",
      "(8500, 1)\n",
      "(8500,)\n",
      "(8500, 1)\n",
      "(8500,)\n",
      "(8500, 1)\n",
      "(8500,)\n",
      "(8500, 1)\n",
      "(8500,)\n",
      "(8500, 1)\n",
      "(8500,)\n",
      "(8500, 1)\n",
      "(8500,)\n",
      "(8500, 1)\n",
      "(8500,)\n",
      "(8500, 1)\n",
      "(8500,)\n",
      "(8500, 1)\n",
      "(8500,)\n",
      "(8500, 1)\n",
      "(8500,)\n",
      "(8500, 1)\n",
      "(8500,)\n",
      "(8500, 1)\n",
      "(8500,)\n",
      "(8500, 1)\n",
      "(8500,)\n",
      "(8500, 1)\n",
      "(8500,)\n",
      "(8500, 1)\n",
      "(8500,)\n",
      "(8500, 1)\n",
      "(8500,)\n",
      "(8500, 1)\n",
      "(8500,)\n",
      "(8500, 1)\n",
      "(8500,)\n",
      "(8500, 1)\n",
      "(8500,)\n",
      "(8500, 1)\n",
      "(8500,)\n",
      "(8500, 1)\n",
      "(8500,)\n",
      "(8500, 1)\n",
      "(8500,)\n",
      "(8500, 1)\n",
      "(8500,)\n",
      "(8500, 1)\n",
      "(8500,)\n",
      "(8500, 1)\n",
      "(8500,)\n",
      "(8500, 1)\n",
      "(8500,)\n",
      "(8500, 1)\n",
      "(8500,)\n",
      "(8500, 1)\n",
      "(8500,)\n",
      "(8500, 1)\n",
      "(8500,)\n",
      "(8500, 1)\n",
      "(8500,)\n",
      "(8500, 1)\n",
      "(8500,)\n",
      "(8500, 1)\n",
      "(8500,)\n",
      "(8500, 1)\n",
      "(8500,)\n",
      "(8500, 1)\n",
      "(8500,)\n",
      "(8500, 1)\n",
      "(8500,)\n",
      "(8500, 1)\n",
      "(8500,)\n",
      "(8500, 1)\n",
      "(8500,)\n",
      "(8500, 1)\n",
      "(8500,)\n",
      "(8500, 1)\n",
      "(8500,)\n",
      "(8500, 1)\n",
      "(8500,)\n",
      "(8500, 1)\n",
      "(8500,)\n",
      "(8500, 1)\n",
      "(8500,)\n",
      "(8500, 1)\n",
      "(8500,)\n",
      "(8500, 1)\n",
      "(8500,)\n",
      "(8500, 1)\n",
      "(8500,)\n",
      "(8500, 1)\n",
      "(8500,)\n",
      "(8500, 1)\n",
      "(8500,)\n",
      "(8500, 1)\n",
      "(8500,)\n",
      "(8500, 1)\n",
      "(8500,)\n",
      "(8500, 1)\n",
      "(8500,)\n",
      "(8500, 1)\n",
      "(8500,)\n",
      "(8500, 1)\n",
      "(8500,)\n",
      "(8500, 1)\n",
      "(8500,)\n",
      "(8500, 1)\n",
      "(8500,)\n",
      "(8500, 1)\n",
      "(8500,)\n",
      "(8500, 1)\n",
      "(8500,)\n"
     ]
    }
   ],
   "source": [
    "n_samples = 100\n",
    "for i in range(n_samples):\n",
    "    X_train_b = []\n",
    "    y_train_b = []\n",
    "    X_test_b = []\n",
    "    y_test_b = []\n",
    "    for _ in range(X_train.shape[0]):\n",
    "        idx = np.random.randint(0,X_train.shape[0])\n",
    "        X_train_b.append(X_train[idx,:])\n",
    "        y_train_b.append(y_train[idx])\n",
    "    X_train_b = np.array(X_train_b)\n",
    "    y_train_b = np.array(y_train_b)\n",
    "    \n",
    "    \n",
    "    \n"
   ]
  },
  {
   "cell_type": "code",
   "execution_count": 26,
   "metadata": {},
   "outputs": [
    {
     "name": "stdout",
     "output_type": "stream",
     "text": [
      "[[-0.57908254]\n",
      " [ 1.29279789]\n",
      " [ 0.6106441 ]\n",
      " ...\n",
      " [-0.86211751]\n",
      " [-0.54758629]\n",
      " [ 0.6158725 ]]\n"
     ]
    }
   ],
   "source": [
    "print(X_b)"
   ]
  },
  {
   "cell_type": "code",
   "execution_count": null,
   "metadata": {},
   "outputs": [],
   "source": []
  }
 ],
 "metadata": {
  "kernelspec": {
   "display_name": "Python 3",
   "language": "python",
   "name": "python3"
  },
  "language_info": {
   "codemirror_mode": {
    "name": "ipython",
    "version": 3
   },
   "file_extension": ".py",
   "mimetype": "text/x-python",
   "name": "python",
   "nbconvert_exporter": "python",
   "pygments_lexer": "ipython3",
   "version": "3.7.4"
  }
 },
 "nbformat": 4,
 "nbformat_minor": 2
}
