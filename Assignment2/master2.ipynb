{
 "cells": [
  {
   "cell_type": "code",
   "execution_count": 48,
   "metadata": {},
   "outputs": [],
   "source": [
    "import numpy as np\n",
    "import pandas as pd\n",
    "from sklearn.linear_model import LinearRegression\n",
    "from sklearn.metrics import accuracy_score"
   ]
  },
  {
   "cell_type": "code",
   "execution_count": 49,
   "metadata": {},
   "outputs": [],
   "source": [
    "df = pd.read_csv(\"Dataset/weight-height.csv\")"
   ]
  },
  {
   "cell_type": "code",
   "execution_count": 50,
   "metadata": {},
   "outputs": [
    {
     "data": {
      "text/html": [
       "<div>\n",
       "<style scoped>\n",
       "    .dataframe tbody tr th:only-of-type {\n",
       "        vertical-align: middle;\n",
       "    }\n",
       "\n",
       "    .dataframe tbody tr th {\n",
       "        vertical-align: top;\n",
       "    }\n",
       "\n",
       "    .dataframe thead th {\n",
       "        text-align: right;\n",
       "    }\n",
       "</style>\n",
       "<table border=\"1\" class=\"dataframe\">\n",
       "  <thead>\n",
       "    <tr style=\"text-align: right;\">\n",
       "      <th></th>\n",
       "      <th>Gender</th>\n",
       "      <th>Height</th>\n",
       "      <th>Weight</th>\n",
       "    </tr>\n",
       "  </thead>\n",
       "  <tbody>\n",
       "    <tr>\n",
       "      <td>0</td>\n",
       "      <td>Male</td>\n",
       "      <td>73.847017</td>\n",
       "      <td>241.893563</td>\n",
       "    </tr>\n",
       "    <tr>\n",
       "      <td>1</td>\n",
       "      <td>Male</td>\n",
       "      <td>68.781904</td>\n",
       "      <td>162.310473</td>\n",
       "    </tr>\n",
       "    <tr>\n",
       "      <td>2</td>\n",
       "      <td>Male</td>\n",
       "      <td>74.110105</td>\n",
       "      <td>212.740856</td>\n",
       "    </tr>\n",
       "    <tr>\n",
       "      <td>3</td>\n",
       "      <td>Male</td>\n",
       "      <td>71.730978</td>\n",
       "      <td>220.042470</td>\n",
       "    </tr>\n",
       "    <tr>\n",
       "      <td>4</td>\n",
       "      <td>Male</td>\n",
       "      <td>69.881796</td>\n",
       "      <td>206.349801</td>\n",
       "    </tr>\n",
       "  </tbody>\n",
       "</table>\n",
       "</div>"
      ],
      "text/plain": [
       "  Gender     Height      Weight\n",
       "0   Male  73.847017  241.893563\n",
       "1   Male  68.781904  162.310473\n",
       "2   Male  74.110105  212.740856\n",
       "3   Male  71.730978  220.042470\n",
       "4   Male  69.881796  206.349801"
      ]
     },
     "execution_count": 50,
     "metadata": {},
     "output_type": "execute_result"
    }
   ],
   "source": [
    "df.head()"
   ]
  },
  {
   "cell_type": "code",
   "execution_count": 51,
   "metadata": {},
   "outputs": [
    {
     "name": "stdout",
     "output_type": "stream",
     "text": [
      "[208.8391625  216.63399969 103.38694607 ... 119.31598826 200.31301563\n",
      " 163.29338674]\n",
      "[73.18176748 71.43337582 60.02674978 ... 63.31981767 68.99744011\n",
      " 66.44514693]\n"
     ]
    }
   ],
   "source": [
    "X = np.array(df[\"Weight\"])  #height\n",
    "y = np.array(df[\"Height\"])  #weight\n",
    "np.random.seed(123)\n",
    "index = np.random.permutation(X.shape[0])\n",
    "np.take(X, index, axis = 0, out = X)\n",
    "np.take(y, index, axis = 0, out = y)\n",
    "print(X)\n",
    "X = X.reshape(-1,1)\n",
    "print(y)\n"
   ]
  },
  {
   "cell_type": "code",
   "execution_count": 52,
   "metadata": {},
   "outputs": [],
   "source": [
    "from sklearn.preprocessing import StandardScaler\n",
    "standardScalar = StandardScaler()\n",
    "X = standardScalar.fit_transform(X)"
   ]
  },
  {
   "cell_type": "code",
   "execution_count": 53,
   "metadata": {},
   "outputs": [
    {
     "name": "stdout",
     "output_type": "stream",
     "text": [
      "(10000, 1)\n",
      "(10000,)\n"
     ]
    }
   ],
   "source": [
    "print(X.shape)\n",
    "print(y.shape)"
   ]
  },
  {
   "cell_type": "code",
   "execution_count": 54,
   "metadata": {},
   "outputs": [],
   "source": [
    "from sklearn.model_selection import train_test_split\n",
    "X_train, X_test, y_train, y_test = train_test_split(X, y, test_size=0.15, random_state=0)\n"
   ]
  },
  {
   "cell_type": "code",
   "execution_count": 55,
   "metadata": {},
   "outputs": [
    {
     "name": "stdout",
     "output_type": "stream",
     "text": [
      "(8500, 1)\n"
     ]
    }
   ],
   "source": [
    "print(X_train.shape)"
   ]
  },
  {
   "cell_type": "code",
   "execution_count": 56,
   "metadata": {
    "scrolled": true
   },
   "outputs": [
    {
     "name": "stdout",
     "output_type": "stream",
     "text": [
      "Model running  0\n",
      "Model running  1\n",
      "Model running  2\n",
      "Model running  3\n",
      "Model running  4\n",
      "Model running  5\n",
      "Model running  6\n",
      "Model running  7\n",
      "Model running  8\n",
      "Model running  9\n",
      "Model running  10\n",
      "Model running  11\n",
      "Model running  12\n",
      "Model running  13\n",
      "Model running  14\n",
      "Model running  15\n",
      "Model running  16\n",
      "Model running  17\n",
      "Model running  18\n",
      "Model running  19\n",
      "Model running  20\n",
      "Model running  21\n",
      "Model running  22\n",
      "Model running  23\n",
      "Model running  24\n",
      "Model running  25\n",
      "Model running  26\n",
      "Model running  27\n",
      "Model running  28\n",
      "Model running  29\n",
      "Model running  30\n",
      "Model running  31\n",
      "Model running  32\n",
      "Model running  33\n",
      "Model running  34\n",
      "Model running  35\n",
      "Model running  36\n",
      "Model running  37\n",
      "Model running  38\n",
      "Model running  39\n",
      "Model running  40\n",
      "Model running  41\n",
      "Model running  42\n",
      "Model running  43\n",
      "Model running  44\n",
      "Model running  45\n",
      "Model running  46\n",
      "Model running  47\n",
      "Model running  48\n",
      "Model running  49\n",
      "Model running  50\n",
      "Model running  51\n",
      "Model running  52\n",
      "Model running  53\n",
      "Model running  54\n",
      "Model running  55\n",
      "Model running  56\n",
      "Model running  57\n",
      "Model running  58\n",
      "Model running  59\n",
      "Model running  60\n",
      "Model running  61\n",
      "Model running  62\n",
      "Model running  63\n",
      "Model running  64\n",
      "Model running  65\n",
      "Model running  66\n",
      "Model running  67\n",
      "Model running  68\n",
      "Model running  69\n",
      "Model running  70\n",
      "Model running  71\n",
      "Model running  72\n",
      "Model running  73\n",
      "Model running  74\n",
      "Model running  75\n",
      "Model running  76\n",
      "Model running  77\n",
      "Model running  78\n",
      "Model running  79\n",
      "Model running  80\n",
      "Model running  81\n",
      "Model running  82\n",
      "Model running  83\n",
      "Model running  84\n",
      "Model running  85\n",
      "Model running  86\n",
      "Model running  87\n",
      "Model running  88\n",
      "Model running  89\n",
      "Model running  90\n",
      "Model running  91\n",
      "Model running  92\n",
      "Model running  93\n",
      "Model running  94\n",
      "Model running  95\n",
      "Model running  96\n",
      "Model running  97\n",
      "Model running  98\n",
      "Model running  99\n"
     ]
    }
   ],
   "source": [
    "n_samples = 100\n",
    "y_pred_b = []\n",
    "for i in range(n_samples):\n",
    "    X_train_b = []\n",
    "    y_train_b = []\n",
    "    for _ in range(X_train.shape[0]):\n",
    "        idx = np.random.randint(0,X_train.shape[0])\n",
    "        X_train_b.append(X_train[idx,:])\n",
    "        y_train_b.append(y_train[idx])\n",
    "    X_train_b = np.array(X_train_b)\n",
    "    y_train_b = np.array(y_train_b)\n",
    "    \n",
    "    X_train_b = np.array(X_train_b)\n",
    "    y_train_b = np.array(y_train_b)\n",
    "    \n",
    "    model = LinearRegression()\n",
    "    model.fit(X_train_b,y_train_b)\n",
    "    y_pred = model.predict(X_test)\n",
    "    print(\"Model running \", i, )\n",
    "    y_pred_b.append(y_pred)\n",
    "\n",
    "    \n",
    "y_pred_b = np.array(y_pred_b)    \n"
   ]
  },
  {
   "cell_type": "code",
   "execution_count": 57,
   "metadata": {},
   "outputs": [
    {
     "name": "stdout",
     "output_type": "stream",
     "text": [
      "Bias :  1.1703697213874578\n",
      "Variance : 0.000514523938981076\n",
      "MSE 2.201868871503514\n",
      "MSE - bias**2 - Variance :  0.8315890628239774\n"
     ]
    }
   ],
   "source": [
    "y_pred_b = np.array(y_pred_b)    \n",
    "\n",
    "\n",
    "avg = np.sum(y_pred_b,axis = 0)/y_pred_b.shape[0]\n",
    "\n",
    "\n",
    "bias = abs(y_test - avg).mean()\n",
    "print(\"Bias : \", bias)\n",
    "\n",
    "var = (np.sum((y_pred_b - avg)**2,axis = 0)/99).mean()\n",
    "print(\"Variance :\", var)\n",
    "\n",
    "MSE = (np.sum((y_pred_b - y_test)**2,axis = 0)/99).mean()\n",
    "print(\"MSE\",MSE)\n",
    "\n",
    "noise = MSE - (bias)**2 - var.mean()\n",
    "\n",
    "print(\"MSE - bias**2 - Variance : \", noise)"
   ]
  },
  {
   "cell_type": "code",
   "execution_count": null,
   "metadata": {},
   "outputs": [],
   "source": []
  },
  {
   "cell_type": "code",
   "execution_count": null,
   "metadata": {},
   "outputs": [],
   "source": []
  },
  {
   "cell_type": "code",
   "execution_count": null,
   "metadata": {},
   "outputs": [],
   "source": []
  },
  {
   "cell_type": "code",
   "execution_count": null,
   "metadata": {},
   "outputs": [],
   "source": []
  },
  {
   "cell_type": "code",
   "execution_count": null,
   "metadata": {},
   "outputs": [],
   "source": []
  }
 ],
 "metadata": {
  "kernelspec": {
   "display_name": "Python 3",
   "language": "python",
   "name": "python3"
  },
  "language_info": {
   "codemirror_mode": {
    "name": "ipython",
    "version": 3
   },
   "file_extension": ".py",
   "mimetype": "text/x-python",
   "name": "python",
   "nbconvert_exporter": "python",
   "pygments_lexer": "ipython3",
   "version": "3.7.4"
  }
 },
 "nbformat": 4,
 "nbformat_minor": 2
}
