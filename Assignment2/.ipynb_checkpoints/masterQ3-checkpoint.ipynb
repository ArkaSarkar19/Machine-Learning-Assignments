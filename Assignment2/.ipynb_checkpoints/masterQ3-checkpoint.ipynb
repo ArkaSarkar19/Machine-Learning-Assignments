{
 "cells": [
  {
   "cell_type": "code",
   "execution_count": 1,
   "metadata": {},
   "outputs": [
    {
     "data": {
      "text/plain": [
       "'Dataset A'"
      ]
     },
     "execution_count": 1,
     "metadata": {},
     "output_type": "execute_result"
    }
   ],
   "source": [
    "\"\"\"Dataset A\"\"\""
   ]
  },
  {
   "cell_type": "code",
   "execution_count": 2,
   "metadata": {},
   "outputs": [],
   "source": [
    "from Q3 import *\n"
   ]
  },
  {
   "cell_type": "code",
   "execution_count": 3,
   "metadata": {},
   "outputs": [
    {
     "name": "stdout",
     "output_type": "stream",
     "text": [
      "(4200, 784) (4200, 10)\n",
      "The class frequencies are : \n",
      "The frequency of class 0 is 400.0 / 4200\n",
      "The frequency of class 1 is 494.0 / 4200\n",
      "The frequency of class 2 is 393.0 / 4200\n",
      "The frequency of class 3 is 424.0 / 4200\n",
      "The frequency of class 4 is 416.0 / 4200\n",
      "The frequency of class 5 is 398.0 / 4200\n",
      "The frequency of class 6 is 441.0 / 4200\n",
      "The frequency of class 7 is 431.0 / 4200\n",
      "The frequency of class 8 is 410.0 / 4200\n",
      "The frequency of class 9 is 393.0 / 4200\n",
      "Current parameters :  {'max_depth': 1}\n",
      "Best validation score achieved :  0.21666666666666667  Average validation score achieved :  0.2045238095238095 \n",
      "\n",
      "Current parameters :  {'max_depth': 2}\n",
      "Best validation score achieved :  0.36428571428571427  Average validation score achieved :  0.3280952380952381 \n",
      "\n",
      "Current parameters :  {'max_depth': 3}\n",
      "Best validation score achieved :  0.49047619047619045  Average validation score achieved :  0.42428571428571427 \n",
      "\n",
      "Current parameters :  {'max_depth': 4}\n",
      "Best validation score achieved :  0.5904761904761905  Average validation score achieved :  0.5483333333333332 \n",
      "\n",
      "Current parameters :  {'max_depth': 5}\n",
      "Best validation score achieved :  0.6761904761904762  Average validation score achieved :  0.6414285714285713 \n",
      "\n",
      "Current parameters :  {'max_depth': 6}\n",
      "Best validation score achieved :  0.7297619047619047  Average validation score achieved :  0.690952380952381 \n",
      "\n",
      "Current parameters :  {'max_depth': 7}\n",
      "Best validation score achieved :  0.7702380952380953  Average validation score achieved :  0.7183333333333333 \n",
      "\n",
      "Current parameters :  {'max_depth': 8}\n",
      "Best validation score achieved :  0.763095238095238  Average validation score achieved :  0.7338095238095239 \n",
      "\n",
      "Current parameters :  {'max_depth': 9}\n",
      "Best validation score achieved :  0.7642857142857142  Average validation score achieved :  0.7461904761904761 \n",
      "\n",
      "Current parameters :  {'max_depth': 10}\n",
      "Best validation score achieved :  0.763095238095238  Average validation score achieved :  0.75 \n",
      "\n",
      "Current parameters :  {'max_depth': 11}\n",
      "Best validation score achieved :  0.7523809523809524  Average validation score achieved :  0.7423809523809524 \n",
      "\n",
      "Current parameters :  {'max_depth': 12}\n",
      "Best validation score achieved :  0.7583333333333333  Average validation score achieved :  0.7473809523809524 \n",
      "\n",
      "Current parameters :  {'max_depth': 13}\n",
      "Best validation score achieved :  0.75  Average validation score achieved :  0.7395238095238096 \n",
      "\n",
      "Current parameters :  {'max_depth': 14}\n",
      "Best validation score achieved :  0.763095238095238  Average validation score achieved :  0.7492857142857143 \n",
      "\n",
      "Current parameters :  {'max_depth': 15}\n",
      "Best validation score achieved :  0.7583333333333333  Average validation score achieved :  0.7435714285714285 \n",
      "\n",
      "Current parameters :  {'max_depth': 16}\n",
      "Best validation score achieved :  0.7642857142857142  Average validation score achieved :  0.7445238095238096 \n",
      "\n",
      "Current parameters :  {'max_depth': 17}\n",
      "Best validation score achieved :  0.7523809523809524  Average validation score achieved :  0.7414285714285714 \n",
      "\n",
      "Current parameters :  {'max_depth': 18}\n",
      "Best validation score achieved :  0.7523809523809524  Average validation score achieved :  0.7430952380952381 \n",
      "\n",
      "Current parameters :  {'max_depth': 19}\n",
      "Best validation score achieved :  0.7666666666666667  Average validation score achieved :  0.7440476190476191 \n",
      "\n",
      "Current parameters :  {'max_depth': 20}\n",
      "Best validation score achieved :  0.7559523809523809  Average validation score achieved :  0.7445238095238096 \n",
      "\n",
      "Current parameters :  {'max_depth': 21}\n",
      "Best validation score achieved :  0.7559523809523809  Average validation score achieved :  0.74 \n",
      "\n",
      "Current parameters :  {'max_depth': 22}\n",
      "Best validation score achieved :  0.7607142857142857  Average validation score achieved :  0.7416666666666667 \n",
      "\n",
      "Current parameters :  {'max_depth': 23}\n",
      "Best validation score achieved :  0.7547619047619047  Average validation score achieved :  0.7459523809523809 \n",
      "\n",
      "Current parameters :  {'max_depth': 24}\n",
      "Best validation score achieved :  0.7583333333333333  Average validation score achieved :  0.7426190476190476 \n",
      "\n",
      "Current parameters :  {'max_depth': 25}\n",
      "Best validation score achieved :  0.7654761904761904  Average validation score achieved :  0.7447619047619047 \n",
      "\n",
      "Current parameters :  {'max_depth': 26}\n",
      "Best validation score achieved :  0.7666666666666667  Average validation score achieved :  0.7454761904761905 \n",
      "\n",
      "Current parameters :  {'max_depth': 27}\n",
      "Best validation score achieved :  0.7607142857142857  Average validation score achieved :  0.745 \n",
      "\n",
      "Current parameters :  {'max_depth': 28}\n",
      "Best validation score achieved :  0.7714285714285715  Average validation score achieved :  0.746904761904762 \n",
      "\n",
      "Current parameters :  {'max_depth': 29}\n",
      "Best validation score achieved :  0.7416666666666667  Average validation score achieved :  0.7380952380952381 \n",
      "\n",
      "Best  max_depth  :  28\n",
      "DecisionTreeClassifier ( {'class_weight': None, 'criterion': 'gini', 'max_depth': 29, 'max_features': None, 'max_leaf_nodes': None, 'min_impurity_decrease': 0.0, 'min_impurity_split': None, 'min_samples_leaf': 1, 'min_samples_split': 2, 'min_weight_fraction_leaf': 0.0, 'presort': False, 'random_state': None, 'splitter': 'best'} )\n"
     ]
    }
   ],
   "source": [
    "X,Y = load_dataset()\n",
    "std_slc = StandardScaler()\n",
    "\n",
    "X = std_slc.fit_transform(X)\n",
    "\n",
    "dec_tree = tree.DecisionTreeClassifier()\n",
    "\n",
    "max_depth = list([i for i in range(1,30,1)])\n",
    "\n",
    "parameters = dict( max_depth=max_depth)\n",
    "\n",
    "clf_GS = MyGridSearchCV(dec_tree, parameters)\n",
    "clf_GS.fit(X, Y)"
   ]
  },
  {
   "cell_type": "code",
   "execution_count": 5,
   "metadata": {},
   "outputs": [
    {
     "data": {
      "image/png": "[encoded data removed]",
      "text/plain": [
       "<Figure size 432x288 with 1 Axes>"
      ]
     },
     "metadata": {
      "needs_background": "light"
     },
     "output_type": "display_data"
    }
   ],
   "source": [
    "import matplotlib.pyplot as plt \n",
    "plt.plot([x for x in range(1,30,1)], clf_GS.training_accuracy_history, label = \"Training  accuracy \" )\n",
    "plt.plot([x for x in range(1,30,1)], clf_GS.validation_accuracy_history, label = \"Validation  accuracy\")\n",
    "plt.xlabel('max_depth')\n",
    "plt.ylabel('accuracy')\n",
    "plt.legend()\n",
    "plt.show()"
   ]
  },
  {
   "cell_type": "code",
   "execution_count": null,
   "metadata": {},
   "outputs": [],
   "source": []
  }
 ],
 "metadata": {
  "kernelspec": {
   "display_name": "Python 3",
   "language": "python",
   "name": "python3"
  },
  "language_info": {
   "codemirror_mode": {
    "name": "ipython",
    "version": 3
   },
   "file_extension": ".py",
   "mimetype": "text/x-python",
   "name": "python",
   "nbconvert_exporter": "python",
   "pygments_lexer": "ipython3",
   "version": "3.7.4"
  }
 },
 "nbformat": 4,
 "nbformat_minor": 2
}
