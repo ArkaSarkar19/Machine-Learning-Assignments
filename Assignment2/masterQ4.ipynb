{
 "cells": [
  {
   "cell_type": "code",
   "execution_count": 10,
   "metadata": {},
   "outputs": [],
   "source": [
    "import numpy as np\n",
    "import scipy as sp \n",
    "import pandas as pd\n",
    "import h5py as h5py\n",
    "import math\n",
    "from sklearn.model_selection import train_test_split\n",
    "import sklearn.metrics as met\n",
    "from tabulate import tabulate"
   ]
  },
  {
   "cell_type": "code",
   "execution_count": 2,
   "metadata": {},
   "outputs": [],
   "source": [
    "from Q4 import *"
   ]
  },
  {
   "cell_type": "code",
   "execution_count": 3,
   "metadata": {},
   "outputs": [],
   "source": [
    "def load_dataset(dataset = 0):\n",
    "\n",
    "    \"\"\" Returns the shuffled dataset from the .h5 file and calculates the class frequences. \n",
    "\n",
    "    Parameters\n",
    "    ----------\n",
    "    dataset : Integer to denoted the type of dataset to be loaded, default = 0\n",
    "\n",
    "    Returns\n",
    "    --------\n",
    "    X :  2-dimensional numpy array of shape (n_samples, n_features) which acts as data.\n",
    "    Y : 1-dimensional numpy array of shape (n_samples,) which acts as labels.\n",
    "\n",
    "    \"\"\"\n",
    "    ## Dataset A\n",
    "    if (dataset == 0):\n",
    "        hf = h5py.File('Dataset/part_A_train.h5', 'r') #read the dataset \n",
    "        \n",
    "        X = np.array(hf['X']) # X data  \n",
    "        Y = np.array(hf['Y']) # class labels of the form [0,0,0,1,0,,..]\n",
    "        print(X.shape,Y.shape)\n",
    "\n",
    "        \"\"\" To calculate the class frequencies \"\"\"\n",
    "\n",
    "        print(\"The class frequencies are : \")\n",
    "\n",
    "        for i in range(Y.shape[1]):\n",
    "            freq = np.sum(Y[:,i])\n",
    "            print(\"The frequency of class \" + str(i) + \" is \" + str(freq) + \" / \" + str(Y.shape[0]) )\n",
    "\n",
    "        \"\"\" Converting the binary class labels into single valued blabels \"\"\"\n",
    "        y = []\n",
    "        for i in range(Y.shape[0]):\n",
    "            for j in range(Y.shape[1]):\n",
    "                if(Y[i,j] == 1):\n",
    "                    y.append(j)\n",
    "        \n",
    "        y = np.array(y)\n",
    "        Y = y.reshape(-1,1)\n",
    "        Y = np.squeeze(Y)\n",
    "\n",
    "        \"\"\" Shuffling the dataset \"\"\"\n",
    "        np.random.seed(123)\n",
    "        index = np.random.permutation(X.shape[0])\n",
    "        np.take(X, index, axis = 0, out = X)\n",
    "        np.take(Y, index, axis = 0, out = Y)\n",
    "\n",
    "    ## dataset B\n",
    "    elif(dataset == 1):\n",
    "\n",
    "        hf = h5py.File('Dataset/part_B_train.h5', 'r') #read the dataset \n",
    "\n",
    "        X = np.array(hf['X']) # X data  \n",
    "        Y = np.array(hf['Y']) # class labels of the form [0,0,0,1,0,,..]\n",
    "        print(X.shape,Y.shape)\n",
    "\n",
    "        \"\"\" To calculate the class frequencies \"\"\"\n",
    "\n",
    "        print(\"The class frequencies are : \")\n",
    "\n",
    "        for i in range(Y.shape[1]):\n",
    "            freq = np.sum(Y[:,i])\n",
    "            print(\"The frequency of class \" + str(i) + \" is \" + str(freq) + \" / \" + str(Y.shape[0]) )\n",
    "\n",
    "        \"\"\" Converting the binary class labels into single valued blabels \"\"\"\n",
    "        y = []\n",
    "        for i in range(Y.shape[0]):\n",
    "            for j in range(Y.shape[1]):\n",
    "                if(Y[i,j] == 1):\n",
    "                    y.append(j)\n",
    "\n",
    "        y = np.array(y)\n",
    "        Y = y.reshape(-1,1)\n",
    "        Y = np.squeeze(Y)\n",
    "\n",
    "        \"\"\" Shuffling the dataset \"\"\"\n",
    "        np.random.seed(123)\n",
    "        index = np.random.permutation(X.shape[0])\n",
    "        np.take(X, index, axis = 0, out = X)\n",
    "        np.take(Y, index, axis = 0, out = Y)\n",
    "\n",
    "    return X,Y"
   ]
  },
  {
   "cell_type": "code",
   "execution_count": 4,
   "metadata": {},
   "outputs": [
    {
     "data": {
      "text/plain": [
       "'Dataset A'"
      ]
     },
     "execution_count": 4,
     "metadata": {},
     "output_type": "execute_result"
    }
   ],
   "source": [
    "\"Dataset A\""
   ]
  },
  {
   "cell_type": "code",
   "execution_count": 5,
   "metadata": {},
   "outputs": [
    {
     "name": "stdout",
     "output_type": "stream",
     "text": [
      "(4200, 784) (4200, 10)\n",
      "The class frequencies are : \n",
      "The frequency of class 0 is 400.0 / 4200\n",
      "The frequency of class 1 is 494.0 / 4200\n",
      "The frequency of class 2 is 393.0 / 4200\n",
      "The frequency of class 3 is 424.0 / 4200\n",
      "The frequency of class 4 is 416.0 / 4200\n",
      "The frequency of class 5 is 398.0 / 4200\n",
      "The frequency of class 6 is 441.0 / 4200\n",
      "The frequency of class 7 is 431.0 / 4200\n",
      "The frequency of class 8 is 410.0 / 4200\n",
      "The frequency of class 9 is 393.0 / 4200\n",
      "[0 5 5 ... 4 4 5]\n"
     ]
    }
   ],
   "source": [
    "X,y = load_dataset(0)\n",
    "print(y)"
   ]
  },
  {
   "cell_type": "code",
   "execution_count": 6,
   "metadata": {},
   "outputs": [],
   "source": [
    "X_train, X_test, y_train, y_test = train_test_split(X, y, test_size=0.2, random_state=0)"
   ]
  },
  {
   "cell_type": "code",
   "execution_count": 7,
   "metadata": {},
   "outputs": [
    {
     "name": "stdout",
     "output_type": "stream",
     "text": [
      "(3360, 784)\n",
      "(3360,)\n"
     ]
    }
   ],
   "source": [
    "print(X_train.shape)\n",
    "print(y_train.shape)"
   ]
  },
  {
   "cell_type": "code",
   "execution_count": 8,
   "metadata": {
    "scrolled": true
   },
   "outputs": [],
   "source": [
    "nb = MyGaussianNaiveBayes()\n",
    "nb.fit(X_train,y_train)"
   ]
  },
  {
   "cell_type": "code",
   "execution_count": 9,
   "metadata": {
    "scrolled": true
   },
   "outputs": [
    {
     "name": "stderr",
     "output_type": "stream",
     "text": [
      "E:\\sem5\\MachineLearning\\Machine-Learning-Assignments\\Assignment2\\Q4.py:53: RuntimeWarning: divide by zero encountered in log\n",
      "  p+=np.log(gauss)\n"
     ]
    }
   ],
   "source": [
    "y_pred = nb.predict(X_test)"
   ]
  },
  {
   "cell_type": "code",
   "execution_count": 14,
   "metadata": {},
   "outputs": [
    {
     "name": "stdout",
     "output_type": "stream",
     "text": [
      "\n",
      "\n",
      "|   Accuracy |   Precision  |    Recall |       f1 |\n",
      "|------------+--------------+-----------+----------|\n",
      "|   0.644048 |     0.699825 |  0.629772 | 0.616185 |\n"
     ]
    }
   ],
   "source": [
    "accuracy = met.accuracy_score(y_test,y_pred)\n",
    "precision = met.precision_score(y_test,y_pred, average = \"macro\")\n",
    "recall = met.recall_score(y_test,y_pred,average = \"macro\")\n",
    "f1 = met.f1_score(y_test,y_pred, average = \"macro\")\n",
    "l = [[ accuracy, precision, recall, f1]]\n",
    "table = tabulate(l, headers=[\"Accuracy\", \"Precision \", \" Recall\", \"f1\"], tablefmt='orgtbl')\n",
    "print(\"\\n\")\n",
    "print(table)"
   ]
  },
  {
   "cell_type": "code",
   "execution_count": null,
   "metadata": {},
   "outputs": [],
   "source": []
  },
  {
   "cell_type": "code",
   "execution_count": 15,
   "metadata": {},
   "outputs": [],
   "source": [
    "from sklearn.naive_bayes import GaussianNB"
   ]
  },
  {
   "cell_type": "code",
   "execution_count": 16,
   "metadata": {},
   "outputs": [],
   "source": [
    "gnb = GaussianNB()\n",
    "y_pred = gnb.fit(X_train, y_train).predict(X_test)"
   ]
  },
  {
   "cell_type": "code",
   "execution_count": 17,
   "metadata": {},
   "outputs": [
    {
     "name": "stdout",
     "output_type": "stream",
     "text": [
      "\n",
      "\n",
      "|   Accuracy |   Precision  |    Recall |       f1 |\n",
      "|------------+--------------+-----------+----------|\n",
      "|   0.563095 |     0.615859 |  0.545691 | 0.515025 |\n"
     ]
    }
   ],
   "source": [
    "accuracy = met.accuracy_score(y_test,y_pred)\n",
    "precision = met.precision_score(y_test,y_pred, average = \"macro\")\n",
    "recall = met.recall_score(y_test,y_pred,average = \"macro\")\n",
    "f1 = met.f1_score(y_test,y_pred, average = \"macro\")\n",
    "l = [[ accuracy, precision, recall, f1]]\n",
    "table = tabulate(l, headers=[\"Accuracy\", \"Precision \", \" Recall\", \"f1\"], tablefmt='orgtbl')\n",
    "print(\"\\n\")\n",
    "print(table)"
   ]
  },
  {
   "cell_type": "code",
   "execution_count": null,
   "metadata": {},
   "outputs": [],
   "source": []
  },
  {
   "cell_type": "code",
   "execution_count": 19,
   "metadata": {},
   "outputs": [
    {
     "data": {
      "text/plain": [
       "' Dataset B'"
      ]
     },
     "execution_count": 19,
     "metadata": {},
     "output_type": "execute_result"
    }
   ],
   "source": [
    "\"\"\" Dataset B\"\"\""
   ]
  },
  {
   "cell_type": "code",
   "execution_count": 20,
   "metadata": {},
   "outputs": [
    {
     "name": "stdout",
     "output_type": "stream",
     "text": [
      "(4200, 2048) (4200, 2)\n",
      "The class frequencies are : \n",
      "The frequency of class 0 is 2097 / 4200\n",
      "The frequency of class 1 is 2103 / 4200\n",
      "[1 0 0 ... 0 0 1]\n",
      "(3360, 2048)\n",
      "(3360,)\n"
     ]
    }
   ],
   "source": [
    "X,y = load_dataset(1)\n",
    "print(y)\n",
    "X_train, X_test, y_train, y_test = train_test_split(X, y, test_size=0.2, random_state=0)\n",
    "print(X_train.shape)\n",
    "print(y_train.shape)"
   ]
  },
  {
   "cell_type": "code",
   "execution_count": 21,
   "metadata": {},
   "outputs": [],
   "source": [
    "nb = MyGaussianNaiveBayes()\n",
    "nb.fit(X_train,y_train)"
   ]
  },
  {
   "cell_type": "code",
   "execution_count": 22,
   "metadata": {},
   "outputs": [],
   "source": [
    "y_pred = nb.predict(X_test)"
   ]
  },
  {
   "cell_type": "code",
   "execution_count": 23,
   "metadata": {},
   "outputs": [
    {
     "name": "stdout",
     "output_type": "stream",
     "text": [
      "\n",
      "\n",
      "|   Accuracy |   Precision  |    Recall |       f1 |\n",
      "|------------+--------------+-----------+----------|\n",
      "|   0.557143 |     0.557224 |  0.555869 | 0.553865 |\n"
     ]
    }
   ],
   "source": [
    "accuracy = met.accuracy_score(y_test,y_pred)\n",
    "precision = met.precision_score(y_test,y_pred, average = \"macro\")\n",
    "recall = met.recall_score(y_test,y_pred,average = \"macro\")\n",
    "f1 = met.f1_score(y_test,y_pred, average = \"macro\")\n",
    "l = [[ accuracy, precision, recall, f1]]\n",
    "table = tabulate(l, headers=[\"Accuracy\", \"Precision \", \" Recall\", \"f1\"], tablefmt='orgtbl')\n",
    "print(\"\\n\")\n",
    "print(table)"
   ]
  },
  {
   "cell_type": "code",
   "execution_count": 24,
   "metadata": {},
   "outputs": [],
   "source": [
    "gnb = GaussianNB()\n",
    "y_pred = gnb.fit(X_train, y_train).predict(X_test)"
   ]
  },
  {
   "cell_type": "code",
   "execution_count": 25,
   "metadata": {},
   "outputs": [
    {
     "name": "stdout",
     "output_type": "stream",
     "text": [
      "\n",
      "\n",
      "|   Accuracy |   Precision  |    Recall |       f1 |\n",
      "|------------+--------------+-----------+----------|\n",
      "|   0.557143 |     0.557224 |  0.555869 | 0.553865 |\n"
     ]
    }
   ],
   "source": [
    "accuracy = met.accuracy_score(y_test,y_pred)\n",
    "precision = met.precision_score(y_test,y_pred, average = \"macro\")\n",
    "recall = met.recall_score(y_test,y_pred,average = \"macro\")\n",
    "f1 = met.f1_score(y_test,y_pred, average = \"macro\")\n",
    "l = [[ accuracy, precision, recall, f1]]\n",
    "table = tabulate(l, headers=[\"Accuracy\", \"Precision \", \" Recall\", \"f1\"], tablefmt='orgtbl')\n",
    "print(\"\\n\")\n",
    "print(table)"
   ]
  },
  {
   "cell_type": "code",
   "execution_count": null,
   "metadata": {},
   "outputs": [],
   "source": []
  }
 ],
 "metadata": {
  "kernelspec": {
   "display_name": "Python 3",
   "language": "python",
   "name": "python3"
  },
  "language_info": {
   "codemirror_mode": {
    "name": "ipython",
    "version": 3
   },
   "file_extension": ".py",
   "mimetype": "text/x-python",
   "name": "python",
   "nbconvert_exporter": "python",
   "pygments_lexer": "ipython3",
   "version": "3.7.4"
  }
 },
 "nbformat": 4,
 "nbformat_minor": 2
}
