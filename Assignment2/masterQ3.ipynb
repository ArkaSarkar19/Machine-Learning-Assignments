{
 "cells": [
  {
   "cell_type": "code",
   "execution_count": 1,
   "metadata": {},
   "outputs": [
    {
     "data": {
      "text/plain": [
       "'Dataset A'"
      ]
     },
     "execution_count": 1,
     "metadata": {},
     "output_type": "execute_result"
    }
   ],
   "source": [
    "\"\"\"Dataset A\"\"\""
   ]
  },
  {
   "cell_type": "code",
   "execution_count": 2,
   "metadata": {},
   "outputs": [],
   "source": [
    "import numpy as np \n",
    "import pandas as pd \n",
    "import os \n",
    "import h5py\n",
    "from sklearn.model_selection import train_test_split\n",
    "from sklearn.preprocessing import StandardScaler\n",
    "from sklearn.manifold import TSNE\n",
    "from sklearn.decomposition import PCA\n",
    "import matplotlib.pyplot as plt\n",
    "import seaborn as sns\n",
    "from sklearn.linear_model import LogisticRegression\n",
    "from sklearn.metrics import precision_score\n",
    "from sklearn.metrics import f1_score\n",
    "from sklearn.metrics import accuracy_score\n",
    "from sklearn.decomposition import TruncatedSVD\n",
    "from tabulate import tabulate\n",
    "import pickle"
   ]
  },
  {
   "cell_type": "code",
   "execution_count": 3,
   "metadata": {},
   "outputs": [],
   "source": [
    "from Q3 import *\n"
   ]
  },
  {
   "cell_type": "code",
   "execution_count": 4,
   "metadata": {},
   "outputs": [
    {
     "name": "stdout",
     "output_type": "stream",
     "text": [
      "(4200, 784) (4200, 10)\n",
      "The class frequencies are : \n",
      "The frequency of class 0 is 400.0 / 4200\n",
      "The frequency of class 1 is 494.0 / 4200\n",
      "The frequency of class 2 is 393.0 / 4200\n",
      "The frequency of class 3 is 424.0 / 4200\n",
      "The frequency of class 4 is 416.0 / 4200\n",
      "The frequency of class 5 is 398.0 / 4200\n",
      "The frequency of class 6 is 441.0 / 4200\n",
      "The frequency of class 7 is 431.0 / 4200\n",
      "The frequency of class 8 is 410.0 / 4200\n",
      "The frequency of class 9 is 393.0 / 4200\n",
      " x_train shape :  (2520, 784) \n",
      " x_val shape :  (840, 784) \n",
      " x_test shape : (840, 784)\n"
     ]
    }
   ],
   "source": [
    "X,Y = load_dataset(0)\n",
    "train_ratio = 0.6\n",
    "validation_ratio = 0.2\n",
    "test_ratio = 0.2\n",
    "x_train, x_test, y_train, y_test = train_test_split(X, Y, test_size=1 - train_ratio)\n",
    "x_val, x_test, y_val, y_test = train_test_split(x_test, y_test, test_size=test_ratio/(test_ratio + validation_ratio)) \n",
    "\n",
    "print(\" x_train shape : \", x_train.shape, \"\\n\", \"x_val shape : \", x_val.shape,\"\\n\",\"x_test shape :\", x_test.shape)"
   ]
  },
  {
   "cell_type": "code",
   "execution_count": 4,
   "metadata": {
    "scrolled": true
   },
   "outputs": [
    {
     "name": "stdout",
     "output_type": "stream",
     "text": [
      "(4200, 784) (4200, 10)\n",
      "The class frequencies are : \n",
      "The frequency of class 0 is 400.0 / 4200\n",
      "The frequency of class 1 is 494.0 / 4200\n",
      "The frequency of class 2 is 393.0 / 4200\n",
      "The frequency of class 3 is 424.0 / 4200\n",
      "The frequency of class 4 is 416.0 / 4200\n",
      "The frequency of class 5 is 398.0 / 4200\n",
      "The frequency of class 6 is 441.0 / 4200\n",
      "The frequency of class 7 is 431.0 / 4200\n",
      "The frequency of class 8 is 410.0 / 4200\n",
      "The frequency of class 9 is 393.0 / 4200\n",
      "Current parameters :  {'max_depth': 1}\n",
      "Best validation score achieved :  0.21666666666666667  Average validation score achieved :  0.2045238095238095 \n",
      "\n",
      "Current parameters :  {'max_depth': 2}\n",
      "Best validation score achieved :  0.36428571428571427  Average validation score achieved :  0.3280952380952381 \n",
      "\n",
      "Current parameters :  {'max_depth': 3}\n",
      "Best validation score achieved :  0.49047619047619045  Average validation score achieved :  0.42428571428571427 \n",
      "\n",
      "Current parameters :  {'max_depth': 4}\n",
      "Best validation score achieved :  0.5904761904761905  Average validation score achieved :  0.5483333333333332 \n",
      "\n",
      "Current parameters :  {'max_depth': 5}\n",
      "Best validation score achieved :  0.6761904761904762  Average validation score achieved :  0.6414285714285713 \n",
      "\n",
      "Current parameters :  {'max_depth': 6}\n",
      "Best validation score achieved :  0.7297619047619047  Average validation score achieved :  0.690952380952381 \n",
      "\n",
      "Current parameters :  {'max_depth': 7}\n",
      "Best validation score achieved :  0.7702380952380953  Average validation score achieved :  0.7183333333333333 \n",
      "\n",
      "Current parameters :  {'max_depth': 8}\n",
      "Best validation score achieved :  0.763095238095238  Average validation score achieved :  0.7338095238095239 \n",
      "\n",
      "Current parameters :  {'max_depth': 9}\n",
      "Best validation score achieved :  0.7642857142857142  Average validation score achieved :  0.7461904761904761 \n",
      "\n",
      "Current parameters :  {'max_depth': 10}\n",
      "Best validation score achieved :  0.763095238095238  Average validation score achieved :  0.75 \n",
      "\n",
      "Current parameters :  {'max_depth': 11}\n",
      "Best validation score achieved :  0.7523809523809524  Average validation score achieved :  0.7423809523809524 \n",
      "\n",
      "Current parameters :  {'max_depth': 12}\n",
      "Best validation score achieved :  0.7583333333333333  Average validation score achieved :  0.7473809523809524 \n",
      "\n",
      "Current parameters :  {'max_depth': 13}\n",
      "Best validation score achieved :  0.75  Average validation score achieved :  0.7395238095238096 \n",
      "\n",
      "Current parameters :  {'max_depth': 14}\n",
      "Best validation score achieved :  0.763095238095238  Average validation score achieved :  0.7492857142857143 \n",
      "\n",
      "Current parameters :  {'max_depth': 15}\n",
      "Best validation score achieved :  0.7583333333333333  Average validation score achieved :  0.7435714285714285 \n",
      "\n",
      "Current parameters :  {'max_depth': 16}\n",
      "Best validation score achieved :  0.7642857142857142  Average validation score achieved :  0.7445238095238096 \n",
      "\n",
      "Current parameters :  {'max_depth': 17}\n",
      "Best validation score achieved :  0.7523809523809524  Average validation score achieved :  0.7414285714285714 \n",
      "\n",
      "Current parameters :  {'max_depth': 18}\n",
      "Best validation score achieved :  0.7523809523809524  Average validation score achieved :  0.7430952380952381 \n",
      "\n",
      "Current parameters :  {'max_depth': 19}\n",
      "Best validation score achieved :  0.7666666666666667  Average validation score achieved :  0.7440476190476191 \n",
      "\n",
      "Current parameters :  {'max_depth': 20}\n",
      "Best validation score achieved :  0.7559523809523809  Average validation score achieved :  0.7445238095238096 \n",
      "\n",
      "Current parameters :  {'max_depth': 21}\n",
      "Best validation score achieved :  0.7559523809523809  Average validation score achieved :  0.74 \n",
      "\n",
      "Current parameters :  {'max_depth': 22}\n",
      "Best validation score achieved :  0.7607142857142857  Average validation score achieved :  0.7416666666666667 \n",
      "\n",
      "Current parameters :  {'max_depth': 23}\n",
      "Best validation score achieved :  0.7547619047619047  Average validation score achieved :  0.7459523809523809 \n",
      "\n",
      "Current parameters :  {'max_depth': 24}\n",
      "Best validation score achieved :  0.7583333333333333  Average validation score achieved :  0.7426190476190476 \n",
      "\n",
      "Current parameters :  {'max_depth': 25}\n",
      "Best validation score achieved :  0.7654761904761904  Average validation score achieved :  0.7447619047619047 \n",
      "\n",
      "Current parameters :  {'max_depth': 26}\n",
      "Best validation score achieved :  0.7666666666666667  Average validation score achieved :  0.7454761904761905 \n",
      "\n",
      "Current parameters :  {'max_depth': 27}\n",
      "Best validation score achieved :  0.7607142857142857  Average validation score achieved :  0.745 \n",
      "\n",
      "Current parameters :  {'max_depth': 28}\n",
      "Best validation score achieved :  0.7714285714285715  Average validation score achieved :  0.746904761904762 \n",
      "\n",
      "Current parameters :  {'max_depth': 29}\n",
      "Best validation score achieved :  0.7416666666666667  Average validation score achieved :  0.7380952380952381 \n",
      "\n",
      "Best  max_depth  :  10\n",
      "DecisionTreeClassifier ( {'class_weight': None, 'criterion': 'gini', 'max_depth': 29, 'max_features': None, 'max_leaf_nodes': None, 'min_impurity_decrease': 0.0, 'min_impurity_split': None, 'min_samples_leaf': 1, 'min_samples_split': 2, 'min_weight_fraction_leaf': 0.0, 'presort': False, 'random_state': None, 'splitter': 'best'} )\n"
     ]
    }
   ],
   "source": [
    "X,Y = load_dataset(0)\n",
    "std_slc = StandardScaler()\n",
    "\n",
    "X = std_slc.fit_transform(X)\n",
    "\n",
    "dec_tree = tree.DecisionTreeClassifier()\n",
    "\n",
    "max_depth = list([i for i in range(1,30,1)])\n",
    "\n",
    "parameters = dict( max_depth=max_depth)\n",
    "\n",
    "clf_GS = MyGridSearchCV(dec_tree, parameters)\n",
    "clf_GS.fit(X, Y)"
   ]
  },
  {
   "cell_type": "code",
   "execution_count": 5,
   "metadata": {
    "scrolled": true
   },
   "outputs": [
    {
     "data": {
      "image/png": "[encoded data removed]",
      "text/plain": [
       "<Figure size 432x288 with 1 Axes>"
      ]
     },
     "metadata": {
      "needs_background": "light"
     },
     "output_type": "display_data"
    }
   ],
   "source": [
    "import matplotlib.pyplot as plt \n",
    "plt.plot([x for x in range(1,30,1)], clf_GS.training_accuracy_history, label = \"Training  accuracy \" )\n",
    "plt.plot([x for x in range(1,30,1)], clf_GS.validation_accuracy_history, label = \"Validation  accuracy\")\n",
    "plt.xlabel('max_depth')\n",
    "plt.ylabel('accuracy')\n",
    "plt.legend()\n",
    "plt.show()"
   ]
  },
  {
   "cell_type": "code",
   "execution_count": 3,
   "metadata": {},
   "outputs": [],
   "source": [
    "def kFoldCrossValidation(X, y, model):\n",
    "    \"\"\" Performs K fold cross validation of the model and the dataset provided, and returns the best model with the fold\n",
    "\n",
    "    Parameters \n",
    "    -----------\n",
    "    X : 2-dimensional numpy array of shape (n_samples, n_features) which acts as data\n",
    "    Y : 1-dimensional numpy array of shape (n_samples,) which acts as labels.\n",
    "    k : number of folds, default = 5.\n",
    "\n",
    "    Returns\n",
    "    --------\n",
    "    optimal_model : best model determined.\n",
    "    fold : dictionary that contains the best fold.\n",
    "    \"\"\"\n",
    "    k = 5\n",
    "    m = X.shape[0]  #number of examples\n",
    "    fold_size = int(m/k)\n",
    "    start = 0\n",
    "    end = fold_size\n",
    "    models = {}\n",
    "    folds = {}\n",
    "    for i in range(k):\n",
    "        Xtrain_i = np.concatenate((X[0:start], X[end+1:]))\n",
    "        ytrain_i = np.concatenate((y[0:start],y[end+1:]))\n",
    "        X_test =  X[start:end]\n",
    "        y_test = y[start:end]\n",
    "        folds[i] = (start,end+1,Xtrain_i,ytrain_i,X_test,y_test)\n",
    "        model = model.fit(Xtrain_i, ytrain_i)\n",
    "        y_pred = model.predict(X_test)\n",
    "        train_score = accuracy_score(ytrain_i,model.predict(Xtrain_i))\n",
    "        test_score = accuracy_score(y_test,y_pred)\n",
    "        models[i] = (model, train_score, test_score)\n",
    "        start+=fold_size\n",
    "        end+=fold_size\n",
    "\n",
    "    best_model = -1\n",
    "    best_val_score = 0\n",
    "    best_train_score = 0\n",
    "    avg_val_score=0\n",
    "    for i in range(len(models)):\n",
    "        avg_val_score+=models[i][2]\n",
    "        if(best_val_score < models[i][2]):\n",
    "            best_val_score = models[i][2]\n",
    "            best_model = i\n",
    "        if(best_train_score < models[i][1]):\n",
    "            best_train_score = models[i][1]\n",
    "\n",
    "    avg_val_score = avg_val_score/k\n",
    "\n",
    "    return models[best_model][0], avg_val_score, best_val_score, best_train_score"
   ]
  },
  {
   "cell_type": "code",
   "execution_count": 23,
   "metadata": {},
   "outputs": [
    {
     "name": "stdout",
     "output_type": "stream",
     "text": [
      "(4200, 784) (4200, 10)\n",
      "The class frequencies are : \n",
      "The frequency of class 0 is 400.0 / 4200\n",
      "The frequency of class 1 is 494.0 / 4200\n",
      "The frequency of class 2 is 393.0 / 4200\n",
      "The frequency of class 3 is 424.0 / 4200\n",
      "The frequency of class 4 is 416.0 / 4200\n",
      "The frequency of class 5 is 398.0 / 4200\n",
      "The frequency of class 6 is 441.0 / 4200\n",
      "The frequency of class 7 is 431.0 / 4200\n",
      "The frequency of class 8 is 410.0 / 4200\n",
      "The frequency of class 9 is 393.0 / 4200\n",
      "\n",
      "\n",
      "| Best Model                                   |   Average Validation Score |   Best Validation Score |   Best training Score |\n",
      "|----------------------------------------------+----------------------------+-------------------------+-----------------------|\n",
      "| GaussianNB(priors=None, var_smoothing=1e-09) |                   0.550238 |                0.586905 |              0.607324 |\n"
     ]
    }
   ],
   "source": [
    "from sklearn.naive_bayes import GaussianNB\n",
    "X,y = load_dataset(0)\n",
    "# std_slc = StandardScaler()\n",
    "# X = std_slc.fit_transform(X)\n",
    "clf = GaussianNB()\n",
    "best_model,avg_val,best_val,best_train = kFoldCrossValidation(X,y,clf)\n",
    "l = [[ best_model,avg_val,best_val,best_train]]\n",
    "table = tabulate(l, headers=[\"Best Model\", \"Average Validation Score\", \"Best Validation Score\", \"Best training Score\"], tablefmt='orgtbl')\n",
    "print(\"\\n\")\n",
    "print(table)\n",
    "# print(best_model,avg_val,best_val,best_train)"
   ]
  },
  {
   "cell_type": "code",
   "execution_count": 35,
   "metadata": {},
   "outputs": [],
   "source": [
    "#best model save\n",
    "dec_tree = tree.DecisionTreeClassifier(max_depth = 10)\n",
    "dec_tree.fit(x_train, y_train)\n",
    "filename = 'models/DT_datasetA.sav'\n",
    "pickle.dump(dec_tree, open(filename, 'wb'))"
   ]
  },
  {
   "cell_type": "code",
   "execution_count": 5,
   "metadata": {},
   "outputs": [
    {
     "name": "stdout",
     "output_type": "stream",
     "text": [
      "0.7416666666666667\n"
     ]
    }
   ],
   "source": [
    "loaded_model = pickle.load(open('models/DT_datasetA.sav', 'rb'))\n",
    "score = loaded_model.score(x_test, y_test)\n",
    "\n",
    "print(score)"
   ]
  },
  {
   "cell_type": "code",
   "execution_count": 6,
   "metadata": {},
   "outputs": [
    {
     "data": {
      "text/plain": [
       "' Decision Tree metrics '"
      ]
     },
     "execution_count": 6,
     "metadata": {},
     "output_type": "execute_result"
    }
   ],
   "source": [
    "\"\"\" Decision Tree metrics \"\"\""
   ]
  },
  {
   "cell_type": "code",
   "execution_count": 7,
   "metadata": {},
   "outputs": [],
   "source": [
    "y_pred = loaded_model.predict(x_test)"
   ]
  },
  {
   "cell_type": "code",
   "execution_count": 8,
   "metadata": {},
   "outputs": [
    {
     "name": "stdout",
     "output_type": "stream",
     "text": [
      "Confusion matrix \n",
      " [[75  0  0  1  0  5  2  2  1  2]\n",
      " [ 0 82  1  2  2  1  0  1  2  0]\n",
      " [ 0  0 56  5  8  1  5  2  4  1]\n",
      " [ 2  2  4 64  0  1  1  1  3  3]\n",
      " [ 1  0  0  1 69  2  6  3  1  8]\n",
      " [ 0  1  3  7  3 47  3  3  1  2]\n",
      " [ 2  0  4  1  2  7 64  2  5  4]\n",
      " [ 1  2  0  0  0  0  0 64  2  6]\n",
      " [ 4  6  6 11  1  2  2  0 49  6]\n",
      " [ 0  2  4  1  7  4  2  7  4 53]]\n"
     ]
    }
   ],
   "source": [
    "metrics = MyEvaluationMetric()\n",
    "confusion_matrix = metrics.confusion_matrix(y_test,y_pred)\n",
    "accuracy_score = metrics.accuracy_score(y_test,y_pred)\n",
    "pres_score_micro = metrics.precision_score(y_test,y_pred,average = \"micro\")\n",
    "pres_score_macro = metrics.precision_score(y_test,y_pred,average = \"macro\")\n",
    "recall_score_micro = metrics.recall_score(y_test,y_pred,average = \"micro\")\n",
    "recall_score_macro = metrics.recall_score(y_test,y_pred,average = \"macro\")\n",
    "f1_score_micro = metrics.f1_score(y_test,y_pred,average = \"micro\")\n",
    "f1_score_macro = metrics.f1_score(y_test,y_pred,average = \"macro\")\n",
    "print(\"Confusion matrix \\n\", confusion_matrix)"
   ]
  },
  {
   "cell_type": "code",
   "execution_count": 9,
   "metadata": {
    "scrolled": false
   },
   "outputs": [
    {
     "name": "stdout",
     "output_type": "stream",
     "text": [
      "\n",
      "\n",
      "|   Accuracy |   Micro Precision  |   Macro precision  |   Micro Recall  |   Macro Recall  |   Micro f1  |   Macro f1  |\n",
      "|------------+--------------------+--------------------+-----------------+-----------------+-------------+-------------|\n",
      "|   0.741667 |           0.741667 |           0.738303 |        0.741667 |        0.740689 |    0.741667 |    0.739494 |\n"
     ]
    }
   ],
   "source": [
    "l = [[accuracy_score,pres_score_micro,pres_score_macro,recall_score_micro,recall_score_macro,f1_score_micro,f1_score_macro]]\n",
    "table = tabulate(l, headers=[\"Accuracy\",\"Micro Precision \", \"Macro precision \", \"Micro Recall \", \"Macro Recall \", \"Micro f1 \",\"Macro f1 \"], tablefmt='orgtbl')\n",
    "print(\"\\n\")\n",
    "print(table)"
   ]
  },
  {
   "cell_type": "code",
   "execution_count": 10,
   "metadata": {},
   "outputs": [
    {
     "data": {
      "image/png": "[encoded data removed]",
      "text/plain": [
       "<Figure size 432x288 with 1 Axes>"
      ]
     },
     "metadata": {
      "needs_background": "light"
     },
     "output_type": "display_data"
    }
   ],
   "source": [
    "prob = loaded_model.predict_proba(x_test)\n",
    "metrics.plot_roc_curve(y_test, prob)"
   ]
  },
  {
   "cell_type": "code",
   "execution_count": 11,
   "metadata": {},
   "outputs": [
    {
     "data": {
      "text/plain": [
       "'Gaussian Naive Bayes metrics '"
      ]
     },
     "execution_count": 11,
     "metadata": {},
     "output_type": "execute_result"
    }
   ],
   "source": [
    "\"\"\"Gaussian Naive Bayes metrics \"\"\""
   ]
  },
  {
   "cell_type": "code",
   "execution_count": 12,
   "metadata": {},
   "outputs": [
    {
     "name": "stdout",
     "output_type": "stream",
     "text": [
      "(4200, 784) (4200, 10)\n",
      "The class frequencies are : \n",
      "The frequency of class 0 is 400.0 / 4200\n",
      "The frequency of class 1 is 494.0 / 4200\n",
      "The frequency of class 2 is 393.0 / 4200\n",
      "The frequency of class 3 is 424.0 / 4200\n",
      "The frequency of class 4 is 416.0 / 4200\n",
      "The frequency of class 5 is 398.0 / 4200\n",
      "The frequency of class 6 is 441.0 / 4200\n",
      "The frequency of class 7 is 431.0 / 4200\n",
      "The frequency of class 8 is 410.0 / 4200\n",
      "The frequency of class 9 is 393.0 / 4200\n",
      " x_train shape :  (2520, 784) \n",
      " x_val shape :  (840, 784) \n",
      " x_test shape : (840, 784)\n"
     ]
    }
   ],
   "source": [
    "X,Y = load_dataset(0)\n",
    "train_ratio = 0.6\n",
    "validation_ratio = 0.2\n",
    "test_ratio = 0.2\n",
    "x_train, x_test, y_train, y_test = train_test_split(X, Y, test_size=1 - train_ratio)\n",
    "x_val, x_test, y_val, y_test = train_test_split(x_test, y_test, test_size=test_ratio/(test_ratio + validation_ratio)) \n",
    "\n",
    "print(\" x_train shape : \", x_train.shape, \"\\n\", \"x_val shape : \", x_val.shape,\"\\n\",\"x_test shape :\", x_test.shape)"
   ]
  },
  {
   "cell_type": "code",
   "execution_count": 13,
   "metadata": {},
   "outputs": [],
   "source": [
    "from sklearn.naive_bayes import GaussianNB\n",
    "clf = GaussianNB()\n",
    "clf.fit(x_train, y_train)\n",
    "y_pred = clf.predict(x_test)"
   ]
  },
  {
   "cell_type": "code",
   "execution_count": 14,
   "metadata": {},
   "outputs": [
    {
     "name": "stdout",
     "output_type": "stream",
     "text": [
      "Confusion matrix \n",
      " [[77  0  1  0  1  1  4  0  1  3]\n",
      " [ 2 84  0  1  0  0  1  0  0  3]\n",
      " [18  3 19  8  0  4 17  0 12  1]\n",
      " [10  6  4 40  0  0  6  0  4 11]\n",
      " [ 2  1  2  0 29  3  6  5  3 40]\n",
      " [14  1  1  5  1 12  2  1 21 12]\n",
      " [ 0  2  1  0  0  1 86  0  1  0]\n",
      " [ 1  0  0  2  2  0  0 30  0 40]\n",
      " [ 5 16  1  1  0  0  2  0 44 18]\n",
      " [ 1  1  2  0  3  0  0  4  1 72]]\n"
     ]
    }
   ],
   "source": [
    "metrics = MyEvaluationMetric()\n",
    "confusion_matrix = metrics.confusion_matrix(y_test,y_pred)\n",
    "accuracy_score = metrics.accuracy_score(y_test,y_pred)\n",
    "pres_score_micro = metrics.precision_score(y_test,y_pred,average = \"micro\")\n",
    "pres_score_macro = metrics.precision_score(y_test,y_pred,average = \"macro\")\n",
    "recall_score_micro = metrics.recall_score(y_test,y_pred,average = \"micro\")\n",
    "recall_score_macro = metrics.recall_score(y_test,y_pred,average = \"macro\")\n",
    "f1_score_micro = metrics.f1_score(y_test,y_pred,average = \"micro\")\n",
    "f1_score_macro = metrics.f1_score(y_test,y_pred,average = \"macro\")\n",
    "print(\"Confusion matrix \\n\", confusion_matrix)"
   ]
  },
  {
   "cell_type": "code",
   "execution_count": 15,
   "metadata": {},
   "outputs": [
    {
     "name": "stdout",
     "output_type": "stream",
     "text": [
      "\n",
      "\n",
      "|   Accuracy |   Micro Precision  |   Macro precision  |   Micro Recall  |   Macro Recall  |   Micro f1  |   Macro f1  |\n",
      "|------------+--------------------+--------------------+-----------------+-----------------+-------------+-------------|\n",
      "|   0.586905 |           0.586905 |           0.633009 |        0.586905 |        0.572167 |    0.586905 |    0.601052 |\n"
     ]
    }
   ],
   "source": [
    "l = [[accuracy_score,pres_score_micro,pres_score_macro,recall_score_micro,recall_score_macro,f1_score_micro,f1_score_macro]]\n",
    "table = tabulate(l, headers=[\"Accuracy\",\"Micro Precision \", \"Macro precision \", \"Micro Recall \", \"Macro Recall \", \"Micro f1 \",\"Macro f1 \"], tablefmt='orgtbl')\n",
    "print(\"\\n\")\n",
    "print(table)"
   ]
  },
  {
   "cell_type": "code",
   "execution_count": 16,
   "metadata": {},
   "outputs": [
    {
     "data": {
      "image/png": "[encoded data removed]",
      "text/plain": [
       "<Figure size 432x288 with 1 Axes>"
      ]
     },
     "metadata": {
      "needs_background": "light"
     },
     "output_type": "display_data"
    }
   ],
   "source": [
    "prob = clf.predict_proba(x_test)\n",
    "metrics.plot_roc_curve(y_test, prob)"
   ]
  },
  {
   "cell_type": "code",
   "execution_count": null,
   "metadata": {},
   "outputs": [],
   "source": []
  },
  {
   "cell_type": "code",
   "execution_count": 17,
   "metadata": {},
   "outputs": [
    {
     "data": {
      "text/plain": [
       "' Dataset B'"
      ]
     },
     "execution_count": 17,
     "metadata": {},
     "output_type": "execute_result"
    }
   ],
   "source": [
    "\"\"\" Dataset B\"\"\""
   ]
  },
  {
   "cell_type": "code",
   "execution_count": 18,
   "metadata": {},
   "outputs": [
    {
     "name": "stdout",
     "output_type": "stream",
     "text": [
      "(4200, 2048) (4200, 2)\n",
      "The class frequencies are : \n",
      "The frequency of class 0 is 2097 / 4200\n",
      "The frequency of class 1 is 2103 / 4200\n",
      " x_train shape :  (2520, 2048) \n",
      " x_val shape :  (840, 2048) \n",
      " x_test shape : (840, 2048)\n"
     ]
    }
   ],
   "source": [
    "X,Y = load_dataset(1)\n",
    "train_ratio = 0.6\n",
    "validation_ratio = 0.2\n",
    "test_ratio = 0.2\n",
    "x_train, x_test, y_train, y_test = train_test_split(X, Y, test_size=1 - train_ratio)\n",
    "x_val, x_test, y_val, y_test = train_test_split(x_test, y_test, test_size=test_ratio/(test_ratio + validation_ratio)) \n",
    "\n",
    "print(\" x_train shape : \", x_train.shape, \"\\n\", \"x_val shape : \", x_val.shape,\"\\n\",\"x_test shape :\", x_test.shape)"
   ]
  },
  {
   "cell_type": "code",
   "execution_count": 13,
   "metadata": {
    "scrolled": false
   },
   "outputs": [
    {
     "name": "stdout",
     "output_type": "stream",
     "text": [
      "(4200, 2048) (4200, 2)\n",
      "The class frequencies are : \n",
      "The frequency of class 0 is 2097 / 4200\n",
      "The frequency of class 1 is 2103 / 4200\n",
      "Current parameters :  {'max_depth': 1}\n",
      "Best validation score achieved :  0.569047619047619  Average validation score achieved :  0.5583333333333333 \n",
      "\n",
      "Current parameters :  {'max_depth': 2}\n",
      "Best validation score achieved :  0.5928571428571429  Average validation score achieved :  0.5714285714285714 \n",
      "\n",
      "Current parameters :  {'max_depth': 3}\n",
      "Best validation score achieved :  0.6083333333333333  Average validation score achieved :  0.574047619047619 \n",
      "\n",
      "Current parameters :  {'max_depth': 4}\n",
      "Best validation score achieved :  0.5964285714285714  Average validation score achieved :  0.5802380952380952 \n",
      "\n",
      "Current parameters :  {'max_depth': 5}\n",
      "Best validation score achieved :  0.6  Average validation score achieved :  0.5819047619047619 \n",
      "\n",
      "Current parameters :  {'max_depth': 6}\n",
      "Best validation score achieved :  0.6047619047619047  Average validation score achieved :  0.5895238095238096 \n",
      "\n",
      "Current parameters :  {'max_depth': 7}\n",
      "Best validation score achieved :  0.5976190476190476  Average validation score achieved :  0.5788095238095239 \n",
      "\n",
      "Current parameters :  {'max_depth': 8}\n",
      "Best validation score achieved :  0.6023809523809524  Average validation score achieved :  0.5819047619047619 \n",
      "\n",
      "Current parameters :  {'max_depth': 9}\n",
      "Best validation score achieved :  0.6273809523809524  Average validation score achieved :  0.5842857142857143 \n",
      "\n",
      "Current parameters :  {'max_depth': 10}\n",
      "Best validation score achieved :  0.5880952380952381  Average validation score achieved :  0.5735714285714286 \n",
      "\n",
      "Current parameters :  {'max_depth': 11}\n",
      "Best validation score achieved :  0.5976190476190476  Average validation score achieved :  0.5797619047619047 \n",
      "\n",
      "Current parameters :  {'max_depth': 12}\n",
      "Best validation score achieved :  0.5964285714285714  Average validation score achieved :  0.5816666666666667 \n",
      "\n",
      "Current parameters :  {'max_depth': 13}\n",
      "Best validation score achieved :  0.6011904761904762  Average validation score achieved :  0.5776190476190475 \n",
      "\n",
      "Current parameters :  {'max_depth': 14}\n",
      "Best validation score achieved :  0.6071428571428571  Average validation score achieved :  0.5830952380952381 \n",
      "\n",
      "Current parameters :  {'max_depth': 15}\n",
      "Best validation score achieved :  0.6047619047619047  Average validation score achieved :  0.5733333333333333 \n",
      "\n",
      "Current parameters :  {'max_depth': 16}\n",
      "Best validation score achieved :  0.5964285714285714  Average validation score achieved :  0.575 \n",
      "\n",
      "Current parameters :  {'max_depth': 17}\n",
      "Best validation score achieved :  0.6035714285714285  Average validation score achieved :  0.5807142857142857 \n",
      "\n",
      "Current parameters :  {'max_depth': 18}\n",
      "Best validation score achieved :  0.5952380952380952  Average validation score achieved :  0.5783333333333334 \n",
      "\n",
      "Current parameters :  {'max_depth': 19}\n",
      "Best validation score achieved :  0.5916666666666667  Average validation score achieved :  0.5664285714285715 \n",
      "\n",
      "Current parameters :  {'max_depth': 20}\n",
      "Best validation score achieved :  0.6  Average validation score achieved :  0.5738095238095238 \n",
      "\n",
      "Current parameters :  {'max_depth': 21}\n",
      "Best validation score achieved :  0.6011904761904762  Average validation score achieved :  0.5728571428571428 \n",
      "\n",
      "Current parameters :  {'max_depth': 22}\n",
      "Best validation score achieved :  0.6035714285714285  Average validation score achieved :  0.575952380952381 \n",
      "\n",
      "Current parameters :  {'max_depth': 23}\n",
      "Best validation score achieved :  0.6107142857142858  Average validation score achieved :  0.5726190476190477 \n",
      "\n",
      "Current parameters :  {'max_depth': 24}\n",
      "Best validation score achieved :  0.5928571428571429  Average validation score achieved :  0.5766666666666668 \n",
      "\n",
      "Current parameters :  {'max_depth': 25}\n",
      "Best validation score achieved :  0.5797619047619048  Average validation score achieved :  0.5664285714285715 \n",
      "\n",
      "Current parameters :  {'max_depth': 26}\n",
      "Best validation score achieved :  0.5988095238095238  Average validation score achieved :  0.5714285714285714 \n",
      "\n",
      "Current parameters :  {'max_depth': 27}\n",
      "Best validation score achieved :  0.5976190476190476  Average validation score achieved :  0.5783333333333334 \n",
      "\n",
      "Current parameters :  {'max_depth': 28}\n",
      "Best validation score achieved :  0.5857142857142857  Average validation score achieved :  0.5742857142857143 \n",
      "\n",
      "Current parameters :  {'max_depth': 29}\n",
      "Best validation score achieved :  0.5988095238095238  Average validation score achieved :  0.5728571428571428 \n",
      "\n",
      "Best  max_depth  :  6\n",
      "DecisionTreeClassifier ( {'class_weight': None, 'criterion': 'gini', 'max_depth': 29, 'max_features': None, 'max_leaf_nodes': None, 'min_impurity_decrease': 0.0, 'min_impurity_split': None, 'min_samples_leaf': 1, 'min_samples_split': 2, 'min_weight_fraction_leaf': 0.0, 'presort': False, 'random_state': None, 'splitter': 'best'} )\n"
     ]
    }
   ],
   "source": [
    "X,Y = load_dataset(1)\n",
    "std_slc = StandardScaler()\n",
    "\n",
    "X = std_slc.fit_transform(X)\n",
    "\n",
    "dec_tree = tree.DecisionTreeClassifier()\n",
    "\n",
    "max_depth = list([i for i in range(1,30,1)])\n",
    "\n",
    "parameters = dict( max_depth=max_depth)\n",
    "\n",
    "clf_GS = MyGridSearchCV(dec_tree, parameters)\n",
    "clf_GS.fit(X, Y)"
   ]
  },
  {
   "cell_type": "code",
   "execution_count": 15,
   "metadata": {},
   "outputs": [
    {
     "data": {
      "image/png": "[encoded data removed]",
      "text/plain": [
       "<Figure size 432x288 with 1 Axes>"
      ]
     },
     "metadata": {
      "needs_background": "light"
     },
     "output_type": "display_data"
    }
   ],
   "source": [
    "import matplotlib.pyplot as plt \n",
    "plt.plot([x for x in range(1,30,1)], clf_GS.training_accuracy_history, label = \"Training  accuracy \" )\n",
    "plt.plot([x for x in range(1,30,1)], clf_GS.validation_accuracy_history, label = \"Validation  accuracy\")\n",
    "plt.xlabel('max_depth')\n",
    "plt.ylabel('accuracy')\n",
    "plt.legend()\n",
    "plt.show()"
   ]
  },
  {
   "cell_type": "code",
   "execution_count": 5,
   "metadata": {},
   "outputs": [
    {
     "name": "stdout",
     "output_type": "stream",
     "text": [
      "(4200, 2048) (4200, 2)\n",
      "The class frequencies are : \n",
      "The frequency of class 0 is 2097 / 4200\n",
      "The frequency of class 1 is 2103 / 4200\n",
      "\n",
      "\n",
      "| Best Model                                   |   Average Validation Score |   Best Validation Score |   Best training Score |\n",
      "|----------------------------------------------+----------------------------+-------------------------+-----------------------|\n",
      "| GaussianNB(priors=None, var_smoothing=1e-09) |                   0.571905 |                0.586905 |               0.57619 |\n"
     ]
    }
   ],
   "source": [
    "from sklearn.naive_bayes import GaussianNB\n",
    "X,y = load_dataset(1)\n",
    "# std_slc = StandardScaler()\n",
    "# X = std_slc.fit_transform(X)\n",
    "clf = GaussianNB()\n",
    "best_model,avg_val,best_val,best_train = kFoldCrossValidation(X,y,clf)\n",
    "l = [[ best_model,avg_val,best_val,best_train]]\n",
    "table = tabulate(l, headers=[\"Best Model\", \"Average Validation Score\", \"Best Validation Score\", \"Best training Score\"], tablefmt='orgtbl')\n",
    "print(\"\\n\")\n",
    "print(table)\n",
    "# print(best_model,avg_val,best_val,best_train)"
   ]
  },
  {
   "cell_type": "code",
   "execution_count": 8,
   "metadata": {},
   "outputs": [],
   "source": [
    "#best model save\n",
    "dec_tree = tree.DecisionTreeClassifier(max_depth = 6)\n",
    "dec_tree.fit(x_train, y_train)\n",
    "filename = 'models/DT_datasetB.sav'\n",
    "pickle.dump(dec_tree, open(filename, 'wb'))"
   ]
  },
  {
   "cell_type": "code",
   "execution_count": 19,
   "metadata": {},
   "outputs": [
    {
     "name": "stdout",
     "output_type": "stream",
     "text": [
      "0.5904761904761905\n"
     ]
    }
   ],
   "source": [
    "loaded_model = pickle.load(open('models/DT_datasetB.sav', 'rb'))\n",
    "score = loaded_model.score(x_test, y_test)\n",
    "\n",
    "print(score)"
   ]
  },
  {
   "cell_type": "code",
   "execution_count": 20,
   "metadata": {},
   "outputs": [
    {
     "data": {
      "text/plain": [
       "'Decision Tree Classifier'"
      ]
     },
     "execution_count": 20,
     "metadata": {},
     "output_type": "execute_result"
    }
   ],
   "source": [
    "\"\"\"Decision Tree Classifier\"\"\""
   ]
  },
  {
   "cell_type": "code",
   "execution_count": 21,
   "metadata": {},
   "outputs": [],
   "source": [
    "y_pred = loaded_model.predict(x_test)"
   ]
  },
  {
   "cell_type": "code",
   "execution_count": 22,
   "metadata": {},
   "outputs": [
    {
     "name": "stdout",
     "output_type": "stream",
     "text": [
      "Confusion matrix \n",
      " [[335  93]\n",
      " [251 161]]\n"
     ]
    }
   ],
   "source": [
    "metrics = MyEvaluationMetric()\n",
    "confusion_matrix = metrics.confusion_matrix(y_test,y_pred)\n",
    "accuracy_score = metrics.accuracy_score(y_test,y_pred)\n",
    "pres_score= metrics.precision_score(y_test,y_pred)\n",
    "recall_score= metrics.recall_score(y_test,y_pred)\n",
    "f1_score = metrics.f1_score(y_test,y_pred)\n",
    "print(\"Confusion matrix \\n\", confusion_matrix)"
   ]
  },
  {
   "cell_type": "code",
   "execution_count": 23,
   "metadata": {},
   "outputs": [
    {
     "name": "stdout",
     "output_type": "stream",
     "text": [
      "\n",
      "\n",
      "|   Accuracy Score |    Precision Score |   Recall Score |   f1 Score |\n",
      "|------------------+--------------------+----------------+------------|\n",
      "|         0.590476 |           0.571672 |        0.78271 |    0.66075 |\n"
     ]
    }
   ],
   "source": [
    "l = [[accuracy_score,pres_score,recall_score,f1_score]]\n",
    "table = tabulate(l, headers=[\"Accuracy Score\",\" Precision Score\", \"Recall Score\", \"f1 Score\"], tablefmt='orgtbl')\n",
    "print(\"\\n\")\n",
    "print(table)"
   ]
  },
  {
   "cell_type": "code",
   "execution_count": 24,
   "metadata": {},
   "outputs": [
    {
     "data": {
      "image/png": "[encoded data removed]",
      "text/plain": [
       "<Figure size 432x288 with 1 Axes>"
      ]
     },
     "metadata": {
      "needs_background": "light"
     },
     "output_type": "display_data"
    }
   ],
   "source": [
    "prob = loaded_model.predict_proba(x_test)\n",
    "metrics.plot_roc_curve(y_test, prob)"
   ]
  },
  {
   "cell_type": "code",
   "execution_count": 25,
   "metadata": {},
   "outputs": [
    {
     "data": {
      "text/plain": [
       "'Gaussian Naive Bayes'"
      ]
     },
     "execution_count": 25,
     "metadata": {},
     "output_type": "execute_result"
    }
   ],
   "source": [
    "\"\"\"Gaussian Naive Bayes\"\"\""
   ]
  },
  {
   "cell_type": "code",
   "execution_count": 26,
   "metadata": {},
   "outputs": [
    {
     "name": "stdout",
     "output_type": "stream",
     "text": [
      "(4200, 2048) (4200, 2)\n",
      "The class frequencies are : \n",
      "The frequency of class 0 is 2097 / 4200\n",
      "The frequency of class 1 is 2103 / 4200\n",
      " x_train shape :  (2520, 2048) \n",
      " x_val shape :  (840, 2048) \n",
      " x_test shape : (840, 2048)\n"
     ]
    }
   ],
   "source": [
    "X,Y = load_dataset(1)\n",
    "train_ratio = 0.6\n",
    "validation_ratio = 0.2\n",
    "test_ratio = 0.2\n",
    "x_train, x_test, y_train, y_test = train_test_split(X, Y, test_size=1 - train_ratio)\n",
    "x_val, x_test, y_val, y_test = train_test_split(x_test, y_test, test_size=test_ratio/(test_ratio + validation_ratio)) \n",
    "\n",
    "print(\" x_train shape : \", x_train.shape, \"\\n\", \"x_val shape : \", x_val.shape,\"\\n\",\"x_test shape :\", x_test.shape)"
   ]
  },
  {
   "cell_type": "code",
   "execution_count": 27,
   "metadata": {},
   "outputs": [],
   "source": [
    "from sklearn.naive_bayes import GaussianNB\n",
    "clf = GaussianNB()\n",
    "clf.fit(x_train, y_train)\n",
    "y_pred = clf.predict(x_test)"
   ]
  },
  {
   "cell_type": "code",
   "execution_count": 28,
   "metadata": {},
   "outputs": [
    {
     "name": "stdout",
     "output_type": "stream",
     "text": [
      "Confusion matrix \n",
      " [[288 140]\n",
      " [222 190]]\n"
     ]
    }
   ],
   "source": [
    "metrics = MyEvaluationMetric()\n",
    "confusion_matrix = metrics.confusion_matrix(y_test,y_pred)\n",
    "accuracy_score = metrics.accuracy_score(y_test,y_pred)\n",
    "pres_score= metrics.precision_score(y_test,y_pred)\n",
    "recall_score= metrics.recall_score(y_test,y_pred)\n",
    "f1_score = metrics.f1_score(y_test,y_pred)\n",
    "print(\"Confusion matrix \\n\", confusion_matrix)"
   ]
  },
  {
   "cell_type": "code",
   "execution_count": 29,
   "metadata": {},
   "outputs": [
    {
     "name": "stdout",
     "output_type": "stream",
     "text": [
      "\n",
      "\n",
      "|   Accuracy Score |    Precision Score |   Recall Score |   f1 Score |\n",
      "|------------------+--------------------+----------------+------------|\n",
      "|         0.569048 |           0.564706 |       0.672897 |   0.614072 |\n"
     ]
    }
   ],
   "source": [
    "l = [[accuracy_score,pres_score,recall_score,f1_score]]\n",
    "table = tabulate(l, headers=[\"Accuracy Score\",\" Precision Score\", \"Recall Score\", \"f1 Score\"], tablefmt='orgtbl')\n",
    "print(\"\\n\")\n",
    "print(table)"
   ]
  },
  {
   "cell_type": "code",
   "execution_count": 30,
   "metadata": {},
   "outputs": [
    {
     "data": {
      "image/png": "[encoded data removed]",
      "text/plain": [
       "<Figure size 432x288 with 1 Axes>"
      ]
     },
     "metadata": {
      "needs_background": "light"
     },
     "output_type": "display_data"
    }
   ],
   "source": [
    "prob = clf.predict_proba(x_test)\n",
    "metrics.plot_roc_curve(y_test, prob)"
   ]
  },
  {
   "cell_type": "code",
   "execution_count": null,
   "metadata": {},
   "outputs": [],
   "source": []
  }
 ],
 "metadata": {
  "kernelspec": {
   "display_name": "Python 3",
   "language": "python",
   "name": "python3"
  },
  "language_info": {
   "codemirror_mode": {
    "name": "ipython",
    "version": 3
   },
   "file_extension": ".py",
   "mimetype": "text/x-python",
   "name": "python",
   "nbconvert_exporter": "python",
   "pygments_lexer": "ipython3",
   "version": "3.7.4"
  }
 },
 "nbformat": 4,
 "nbformat_minor": 2
}
