{
 "cells": [
  {
   "cell_type": "code",
   "execution_count": 2,
   "metadata": {},
   "outputs": [],
   "source": [
    "import numpy as np\n",
    "import pandas as pd\n",
    "from tqdm import tqdm\n",
    "import copy"
   ]
  },
  {
   "cell_type": "code",
   "execution_count": 3,
   "metadata": {},
   "outputs": [],
   "source": [
    "class MyNeuralNetwork():\n",
    "    \"\"\"\n",
    "    My implementation of a Neural Network Classifier.\n",
    "    \"\"\"\n",
    "\n",
    "    acti_fns = ['relu', 'sigmoid', 'linear', 'tanh', 'softmax']\n",
    "    weight_inits = ['zero', 'random', 'normal']\n",
    "\n",
    "    def __init__(self, n_layers, layer_sizes, activation, learning_rate, weight_init, batch_size, num_epochs):\n",
    "        \"\"\"\n",
    "        Initializing a new MyNeuralNetwork object\n",
    "\n",
    "        Parameters\n",
    "        ----------\n",
    "        n_layers : int value specifying the number of layers\n",
    "\n",
    "        layer_sizes : integer array of size n_layers specifying the number of nodes in each layer\n",
    "\n",
    "        activation : string specifying the activation function to be used\n",
    "                     possible inputs: relu, sigmoid, linear, tanh\n",
    "\n",
    "        learning_rate : float value specifying the learning rate to be used\n",
    "\n",
    "        weight_init : string specifying the weight initialization function to be used\n",
    "                      possible inputs: zero, random, normal\n",
    "\n",
    "        batch_size : int value specifying the batch size to be used\n",
    "\n",
    "        num_epochs : int value specifying the number of epochs to be used\n",
    "        \"\"\"\n",
    "\n",
    "        if activation not in self.acti_fns:\n",
    "            raise Exception('Incorrect Activation Function')\n",
    "\n",
    "        if weight_init not in self.weight_inits:\n",
    "            raise Exception('Incorrect Weight Initialization Function')\n",
    "            \n",
    "            \n",
    "            \n",
    "        \n",
    "        self.n_layers = n_layers\n",
    "        self.layer_sizes = layer_sizes\n",
    "        self.activation = activation\n",
    "        self.learning_rate = learning_rate\n",
    "        self.weight_init = weight_init\n",
    "        self.batch_size = batch_size\n",
    "        self.num_epochs = num_epochs\n",
    "        \n",
    "        pass\n",
    "\n",
    "    def relu(self, X):\n",
    "        \"\"\"\n",
    "        Calculating the ReLU activation for a particular layer\n",
    "\n",
    "        Parameters\n",
    "        ----------\n",
    "        X : 1-dimentional numpy array \n",
    "\n",
    "        Returns\n",
    "        -------\n",
    "        x_calc : 1-dimensional numpy array after calculating the necessary function over X\n",
    "        \"\"\"\n",
    "        return X * (X>=0)\n",
    "\n",
    "    def relu_grad(self, X):\n",
    "        \"\"\"\n",
    "        Calculating the gradient of ReLU activation for a particular layer\n",
    "\n",
    "        Parameters\n",
    "        ----------\n",
    "        X : 1-dimentional numpy array \n",
    "\n",
    "        Returns\n",
    "        -------\n",
    "        x_calc : 1-dimensional numpy array after calculating the necessary function over X\n",
    "        \"\"\"\n",
    "        return 1*(X>=0)\n",
    "\n",
    "    def sigmoid(self, X):\n",
    "        \"\"\"\n",
    "        Calculating the Sigmoid activation for a particular layer\n",
    "\n",
    "        Parameters\n",
    "        ----------\n",
    "        X : 1-dimentional numpy array \n",
    "\n",
    "        Returns\n",
    "        -------\n",
    "        x_calc : 1-dimensional numpy array after calculating the necessary function over X\n",
    "        \"\"\"\n",
    "        return 1/(1+np.exp(-X))\n",
    "\n",
    "    def sigmoid_grad(self, X):\n",
    "        \"\"\"\n",
    "        Calculating the gradient of Sigmoid activation for a particular layer\n",
    "\n",
    "        Parameters\n",
    "        ----------\n",
    "        X : 1-dimentional numpy array \n",
    "\n",
    "        Returns\n",
    "        -------\n",
    "        x_calc : 1-dimensional numpy array after calculating the necessary function over X\n",
    "        \"\"\"\n",
    "        return self.sigmoid(X) *(1-self.sigmoid (X))\n",
    "\n",
    "    def linear(self, X):\n",
    "        \"\"\"\n",
    "        Calculating the Linear activation for a particular layer\n",
    "\n",
    "        Parameters\n",
    "        ----------\n",
    "        X : 1-dimentional numpy array \n",
    "\n",
    "        Returns\n",
    "        -------\n",
    "        x_calc : 1-dimensional numpy array after calculating the necessary function over X\n",
    "        \"\"\"\n",
    "        return X\n",
    "\n",
    "    def linear_grad(self, X):\n",
    "        \"\"\"\n",
    "        Calculating the gradient of Linear activation for a particular layer\n",
    "\n",
    "        Parameters\n",
    "        ----------\n",
    "        X : 1-dimentional numpy array \n",
    "\n",
    "        Returns\n",
    "        -------\n",
    "        x_calc : 1-dimensional numpy array after calculating the necessary function over X\n",
    "        \"\"\"\n",
    "        return np.ones(X.shape)\n",
    "\n",
    "    def tanh(self, X):\n",
    "        \"\"\"\n",
    "        Calculating the Tanh activation for a particular layer\n",
    "\n",
    "        Parameters\n",
    "        ----------\n",
    "        X : 1-dimentional numpy array \n",
    "\n",
    "        Returns\n",
    "        -------\n",
    "        x_calc : 1-dimensional numpy array after calculating the necessary function over X\n",
    "        \"\"\"\n",
    "        return np.tanh(X)\n",
    "\n",
    "    def tanh_grad(self, X):\n",
    "        \"\"\"\n",
    "        Calculating the gradient of Tanh activation for a particular layer\n",
    "\n",
    "        Parameters\n",
    "        ----------\n",
    "        X : 1-dimentional numpy array \n",
    "\n",
    "        Returns\n",
    "        -------\n",
    "        x_calc : 1-dimensional numpy array after calculating the necessary function over X\n",
    "        \"\"\"\n",
    "        return 1-self.tanh(X)*self.tanh(X)\n",
    "\n",
    "    def softmax(self, X):\n",
    "        \"\"\"\n",
    "        Calculating the ReLU activation for a particular layer\n",
    "\n",
    "        Parameters\n",
    "        ----------\n",
    "        X : 1-dimentional numpy array \n",
    "\n",
    "        Returns\n",
    "        -------\n",
    "        x_calc : 1-dimensional numpy array after calculating the necessary function over X\n",
    "        \"\"\"\n",
    "        exp = np.exp(X)\n",
    "        return exp/(np.sum(exp,axis = 1, keepdims = True))\n",
    "\n",
    "    def softmax_grad(self, X):\n",
    "        \"\"\"\n",
    "        Calculating the gradient of Softmax activation for a particular layer\n",
    "\n",
    "        Parameters\n",
    "        ----------\n",
    "        X : 1-dimentional numpy array \n",
    "\n",
    "        Returns\n",
    "        -------\n",
    "        x_calc : 1-dimensional numpy array after calculating the necessary function over X\n",
    "        \"\"\"\n",
    "        return None\n",
    "    \n",
    "    def zero_init(self, shape):\n",
    "        \"\"\"\n",
    "        Calculating the initial weights after Zero Activation for a particular layer\n",
    "\n",
    "        Parameters\n",
    "        ----------\n",
    "        shape : tuple specifying the shape of the layer for which weights have to be generated \n",
    "\n",
    "        Returns\n",
    "        -------\n",
    "        weight : 1-dimensional numpy array which contains the initial weights for the requested layer\n",
    "\n",
    "        \"\"\"\n",
    "\n",
    "        weight = np.zeros(shape)\n",
    "        return weight\n",
    "\n",
    "    def random_init(self, shape):\n",
    "        \"\"\"\n",
    "        Calculating the initial weights after Random Activation for a particular layer\n",
    "\n",
    "        Parameters\n",
    "        ----------\n",
    "        shape : tuple specifying the shape of the layer for which weights have to be generated \n",
    "\n",
    "        Returns\n",
    "        -------\n",
    "        weight : 1-dimensional numpy array which contains the initial weights for the requested layer\n",
    "        \"\"\"\n",
    "        weight = np.random.rand(shape[0], shape[1])\n",
    "        return weight\n",
    "\n",
    "    def normal_init(self, shape):\n",
    "        \"\"\"\n",
    "        Calculating the initial weights after Normal(0,1) Activation for a particular layer\n",
    "\n",
    "        Parameters\n",
    "        ----------\n",
    "        shape : tuple specifying the shape of the layer for which weights have to be generated \n",
    "\n",
    "        Returns\n",
    "        -------\n",
    "        weight : 1-dimensional numpy array which contains the initial weights for the requested layer\n",
    "        \"\"\"\n",
    "        weight = np.random.normal(size = shape)*0.01\n",
    "        return weight\n",
    "\n",
    "    def fit(self, X, y, x_test = None, y_test = None):\n",
    "        \"\"\"\n",
    "        Fitting (training) the linear model.\n",
    "\n",
    "        Parameters\n",
    "        ----------\n",
    "        X : 2-dimensional numpy array of shape (n_samples, n_features) which acts as training data.\n",
    "\n",
    "        y : 1-dimensional numpy array of shape (n_samples,) which acts as training labels.\n",
    "        \n",
    "        Returns\n",
    "        -------\n",
    "        self : an instance of self\n",
    "        \"\"\"\n",
    "\n",
    "        # fit function has to return an instance of itself or else it won't work with test.py\n",
    "        \n",
    "        \n",
    "        y = self.expand_labels(y)\n",
    "        \n",
    "        m , n_0 = X.shape\n",
    "        n_l = y.shape[1]\n",
    "\n",
    "        parameters = self.initialization()\n",
    "        self.parameters = parameters\n",
    "\n",
    "        train_loss_history = []\n",
    "        train_accuracy_history = []\n",
    "        test_loss_history = []\n",
    "        test_accuracy_history = []\n",
    "\n",
    "        \n",
    "\n",
    "        for epoch in tqdm(range(self.num_epochs), desc = \"Progress Total : \", position = 0, leave = True):\n",
    "\n",
    "\n",
    "            n_batches = m//self.batch_size\n",
    "            X_batches = [X[self.batch_size*i:self.batch_size*(i+1),:] for i in range(0,n_batches)]\n",
    "            y_batches = [y[self.batch_size*i:self.batch_size*(i+1),:] for i in range(0,n_batches)]\n",
    "\n",
    "            train_batch_loss = []\n",
    "            test_batch_loss = []\n",
    "            train_batch_accuracy = []\n",
    "            test_batch_accuracy = []\n",
    "\n",
    "            for curr_x, curr_y in tqdm(zip(X_batches,y_batches), desc = \"Progress Epoch: \" + str(epoch+1) + \"/\" + str(self.num_epochs), position = 0, leave = True, total = len(X_batches)):\n",
    "                A, activations, preactivations = self.forward_prop(curr_x,parameters)\n",
    "\n",
    "                train_cost = self.cross_entropy_loss(A,curr_y)\n",
    "                train_batch_loss.append(train_cost)\n",
    "#                 print(A)\n",
    "                self.backward_prop(curr_x,curr_y,preactivations, activations )\n",
    "#                 train_batch_accuracy.append(self.score(curr_x,np.argmax(curr_y,axis = 1)))\n",
    "                if(x_test is not None):\n",
    "                    proba = self.predict_proba(x_test)\n",
    "#                     print(proba.shape)\n",
    "                    test_loss = self.cross_entropy_loss(proba, self.expand_labels(y_test))\n",
    "                    test_batch_loss.append(test_loss)\n",
    "#                     test_batch_accuracy.append(self.score(x_test, y_test))\n",
    "                    \n",
    "#             print(\"Training Accuracy : \", np.array(train_batch_accuracy).mean())\n",
    "#             print(\"Validation Accuracy : \", np.array(test_batch_accuracy).mean())\n",
    "            print(\"Validation loss : \" ,np.array(test_batch_loss).mean())\n",
    "            print(\"Training Loss : \", np.array(train_batch_loss).mean())\n",
    "            \n",
    "\n",
    "\n",
    "            train_loss_history.append( np.array(train_batch_loss).mean())\n",
    "#             train_accuracy_history.append( np.array(train_batch_accuracy).mean())\n",
    "            test_loss_history.append( np.array(test_batch_loss).mean())\n",
    "#             test_accuracy_history.append(  np.array(test_batch_accuracy).mean())\n",
    "                \n",
    "                \n",
    "        \n",
    "        self.train_loss_history = train_loss_history\n",
    "        self.train_accuracy_history = train_accuracy_history\n",
    "        self.test_loss_history = test_loss_history\n",
    "        self.test_accuracy_history = test_accuracy_history\n",
    "        \n",
    "        \n",
    "        self.parameters = parameters\n",
    "\n",
    "\n",
    "        return self\n",
    "    \n",
    "    \n",
    "    def initialization(self):\n",
    "        parameters = {}\n",
    "        layers = self.layer_sizes\n",
    "        \n",
    "        for i in range(0,len(layers)-1):\n",
    "            if(self.weight_init == 'zero'):\n",
    "                curr_layer = self.zero_init((layers[i],layers[i+1]))\n",
    "\n",
    "            elif(self.weight_init == 'random'):\n",
    "                curr_layer = self.random_init((layers[i],layers[i+1]))\n",
    "\n",
    "            else:\n",
    "                curr_layer = self.normal_init((layers[i],layers[i+1]))\n",
    "\n",
    "            parameters[\"W\" + str(i+1)] = curr_layer\n",
    "            parameters[\"b\" + str(i+1)] = np.zeros((1,layers[i+1]))\n",
    "\n",
    "        self.parameters = parameters\n",
    "\n",
    "        return parameters\n",
    "        \n",
    "    \n",
    "    def forward_prop(self,X,parameters):\n",
    "\n",
    "        \"\"\"\n",
    "        Implements one forward propagation of the deep neural network.\n",
    "\n",
    "        Parameters \n",
    "        ----------\n",
    "        X : Training set to be forward propagated\n",
    "        parameters : model parameters \n",
    "\n",
    "        Returns\n",
    "        -------\n",
    "        A_l : Activations of the final layer\n",
    "        forward_cache : list contraining all the linear_cache and activation_cache of all the layers\n",
    "\n",
    "        \"\"\"\n",
    "\n",
    "        A = X\n",
    "        L = len(parameters)//2\n",
    "\n",
    "        activations = {}\n",
    "        preactivations = {}\n",
    "\n",
    "        for i in range(0,L-1):\n",
    "            A_prev = A\n",
    "#             print(A_prev.shape)\n",
    "            \n",
    "            Z = np.dot(A_prev, parameters[\"W\" + str(i+1)]) + parameters[\"b\" + str(i+1)]\n",
    "\n",
    "            if(self.activation == \"relu\"):\n",
    "                A = self.relu(Z)\n",
    "\n",
    "            elif (self.activation == \"tanh\"):\n",
    "                A = self.tanh(Z)\n",
    "\n",
    "            elif (self.activation == \"linear\"):\n",
    "                A = self.linear(Z)\n",
    "\n",
    "            elif (self.activation == \"sigmoid\"):\n",
    "                A = self.sigmoid(Z)\n",
    "\n",
    "            preactivations[\"Z\" + str(i+1)] = Z\n",
    "            activations[\"A\" + str(i+1)] = A           \n",
    "            A_prev = A\n",
    "        \n",
    "        \n",
    "        Z_l = np.dot(A_prev, parameters[\"W\" + str(L)]) + parameters[\"b\" + str(L)]        \n",
    "        A_l = self.softmax(Z_l)\n",
    "        preactivations[\"Z\" + str(L)] = Z_l\n",
    "        activations[\"A\" + str(L)] = A_l\n",
    "\n",
    "        return A_l, activations, preactivations\n",
    "    \n",
    "        \n",
    "    def backward_prop(self, X, Y, preactivations, activations):\n",
    "        \n",
    "        \"\"\"\n",
    "        Implements backward propagation of the complete model.\n",
    "\n",
    "        Parameters\n",
    "        ----------\n",
    "        y : The ground truth labels of the curr training set\n",
    "        A_l : activations of the final layer of the model\n",
    "        cache : tuple containing the linear_cache and activation_cache\n",
    "\n",
    "        Returns\n",
    "        -------\n",
    "        gradients : Dictionary containing the gradient vectors for each layer of the model\n",
    "\n",
    "        \"\"\"\n",
    "\n",
    "        derivatives = {}\n",
    "        L = len(activations)\n",
    "        activations[\"A0\"] = X\n",
    "\n",
    "        A = activations[\"A\" + str(L)]\n",
    "        dZ = A - Y\n",
    "\n",
    "        dW = np.dot(activations[\"A\" + str(L-1) ].T, dZ)/len(X)\n",
    "        db = np.sum(dZ, axis=0, keepdims=True) / len(X)\n",
    "\n",
    "        dAPrev = np.dot(dZ, self.parameters[\"W\" + str(L)].T)\n",
    "\n",
    "        derivatives[\"dW\" + str(L)] = dW\n",
    "        derivatives[\"db\" + str(L)] = db\n",
    "\n",
    "        for l in range(L - 1, 0, -1):\n",
    "            if(self.activation == \"relu\"):\n",
    "                dact = self.relu_grad(preactivations[\"Z\" + str(l)])\n",
    "\n",
    "            elif (self.activation == \"tanh\"):\n",
    "                dact = self.tanh_grad(preactivations[\"Z\" + str(l)])\n",
    "\n",
    "            elif (self.activation == \"linear\"):\n",
    "                dact = self.linear_grad(preactivations[\"Z\" + str(l)])\n",
    "\n",
    "            elif (self.activation == \"sigmoid\"):\n",
    "                dact = self.sigmoid_grad(preactivations[\"Z\" + str(l)])\n",
    "\n",
    "            dZ = dAPrev * dact\n",
    "            dW = (1/len(X)) * np.dot(activations[\"A\" + str(l - 1)].T, dZ)\n",
    "            db = (1/len(X)) * np.sum(dZ, axis=0, keepdims=True)\n",
    "            if l > 1:\n",
    "                dAPrev = np.dot(dZ,self.parameters[\"W\" + str(l)].T)\n",
    "\n",
    "            derivatives[\"dW\" + str(l)] = dW\n",
    "            derivatives[\"db\" + str(l)] = db\n",
    "\n",
    "\n",
    "        for i in range(0,L):\n",
    "            self.parameters[\"W\" + str(i+1)] = self.parameters[\"W\" + str(i+1)] - self.learning_rate*derivatives[\"dW\" + str(i+1)]\n",
    "            self.parameters[\"b\" + str(i+1)] = self.parameters[\"b\" + str(i+1)] - self.learning_rate*derivatives[\"db\" + str(i+1)]\n",
    "        return \n",
    "    \n",
    "    \n",
    "\n",
    "    def predict_proba(self, X):\n",
    "        \"\"\"\n",
    "        Predicting probabilities using the trained linear model.\n",
    "\n",
    "        Parameters\n",
    "        ----------\n",
    "        X : 2-dimensional numpy array of shape (n_samples, n_features) which acts as testing data.\n",
    "\n",
    "        Returns\n",
    "        -------\n",
    "        y : 2-dimensional numpy array of shape (n_samples, n_classes) which contains the \n",
    "            class wise prediction probabilities.\n",
    "        \"\"\"\n",
    "\n",
    "        # return the numpy array y which contains the predicted values\n",
    "        proba,_,k = self.forward_prop(X,self.parameters)\n",
    "        return proba\n",
    "\n",
    "    def predict(self, X):\n",
    "        \"\"\"\n",
    "        Predicting values using the trained linear model.\n",
    "\n",
    "        Parameters\n",
    "        ----------\n",
    "        X : 2-dimensional numpy array of shape (n_samples, n_features) which acts as testing data.\n",
    "\n",
    "        Returns\n",
    "        -------\n",
    "        y : 1-dimensional numpy array of shape (n_samples,) which contains the predicted values.\n",
    "        \"\"\"\n",
    "\n",
    "        # return the numpy array y which contains the predicted values\n",
    "        proba = self.predict_proba(X)\n",
    "#         print(proba.shape)\n",
    "        y_pred = np.argmax(proba, axis = 1)\n",
    "        return y_pred\n",
    "\n",
    "    def score(self, X, y):\n",
    "        \"\"\"\n",
    "        Predicting values using the trained linear model.\n",
    "\n",
    "        Parameters\n",
    "        ----------\n",
    "        X : 2-dimensional numpy array of shape (n_samples, n_features) which acts as testing data.\n",
    "\n",
    "        y : 1-dimensional numpy array of shape (n_samples,) which acts as testing labels.\n",
    "\n",
    "        Returns\n",
    "        -------\n",
    "        acc : float value specifying the accuracy of the model on the provided testing set\n",
    "        \"\"\"\n",
    "\n",
    "        # return the numpy array y which contains the predicted values\n",
    "        y_pred = self.predict(X)\n",
    "        acc = (y_pred == y)\n",
    "        return acc.sum()/len(y)\n",
    "    \n",
    "    \n",
    "    def cross_entropy_loss(self, A, y):\n",
    "        n = len(y)\n",
    "        logp = - np.log(A[np.arange(n), y.argmax(axis=1)])\n",
    "        loss = np.sum(logp)/n\n",
    "        return loss\n",
    "    \n",
    "    \n",
    "    def expand_labels(self, y):\n",
    "        m = len(y)\n",
    "        c = np.max(y)\n",
    "        new_y = np.zeros((m,c+1))\n",
    "        for i in range(m):\n",
    "            l = y[i]\n",
    "            new_y[i,l] = 1\n",
    "\n",
    "        return new_y"
   ]
  },
  {
   "cell_type": "code",
   "execution_count": 4,
   "metadata": {},
   "outputs": [],
   "source": [
    "train_df = pd.read_csv('dataset/mnist/mnist_train.csv')\n",
    "test_df = pd.read_csv('dataset/mnist/mnist_test.csv')"
   ]
  },
  {
   "cell_type": "code",
   "execution_count": 5,
   "metadata": {},
   "outputs": [],
   "source": [
    "dataset = train_df.to_numpy()\n",
    "testset = test_df.to_numpy()"
   ]
  },
  {
   "cell_type": "code",
   "execution_count": 6,
   "metadata": {},
   "outputs": [],
   "source": [
    "from sklearn.preprocessing import StandardScaler\n",
    "X_train = dataset[:, 1:]/255\n",
    "X_test = testset[:, 1:]/255\n",
    "standardscalar = StandardScaler()\n",
    "X_train = standardscalar.fit_transform(X_train)\n",
    "X_test = standardscalar.transform(X_test)"
   ]
  },
  {
   "cell_type": "code",
   "execution_count": 7,
   "metadata": {},
   "outputs": [],
   "source": [
    "y_train = dataset[:, 0]\n",
    "y_test = testset[:, 0]"
   ]
  },
  {
   "cell_type": "markdown",
   "metadata": {},
   "source": [
    "sigmoid , 0.1, normal , 100"
   ]
  },
  {
   "cell_type": "code",
   "execution_count": 10,
   "metadata": {},
   "outputs": [],
   "source": [
    "nn = MyNeuralNetwork(5, [784, 256, 128, 64, 10], 'sigmoid', 0.1, 'random', len(X_train)//20, 100)"
   ]
  },
  {
   "cell_type": "code",
   "execution_count": 11,
   "metadata": {},
   "outputs": [
    {
     "name": "stderr",
     "output_type": "stream",
     "text": [
      "Progress Epoch: 1/100: 100%|███████████████████████████████████████████████████████████| 20/20 [00:07<00:00,  2.84it/s]\n"
     ]
    },
    {
     "name": "stdout",
     "output_type": "stream",
     "text": [
      "Validation loss :  2.4573240993048175\n",
      "Training Loss :  2.5715989242456807\n"
     ]
    },
    {
     "name": "stderr",
     "output_type": "stream",
     "text": [
      "Progress Epoch: 2/100: 100%|███████████████████████████████████████████████████████████| 20/20 [00:06<00:00,  2.87it/s]\n"
     ]
    },
    {
     "name": "stdout",
     "output_type": "stream",
     "text": [
      "Validation loss :  2.3014263806807134\n",
      "Training Loss :  2.3015158299885274\n"
     ]
    },
    {
     "name": "stderr",
     "output_type": "stream",
     "text": [
      "Progress Epoch: 3/100: 100%|███████████████████████████████████████████████████████████| 20/20 [00:07<00:00,  2.79it/s]\n"
     ]
    },
    {
     "name": "stdout",
     "output_type": "stream",
     "text": [
      "Validation loss :  2.3014263805921713\n",
      "Training Loss :  2.3015158305675616\n"
     ]
    },
    {
     "name": "stderr",
     "output_type": "stream",
     "text": [
      "Progress Epoch: 4/100: 100%|███████████████████████████████████████████████████████████| 20/20 [00:07<00:00,  2.80it/s]\n"
     ]
    },
    {
     "name": "stdout",
     "output_type": "stream",
     "text": [
      "Validation loss :  2.3014263805921713\n",
      "Training Loss :  2.3015158305675625\n"
     ]
    },
    {
     "name": "stderr",
     "output_type": "stream",
     "text": [
      "Progress Epoch: 5/100: 100%|███████████████████████████████████████████████████████████| 20/20 [00:07<00:00,  2.80it/s]\n"
     ]
    },
    {
     "name": "stdout",
     "output_type": "stream",
     "text": [
      "Validation loss :  2.3014263805921713\n",
      "Training Loss :  2.3015158305675625\n"
     ]
    },
    {
     "name": "stderr",
     "output_type": "stream",
     "text": [
      "Progress Epoch: 6/100: 100%|███████████████████████████████████████████████████████████| 20/20 [00:07<00:00,  2.70it/s]\n"
     ]
    },
    {
     "name": "stdout",
     "output_type": "stream",
     "text": [
      "Validation loss :  2.301426380592172\n",
      "Training Loss :  2.3015158305675616\n"
     ]
    },
    {
     "name": "stderr",
     "output_type": "stream",
     "text": [
      "Progress Epoch: 7/100: 100%|███████████████████████████████████████████████████████████| 20/20 [00:07<00:00,  2.82it/s]\n"
     ]
    },
    {
     "name": "stdout",
     "output_type": "stream",
     "text": [
      "Validation loss :  2.3014263805921713\n",
      "Training Loss :  2.301515830567562\n"
     ]
    },
    {
     "name": "stderr",
     "output_type": "stream",
     "text": [
      "Progress Epoch: 8/100:  40%|████████████████████████                                    | 8/20 [00:03<00:04,  2.52it/s]\n"
     ]
    },
    {
     "ename": "KeyboardInterrupt",
     "evalue": "",
     "output_type": "error",
     "traceback": [
      "\u001b[1;31m---------------------------------------------------------------------------\u001b[0m",
      "\u001b[1;31mKeyboardInterrupt\u001b[0m                         Traceback (most recent call last)",
      "\u001b[1;32m<ipython-input-11-60b2b561b41f>\u001b[0m in \u001b[0;36m<module>\u001b[1;34m\u001b[0m\n\u001b[1;32m----> 1\u001b[1;33m \u001b[0mnn\u001b[0m\u001b[1;33m.\u001b[0m\u001b[0mfit\u001b[0m\u001b[1;33m(\u001b[0m\u001b[0mX_train\u001b[0m\u001b[1;33m,\u001b[0m \u001b[0my_train\u001b[0m\u001b[1;33m,\u001b[0m \u001b[0mX_test\u001b[0m\u001b[1;33m,\u001b[0m \u001b[0my_test\u001b[0m\u001b[1;33m)\u001b[0m\u001b[1;33m\u001b[0m\u001b[1;33m\u001b[0m\u001b[0m\n\u001b[0m",
      "\u001b[1;32m<ipython-input-3-7f3ce7c330cd>\u001b[0m in \u001b[0;36mfit\u001b[1;34m(self, X, y, x_test, y_test)\u001b[0m\n\u001b[0;32m    291\u001b[0m \u001b[1;31m#                 train_batch_accuracy.append(self.score(curr_x,np.argmax(curr_y,axis = 1)))\u001b[0m\u001b[1;33m\u001b[0m\u001b[1;33m\u001b[0m\u001b[1;33m\u001b[0m\u001b[0m\n\u001b[0;32m    292\u001b[0m                 \u001b[1;32mif\u001b[0m\u001b[1;33m(\u001b[0m\u001b[0mx_test\u001b[0m \u001b[1;32mis\u001b[0m \u001b[1;32mnot\u001b[0m \u001b[1;32mNone\u001b[0m\u001b[1;33m)\u001b[0m\u001b[1;33m:\u001b[0m\u001b[1;33m\u001b[0m\u001b[1;33m\u001b[0m\u001b[0m\n\u001b[1;32m--> 293\u001b[1;33m                     \u001b[0mproba\u001b[0m \u001b[1;33m=\u001b[0m \u001b[0mself\u001b[0m\u001b[1;33m.\u001b[0m\u001b[0mpredict_proba\u001b[0m\u001b[1;33m(\u001b[0m\u001b[0mx_test\u001b[0m\u001b[1;33m)\u001b[0m\u001b[1;33m\u001b[0m\u001b[1;33m\u001b[0m\u001b[0m\n\u001b[0m\u001b[0;32m    294\u001b[0m \u001b[1;31m#                     print(proba.shape)\u001b[0m\u001b[1;33m\u001b[0m\u001b[1;33m\u001b[0m\u001b[1;33m\u001b[0m\u001b[0m\n\u001b[0;32m    295\u001b[0m                     \u001b[0mtest_loss\u001b[0m \u001b[1;33m=\u001b[0m \u001b[0mself\u001b[0m\u001b[1;33m.\u001b[0m\u001b[0mcross_entropy_loss\u001b[0m\u001b[1;33m(\u001b[0m\u001b[0mproba\u001b[0m\u001b[1;33m,\u001b[0m \u001b[0mself\u001b[0m\u001b[1;33m.\u001b[0m\u001b[0mexpand_labels\u001b[0m\u001b[1;33m(\u001b[0m\u001b[0my_test\u001b[0m\u001b[1;33m)\u001b[0m\u001b[1;33m)\u001b[0m\u001b[1;33m\u001b[0m\u001b[1;33m\u001b[0m\u001b[0m\n",
      "\u001b[1;32m<ipython-input-3-7f3ce7c330cd>\u001b[0m in \u001b[0;36mpredict_proba\u001b[1;34m(self, X)\u001b[0m\n\u001b[0;32m    476\u001b[0m \u001b[1;33m\u001b[0m\u001b[0m\n\u001b[0;32m    477\u001b[0m         \u001b[1;31m# return the numpy array y which contains the predicted values\u001b[0m\u001b[1;33m\u001b[0m\u001b[1;33m\u001b[0m\u001b[1;33m\u001b[0m\u001b[0m\n\u001b[1;32m--> 478\u001b[1;33m         \u001b[0mproba\u001b[0m\u001b[1;33m,\u001b[0m\u001b[0m_\u001b[0m\u001b[1;33m,\u001b[0m\u001b[0mk\u001b[0m \u001b[1;33m=\u001b[0m \u001b[0mself\u001b[0m\u001b[1;33m.\u001b[0m\u001b[0mforward_prop\u001b[0m\u001b[1;33m(\u001b[0m\u001b[0mX\u001b[0m\u001b[1;33m,\u001b[0m\u001b[0mself\u001b[0m\u001b[1;33m.\u001b[0m\u001b[0mparameters\u001b[0m\u001b[1;33m)\u001b[0m\u001b[1;33m\u001b[0m\u001b[1;33m\u001b[0m\u001b[0m\n\u001b[0m\u001b[0;32m    479\u001b[0m         \u001b[1;32mreturn\u001b[0m \u001b[0mproba\u001b[0m\u001b[1;33m\u001b[0m\u001b[1;33m\u001b[0m\u001b[0m\n\u001b[0;32m    480\u001b[0m \u001b[1;33m\u001b[0m\u001b[0m\n",
      "\u001b[1;32m<ipython-input-3-7f3ce7c330cd>\u001b[0m in \u001b[0;36mforward_prop\u001b[1;34m(self, X, parameters)\u001b[0m\n\u001b[0;32m    372\u001b[0m \u001b[1;31m#             print(A_prev.shape)\u001b[0m\u001b[1;33m\u001b[0m\u001b[1;33m\u001b[0m\u001b[1;33m\u001b[0m\u001b[0m\n\u001b[0;32m    373\u001b[0m \u001b[1;33m\u001b[0m\u001b[0m\n\u001b[1;32m--> 374\u001b[1;33m             \u001b[0mZ\u001b[0m \u001b[1;33m=\u001b[0m \u001b[0mnp\u001b[0m\u001b[1;33m.\u001b[0m\u001b[0mdot\u001b[0m\u001b[1;33m(\u001b[0m\u001b[0mA_prev\u001b[0m\u001b[1;33m,\u001b[0m \u001b[0mparameters\u001b[0m\u001b[1;33m[\u001b[0m\u001b[1;34m\"W\"\u001b[0m \u001b[1;33m+\u001b[0m \u001b[0mstr\u001b[0m\u001b[1;33m(\u001b[0m\u001b[0mi\u001b[0m\u001b[1;33m+\u001b[0m\u001b[1;36m1\u001b[0m\u001b[1;33m)\u001b[0m\u001b[1;33m]\u001b[0m\u001b[1;33m)\u001b[0m \u001b[1;33m+\u001b[0m \u001b[0mparameters\u001b[0m\u001b[1;33m[\u001b[0m\u001b[1;34m\"b\"\u001b[0m \u001b[1;33m+\u001b[0m \u001b[0mstr\u001b[0m\u001b[1;33m(\u001b[0m\u001b[0mi\u001b[0m\u001b[1;33m+\u001b[0m\u001b[1;36m1\u001b[0m\u001b[1;33m)\u001b[0m\u001b[1;33m]\u001b[0m\u001b[1;33m\u001b[0m\u001b[1;33m\u001b[0m\u001b[0m\n\u001b[0m\u001b[0;32m    375\u001b[0m \u001b[1;33m\u001b[0m\u001b[0m\n\u001b[0;32m    376\u001b[0m             \u001b[1;32mif\u001b[0m\u001b[1;33m(\u001b[0m\u001b[0mself\u001b[0m\u001b[1;33m.\u001b[0m\u001b[0mactivation\u001b[0m \u001b[1;33m==\u001b[0m \u001b[1;34m\"relu\"\u001b[0m\u001b[1;33m)\u001b[0m\u001b[1;33m:\u001b[0m\u001b[1;33m\u001b[0m\u001b[1;33m\u001b[0m\u001b[0m\n",
      "\u001b[1;31mKeyboardInterrupt\u001b[0m: "
     ]
    }
   ],
   "source": [
    "nn.fit(X_train, y_train, X_test, y_test)"
   ]
  },
  {
   "cell_type": "code",
   "execution_count": 204,
   "metadata": {},
   "outputs": [],
   "source": [
    "# import pickle\n",
    "# f = open(\"models/sigmoid\", \"wb\")\n",
    "# pickle.dump(nn,f)\n",
    "# f.close()"
   ]
  },
  {
   "cell_type": "code",
   "execution_count": 205,
   "metadata": {},
   "outputs": [
    {
     "data": {
      "text/plain": [
       "0.9036"
      ]
     },
     "execution_count": 205,
     "metadata": {},
     "output_type": "execute_result"
    }
   ],
   "source": [
    "nn.score(X_test,y_test)"
   ]
  },
  {
   "cell_type": "code",
   "execution_count": 207,
   "metadata": {
    "scrolled": true
   },
   "outputs": [
    {
     "data": {
      "image/png": "[encoded data removed]",
      "text/plain": [
       "<Figure size 432x288 with 1 Axes>"
      ]
     },
     "metadata": {
      "needs_background": "light"
     },
     "output_type": "display_data"
    }
   ],
   "source": [
    "import matplotlib.pyplot as plt\n",
    "\n",
    "plt.plot([x for x in range(1,len(nn.train_loss_history) + 1, 1)],nn.train_loss_history, label = \"Average Training  Loss \" )\n",
    "plt.plot([x for x in range(1,len(nn.test_loss_history) + 1, 1)],nn.test_loss_history, label = \"Average Validation  Loss \" )\n",
    "plt.xlabel('Epochs ')\n",
    "plt.ylabel('Loss')\n",
    "plt.legend()\n",
    "plt.show()"
   ]
  },
  {
   "cell_type": "markdown",
   "metadata": {},
   "source": [
    "tanh, 0.1, linear"
   ]
  },
  {
   "cell_type": "code",
   "execution_count": 8,
   "metadata": {},
   "outputs": [],
   "source": [
    "nn = MyNeuralNetwork(5, [784, 256, 128, 64, 10], 'relu', 0.1, 'random', len(X_train)//20, 100)"
   ]
  },
  {
   "cell_type": "code",
   "execution_count": 9,
   "metadata": {},
   "outputs": [
    {
     "name": "stderr",
     "output_type": "stream",
     "text": [
      "Progress Epoch: 1/100:   0%|                                                                    | 0/20 [00:00<?, ?it/s]C:\\Users\\Asus\\Anaconda3\\lib\\site-packages\\ipykernel_launcher.py:176: RuntimeWarning: invalid value encountered in true_divide\n",
      "C:\\Users\\Asus\\Anaconda3\\lib\\site-packages\\ipykernel_launcher.py:523: RuntimeWarning: divide by zero encountered in log\n",
      "C:\\Users\\Asus\\Anaconda3\\lib\\site-packages\\ipykernel_launcher.py:63: RuntimeWarning: invalid value encountered in greater_equal\n",
      "Progress Epoch: 1/100:   5%|███                                                         | 1/20 [00:00<00:09,  2.01it/s]C:\\Users\\Asus\\Anaconda3\\lib\\site-packages\\ipykernel_launcher.py:77: RuntimeWarning: invalid value encountered in greater_equal\n",
      "Progress Epoch: 1/100: 100%|███████████████████████████████████████████████████████████| 20/20 [00:10<00:00,  1.96it/s]\n"
     ]
    },
    {
     "name": "stdout",
     "output_type": "stream",
     "text": [
      "Validation loss :  nan\n",
      "Training Loss :  nan\n"
     ]
    },
    {
     "name": "stderr",
     "output_type": "stream",
     "text": [
      "Progress Epoch: 2/100:  60%|███████████████████████████████████▍                       | 12/20 [00:06<00:04,  1.80it/s]\n"
     ]
    },
    {
     "ename": "KeyboardInterrupt",
     "evalue": "",
     "output_type": "error",
     "traceback": [
      "\u001b[1;31m---------------------------------------------------------------------------\u001b[0m",
      "\u001b[1;31mKeyboardInterrupt\u001b[0m                         Traceback (most recent call last)",
      "\u001b[1;32m<ipython-input-9-60b2b561b41f>\u001b[0m in \u001b[0;36m<module>\u001b[1;34m\u001b[0m\n\u001b[1;32m----> 1\u001b[1;33m \u001b[0mnn\u001b[0m\u001b[1;33m.\u001b[0m\u001b[0mfit\u001b[0m\u001b[1;33m(\u001b[0m\u001b[0mX_train\u001b[0m\u001b[1;33m,\u001b[0m \u001b[0my_train\u001b[0m\u001b[1;33m,\u001b[0m \u001b[0mX_test\u001b[0m\u001b[1;33m,\u001b[0m \u001b[0my_test\u001b[0m\u001b[1;33m)\u001b[0m\u001b[1;33m\u001b[0m\u001b[1;33m\u001b[0m\u001b[0m\n\u001b[0m",
      "\u001b[1;32m<ipython-input-3-7f3ce7c330cd>\u001b[0m in \u001b[0;36mfit\u001b[1;34m(self, X, y, x_test, y_test)\u001b[0m\n\u001b[0;32m    291\u001b[0m \u001b[1;31m#                 train_batch_accuracy.append(self.score(curr_x,np.argmax(curr_y,axis = 1)))\u001b[0m\u001b[1;33m\u001b[0m\u001b[1;33m\u001b[0m\u001b[1;33m\u001b[0m\u001b[0m\n\u001b[0;32m    292\u001b[0m                 \u001b[1;32mif\u001b[0m\u001b[1;33m(\u001b[0m\u001b[0mx_test\u001b[0m \u001b[1;32mis\u001b[0m \u001b[1;32mnot\u001b[0m \u001b[1;32mNone\u001b[0m\u001b[1;33m)\u001b[0m\u001b[1;33m:\u001b[0m\u001b[1;33m\u001b[0m\u001b[1;33m\u001b[0m\u001b[0m\n\u001b[1;32m--> 293\u001b[1;33m                     \u001b[0mproba\u001b[0m \u001b[1;33m=\u001b[0m \u001b[0mself\u001b[0m\u001b[1;33m.\u001b[0m\u001b[0mpredict_proba\u001b[0m\u001b[1;33m(\u001b[0m\u001b[0mx_test\u001b[0m\u001b[1;33m)\u001b[0m\u001b[1;33m\u001b[0m\u001b[1;33m\u001b[0m\u001b[0m\n\u001b[0m\u001b[0;32m    294\u001b[0m \u001b[1;31m#                     print(proba.shape)\u001b[0m\u001b[1;33m\u001b[0m\u001b[1;33m\u001b[0m\u001b[1;33m\u001b[0m\u001b[0m\n\u001b[0;32m    295\u001b[0m                     \u001b[0mtest_loss\u001b[0m \u001b[1;33m=\u001b[0m \u001b[0mself\u001b[0m\u001b[1;33m.\u001b[0m\u001b[0mcross_entropy_loss\u001b[0m\u001b[1;33m(\u001b[0m\u001b[0mproba\u001b[0m\u001b[1;33m,\u001b[0m \u001b[0mself\u001b[0m\u001b[1;33m.\u001b[0m\u001b[0mexpand_labels\u001b[0m\u001b[1;33m(\u001b[0m\u001b[0my_test\u001b[0m\u001b[1;33m)\u001b[0m\u001b[1;33m)\u001b[0m\u001b[1;33m\u001b[0m\u001b[1;33m\u001b[0m\u001b[0m\n",
      "\u001b[1;32m<ipython-input-3-7f3ce7c330cd>\u001b[0m in \u001b[0;36mpredict_proba\u001b[1;34m(self, X)\u001b[0m\n\u001b[0;32m    476\u001b[0m \u001b[1;33m\u001b[0m\u001b[0m\n\u001b[0;32m    477\u001b[0m         \u001b[1;31m# return the numpy array y which contains the predicted values\u001b[0m\u001b[1;33m\u001b[0m\u001b[1;33m\u001b[0m\u001b[1;33m\u001b[0m\u001b[0m\n\u001b[1;32m--> 478\u001b[1;33m         \u001b[0mproba\u001b[0m\u001b[1;33m,\u001b[0m\u001b[0m_\u001b[0m\u001b[1;33m,\u001b[0m\u001b[0mk\u001b[0m \u001b[1;33m=\u001b[0m \u001b[0mself\u001b[0m\u001b[1;33m.\u001b[0m\u001b[0mforward_prop\u001b[0m\u001b[1;33m(\u001b[0m\u001b[0mX\u001b[0m\u001b[1;33m,\u001b[0m\u001b[0mself\u001b[0m\u001b[1;33m.\u001b[0m\u001b[0mparameters\u001b[0m\u001b[1;33m)\u001b[0m\u001b[1;33m\u001b[0m\u001b[1;33m\u001b[0m\u001b[0m\n\u001b[0m\u001b[0;32m    479\u001b[0m         \u001b[1;32mreturn\u001b[0m \u001b[0mproba\u001b[0m\u001b[1;33m\u001b[0m\u001b[1;33m\u001b[0m\u001b[0m\n\u001b[0;32m    480\u001b[0m \u001b[1;33m\u001b[0m\u001b[0m\n",
      "\u001b[1;32m<ipython-input-3-7f3ce7c330cd>\u001b[0m in \u001b[0;36mforward_prop\u001b[1;34m(self, X, parameters)\u001b[0m\n\u001b[0;32m    372\u001b[0m \u001b[1;31m#             print(A_prev.shape)\u001b[0m\u001b[1;33m\u001b[0m\u001b[1;33m\u001b[0m\u001b[1;33m\u001b[0m\u001b[0m\n\u001b[0;32m    373\u001b[0m \u001b[1;33m\u001b[0m\u001b[0m\n\u001b[1;32m--> 374\u001b[1;33m             \u001b[0mZ\u001b[0m \u001b[1;33m=\u001b[0m \u001b[0mnp\u001b[0m\u001b[1;33m.\u001b[0m\u001b[0mdot\u001b[0m\u001b[1;33m(\u001b[0m\u001b[0mA_prev\u001b[0m\u001b[1;33m,\u001b[0m \u001b[0mparameters\u001b[0m\u001b[1;33m[\u001b[0m\u001b[1;34m\"W\"\u001b[0m \u001b[1;33m+\u001b[0m \u001b[0mstr\u001b[0m\u001b[1;33m(\u001b[0m\u001b[0mi\u001b[0m\u001b[1;33m+\u001b[0m\u001b[1;36m1\u001b[0m\u001b[1;33m)\u001b[0m\u001b[1;33m]\u001b[0m\u001b[1;33m)\u001b[0m \u001b[1;33m+\u001b[0m \u001b[0mparameters\u001b[0m\u001b[1;33m[\u001b[0m\u001b[1;34m\"b\"\u001b[0m \u001b[1;33m+\u001b[0m \u001b[0mstr\u001b[0m\u001b[1;33m(\u001b[0m\u001b[0mi\u001b[0m\u001b[1;33m+\u001b[0m\u001b[1;36m1\u001b[0m\u001b[1;33m)\u001b[0m\u001b[1;33m]\u001b[0m\u001b[1;33m\u001b[0m\u001b[1;33m\u001b[0m\u001b[0m\n\u001b[0m\u001b[0;32m    375\u001b[0m \u001b[1;33m\u001b[0m\u001b[0m\n\u001b[0;32m    376\u001b[0m             \u001b[1;32mif\u001b[0m\u001b[1;33m(\u001b[0m\u001b[0mself\u001b[0m\u001b[1;33m.\u001b[0m\u001b[0mactivation\u001b[0m \u001b[1;33m==\u001b[0m \u001b[1;34m\"relu\"\u001b[0m\u001b[1;33m)\u001b[0m\u001b[1;33m:\u001b[0m\u001b[1;33m\u001b[0m\u001b[1;33m\u001b[0m\u001b[0m\n",
      "\u001b[1;31mKeyboardInterrupt\u001b[0m: "
     ]
    }
   ],
   "source": [
    "nn.fit(X_train, y_train, X_test, y_test)"
   ]
  },
  {
   "cell_type": "code",
   "execution_count": 216,
   "metadata": {},
   "outputs": [
    {
     "data": {
      "text/plain": [
       "0.91"
      ]
     },
     "execution_count": 216,
     "metadata": {},
     "output_type": "execute_result"
    }
   ],
   "source": [
    "nn.score(X_test,y_test)"
   ]
  },
  {
   "cell_type": "code",
   "execution_count": 218,
   "metadata": {},
   "outputs": [],
   "source": [
    "import pickle\n",
    "f = open(\"models/tanh\", \"wb\")\n",
    "pickle.dump(nn,f)\n",
    "f.close()"
   ]
  },
  {
   "cell_type": "code",
   "execution_count": 217,
   "metadata": {},
   "outputs": [
    {
     "data": {
      "image/png": "[encoded data removed]",
      "text/plain": [
       "<Figure size 432x288 with 1 Axes>"
      ]
     },
     "metadata": {
      "needs_background": "light"
     },
     "output_type": "display_data"
    }
   ],
   "source": [
    "import matplotlib.pyplot as plt\n",
    "\n",
    "plt.plot([x for x in range(1,len(nn.train_loss_history) + 1, 1)],nn.train_loss_history, label = \"Average Training  Loss \" )\n",
    "plt.plot([x for x in range(1,len(nn.test_loss_history) + 1, 1)],nn.test_loss_history, label = \"Average Validation  Loss \" )\n",
    "plt.xlabel('Epochs ')\n",
    "plt.ylabel('Loss')\n",
    "plt.legend()\n",
    "plt.show()"
   ]
  },
  {
   "cell_type": "code",
   "execution_count": 13,
   "metadata": {},
   "outputs": [],
   "source": [
    "import pickle"
   ]
  },
  {
   "cell_type": "markdown",
   "metadata": {},
   "source": [
    "Model with highest accuracy"
   ]
  },
  {
   "cell_type": "code",
   "execution_count": 14,
   "metadata": {},
   "outputs": [],
   "source": [
    "relu_nn = pickle.load(open(\"models/relu\", \"rb\"))"
   ]
  },
  {
   "cell_type": "code",
   "execution_count": 16,
   "metadata": {
    "scrolled": true
   },
   "outputs": [
    {
     "data": {
      "text/plain": [
       "{'W1': array([[0.00123514, 0.00197044, 0.00025005, ..., 0.00824354, 0.00869153,\n",
       "         0.00352182],\n",
       "        [0.00909308, 0.00865799, 0.00224581, ..., 0.00573072, 0.00455763,\n",
       "         0.00978907],\n",
       "        [0.00644419, 0.00596275, 0.00639801, ..., 0.00368183, 0.00765543,\n",
       "         0.00261152],\n",
       "        ...,\n",
       "        [0.00049213, 0.00306821, 0.00374583, ..., 0.00633159, 0.00406591,\n",
       "         0.00922146],\n",
       "        [0.00821146, 0.00413888, 0.00129525, ..., 0.00779239, 0.00082317,\n",
       "         0.00500184],\n",
       "        [0.00432546, 0.00446678, 0.0088842 , ..., 0.0070756 , 0.00905826,\n",
       "         0.00360253]]),\n",
       " 'b1': array([[-0.01136573, -0.06012103, -0.06625817, -0.09982769, -0.05657645,\n",
       "          0.01823025,  0.00377825, -0.11154891, -0.0542864 , -0.02488928,\n",
       "         -0.16572987, -0.01417219, -0.08996177, -0.03772061, -0.03606515,\n",
       "          0.00526073, -0.06370434, -0.0974894 ,  0.02524418, -0.08400137,\n",
       "         -0.00840822,  0.0088227 , -0.0157027 , -0.04337432,  0.00650432,\n",
       "         -0.04667714, -0.00725339, -0.01772745, -0.12320443,  0.02092815,\n",
       "         -0.02013203, -0.04924067, -0.10440968, -0.05738784, -0.03724919,\n",
       "         -0.01123115, -0.00416059,  0.00326349, -0.01934899, -0.04212154,\n",
       "         -0.0797631 , -0.00970613, -0.02003602, -0.02711246, -0.00408568,\n",
       "         -0.08357222,  0.10992259, -0.01377236, -0.03240947,  0.0195354 ,\n",
       "         -0.04718738, -0.00101512, -0.06060197, -0.0695347 ,  0.00488027,\n",
       "         -0.03171853,  0.03397355, -0.10221006, -0.07791213, -0.01462658,\n",
       "          0.03846062, -0.02094342, -0.09099854,  0.02225291, -0.02400665,\n",
       "          0.00249083, -0.02888632, -0.0168274 , -0.06085078,  0.03834081,\n",
       "          0.01008597, -0.0257538 , -0.02770276, -0.03214825, -0.02160287,\n",
       "         -0.01108826,  0.019943  , -0.03140033, -0.04806598, -0.0325561 ,\n",
       "         -0.06550288, -0.01670996, -0.03218921, -0.01055904, -0.01560462,\n",
       "         -0.057085  , -0.02748125, -0.05514931, -0.06056721, -0.02662592,\n",
       "         -0.01737126,  0.04703626, -0.0418499 ,  0.01278429, -0.00895003,\n",
       "          0.04726882, -0.01789772, -0.04635766, -0.1495109 , -0.05440784,\n",
       "         -0.00999229, -0.024598  ,  0.02237883, -0.09415913, -0.00612142,\n",
       "         -0.01597238, -0.00391056,  0.02829976, -0.00498424,  0.01581811,\n",
       "         -0.09397238, -0.0711147 , -0.09991086, -0.05056155, -0.01627284,\n",
       "         -0.01865031, -0.00025381, -0.00059048, -0.09265514, -0.03911581,\n",
       "         -0.03519038,  0.01208135, -0.0279962 ,  0.02860482, -0.03017769,\n",
       "         -0.01123272, -0.01748233, -0.0404588 ,  0.00844614,  0.01244786,\n",
       "         -0.07117034, -0.04319504, -0.12380428,  0.02517376, -0.05037141,\n",
       "         -0.02772328,  0.00806663, -0.02234874,  0.02841988,  0.00932158,\n",
       "         -0.04503701, -0.03507557, -0.09057659, -0.05559541, -0.01689556,\n",
       "         -0.00027781, -0.01552158, -0.02053161,  0.02038837, -0.04080984,\n",
       "         -0.02459712, -0.05095291,  0.01642742,  0.00364325,  0.00770091,\n",
       "         -0.03839865, -0.05143449,  0.0410813 , -0.0192798 ,  0.01570879,\n",
       "         -0.01071037, -0.0259946 ,  0.00176019, -0.03000422, -0.05522538,\n",
       "         -0.01913642, -0.04690597, -0.02523457, -0.06667393,  0.01750651,\n",
       "         -0.06380852, -0.05970478,  0.02873533,  0.00019205,  0.01346456,\n",
       "         -0.05970504, -0.1002282 ,  0.00711795, -0.06424303, -0.01905104,\n",
       "         -0.00062104, -0.06212206, -0.00123091, -0.00566295, -0.06205244,\n",
       "         -0.08644217, -0.02695714,  0.02342087, -0.02478677, -0.07036888,\n",
       "         -0.02082898, -0.05372496, -0.01577399,  0.00249616, -0.01681981,\n",
       "         -0.05298339, -0.01206999,  0.00631136,  0.01331137, -0.0311522 ,\n",
       "         -0.03342465, -0.10976909,  0.02699681, -0.06486799, -0.07670925,\n",
       "         -0.02318443, -0.03939937, -0.03320695,  0.03141877, -0.10871566,\n",
       "         -0.06282841, -0.01790856, -0.07180542, -0.09956045, -0.0245375 ,\n",
       "         -0.0388662 , -0.12651289, -0.13951394, -0.00483366, -0.0064112 ,\n",
       "         -0.03273647, -0.07531472, -0.01112184, -0.00502634, -0.01428994,\n",
       "         -0.0505664 ,  0.00638971,  0.01927006, -0.0025221 ,  0.03686205,\n",
       "         -0.01159814, -0.09322629, -0.05538222,  0.02893557, -0.06652407,\n",
       "         -0.00400675,  0.02627552, -0.00736   ,  0.01707392, -0.02700494,\n",
       "          0.05105117,  0.00121907, -0.05813094, -0.04818669, -0.03204987,\n",
       "          0.0130061 ,  0.02673616, -0.00409898,  0.03328406, -0.05482327,\n",
       "         -0.09330831, -0.00165843, -0.01039914, -0.05456253, -0.01009488,\n",
       "          0.00183531]]),\n",
       " 'W2': array([[ 0.02131787,  0.02589136,  0.02537291, ...,  0.02281923,\n",
       "          0.01975595,  0.02474544],\n",
       "        [ 0.02240665,  0.01974459,  0.03146482, ...,  0.03430853,\n",
       "          0.01933603,  0.02122436],\n",
       "        [ 0.01850003,  0.01185264,  0.0157653 , ...,  0.02097938,\n",
       "          0.02301245,  0.0137136 ],\n",
       "        ...,\n",
       "        [ 0.01834974,  0.03260859,  0.02837182, ...,  0.01276952,\n",
       "          0.03161915,  0.02524153],\n",
       "        [ 0.03775756,  0.01174109,  0.0421357 , ...,  0.0522694 ,\n",
       "         -0.00217631,  0.02453342],\n",
       "        [-0.00557944,  0.00497545, -0.01079166, ..., -0.00184347,\n",
       "          0.01548184, -0.00811817]]),\n",
       " 'b2': array([[-0.04776602, -0.05133506, -0.05149179, -0.0577991 , -0.04767937,\n",
       "         -0.04518786, -0.04573819, -0.04636909, -0.05099316, -0.05656328,\n",
       "         -0.05230271, -0.04493695, -0.05147764, -0.04975585, -0.05857148,\n",
       "         -0.04785753, -0.04293144, -0.05385158, -0.04827096, -0.04955729,\n",
       "         -0.0453469 , -0.0456399 , -0.05179963, -0.0468396 , -0.05439176,\n",
       "         -0.03414024, -0.05197276, -0.05114884, -0.0579089 , -0.04849307,\n",
       "         -0.0601764 , -0.04748391, -0.04335706, -0.0467677 , -0.04436303,\n",
       "         -0.04836839, -0.04574326, -0.05000103, -0.04025461, -0.04800479,\n",
       "         -0.05346298, -0.04413015, -0.05529566, -0.04939606, -0.04104169,\n",
       "         -0.05451752, -0.03433368, -0.05186603, -0.05044512, -0.04162822,\n",
       "         -0.05509255, -0.05207544, -0.05132988, -0.0548587 , -0.04720784,\n",
       "         -0.05423854, -0.05806535, -0.05229954, -0.03977659, -0.04258454,\n",
       "         -0.05514309, -0.04469805, -0.05466594, -0.04897903, -0.06002566,\n",
       "         -0.05257193, -0.04244791, -0.05119355, -0.04856103, -0.04840688,\n",
       "         -0.05214197, -0.05347642, -0.0543872 , -0.04529114, -0.04402789,\n",
       "         -0.0548642 , -0.05749612, -0.04400952, -0.0441127 , -0.05259654,\n",
       "         -0.04570282, -0.0518434 , -0.05984861, -0.0491957 , -0.05051564,\n",
       "         -0.05208246, -0.04685332, -0.04951641, -0.06037341, -0.00746651,\n",
       "         -0.05812741, -0.04440104, -0.03791882, -0.04934651, -0.0462863 ,\n",
       "         -0.04376465, -0.05415201, -0.05635092, -0.04492873, -0.04636508,\n",
       "         -0.04756671, -0.05343312, -0.04870716, -0.04900455, -0.05221458,\n",
       "         -0.05509318, -0.05178936, -0.04577008, -0.0618308 , -0.04552909,\n",
       "         -0.04413593, -0.05197974, -0.04437542, -0.05894828, -0.05421507,\n",
       "         -0.05407876, -0.00850118, -0.05319473, -0.04348365, -0.05233862,\n",
       "         -0.05103818, -0.04313569, -0.04848475, -0.04539718, -0.05019457,\n",
       "         -0.04289886, -0.06029752, -0.04872842]]),\n",
       " 'W3': array([[ 0.02808246,  0.01818411,  0.03646831, ...,  0.03207769,\n",
       "          0.03875615,  0.02927212],\n",
       "        [ 0.00431694,  0.05308171,  0.00266363, ...,  0.03114665,\n",
       "          0.03243601,  0.0175107 ],\n",
       "        [ 0.02366467,  0.02299875,  0.03013551, ...,  0.04040198,\n",
       "          0.04626381,  0.03161876],\n",
       "        ...,\n",
       "        [ 0.05848306, -0.0058553 ,  0.0635805 , ...,  0.02615254,\n",
       "          0.03001655,  0.01732557],\n",
       "        [ 0.00892956,  0.06884974,  0.0009038 , ...,  0.01121065,\n",
       "          0.01469115,  0.0166642 ],\n",
       "        [ 0.01582982,  0.03355152,  0.01082811, ...,  0.03973858,\n",
       "          0.03958332,  0.02554105]]),\n",
       " 'b3': array([[-0.10830107, -0.11521233, -0.11799667, -0.12648795, -0.06950602,\n",
       "         -0.0747483 , -0.13962636, -0.04730655, -0.1238203 , -0.0949694 ,\n",
       "         -0.13478196, -0.06740517, -0.08733315, -0.07043788, -0.11058142,\n",
       "         -0.0870291 , -0.07969753, -0.09432551, -0.14049835, -0.10293026,\n",
       "         -0.05185689, -0.04592586, -0.15106652, -0.09952247, -0.11267369,\n",
       "         -0.10811484, -0.0813549 , -0.07164631, -0.15064137, -0.04805081,\n",
       "         -0.12340072, -0.06832395, -0.13571703, -0.13620274, -0.10073081,\n",
       "         -0.1274645 , -0.07601988, -0.09151494, -0.10775155, -0.1163629 ,\n",
       "         -0.05454217, -0.10028315, -0.07143604, -0.08653872, -0.05192306,\n",
       "         -0.09389028, -0.10184324, -0.11744398, -0.13548846, -0.06898419,\n",
       "         -0.08931227, -0.06659981, -0.08550536, -0.03811774, -0.15686548,\n",
       "         -0.09637366, -0.0583115 , -0.14515149, -0.03158642, -0.08772832,\n",
       "         -0.04467095, -0.0799946 , -0.10204557, -0.14110556]]),\n",
       " 'W4': array([[ 0.08304795, -0.11181925,  0.19472521, -0.19628152,  0.19237036,\n",
       "         -0.09689593,  0.23325457, -0.26686286, -0.00268268,  0.01279355],\n",
       "        [ 0.09161666, -0.15893271,  0.01189338,  0.27189477, -0.24881292,\n",
       "          0.1857201 , -0.19761943,  0.01645591,  0.02973511,  0.06512584],\n",
       "        [ 0.09191555, -0.11878813,  0.20692961, -0.2198491 ,  0.23835651,\n",
       "         -0.13416591,  0.26470913, -0.28736016, -0.02141294,  0.02835136],\n",
       "        [ 0.17044253, -0.12899796,  0.05741508, -0.07542745, -0.13029275,\n",
       "          0.1358812 ,  0.15412804, -0.1610894 ,  0.19174842, -0.16244782],\n",
       "        [ 0.0121101 , -0.11287531,  0.29305911, -0.23424443,  0.51858099,\n",
       "         -0.36204458,  0.31007111, -0.37272868, -0.10922974,  0.11186209],\n",
       "        [ 0.12327463, -0.08832917,  0.01600884,  0.07083429, -0.14274314,\n",
       "          0.15797247,  0.02603548, -0.18007808,  0.16317988, -0.07919403],\n",
       "        [ 0.17110187, -0.11083916,  0.0307967 ,  0.10300994, -0.17196763,\n",
       "          0.19611009,  0.00208562, -0.21232974,  0.12801328, -0.07553734],\n",
       "        [ 0.1110971 , -0.09473722,  0.00164712,  0.01269589, -0.12924052,\n",
       "          0.13865483,  0.06204884, -0.14934623,  0.19972035, -0.10594202],\n",
       "        [ 0.15570739, -0.10247301,  0.05125705,  0.06081059, -0.16816639,\n",
       "          0.16592403,  0.03997401, -0.19706627,  0.13292143, -0.09544184],\n",
       "        [ 0.14228892, -0.12544993,  0.0239281 , -0.16884811, -0.06433802,\n",
       "          0.0962468 ,  0.21061683, -0.141483  ,  0.2138612 , -0.15241805],\n",
       "        [ 0.16158425, -0.11468601,  0.07413504, -0.11112475, -0.07969173,\n",
       "          0.09249983,  0.17348037, -0.13452728,  0.15215883, -0.14976905],\n",
       "        [ 0.03350251, -0.19105616,  0.01425941,  0.34712665, -0.33932043,\n",
       "          0.17369817, -0.35872552,  0.26583915, -0.05360073,  0.15772311],\n",
       "        [ 0.16768152, -0.10646349, -0.02801237, -0.02533084, -0.16041113,\n",
       "          0.18860799,  0.08220261, -0.15496839,  0.21057758, -0.126197  ],\n",
       "        [ 0.06199891, -0.19104588, -0.02167621,  0.3404524 , -0.33704513,\n",
       "          0.1937233 , -0.33823333,  0.235867  , -0.03026753,  0.14325219],\n",
       "        [ 0.16356188, -0.10395573,  0.02071353, -0.00418894, -0.14653649,\n",
       "          0.15785131,  0.07030221, -0.16166301,  0.14832068, -0.11336543],\n",
       "        [ 0.13336328, -0.13396533,  0.05848479, -0.19756133,  0.00277273,\n",
       "          0.05879512,  0.24843741, -0.17759338,  0.21186972, -0.15197851],\n",
       "        [ 0.12870328, -0.11033491,  0.0302993 , -0.16749246, -0.03360019,\n",
       "          0.07221853,  0.21222779, -0.14276381,  0.20481109, -0.13297821],\n",
       "        [ 0.17132006, -0.12057557,  0.00840929,  0.0062141 , -0.18585927,\n",
       "          0.19909404,  0.0740415 , -0.19540172,  0.23052366, -0.14000107],\n",
       "        [ 0.13580988, -0.11807772,  0.13757047, -0.18327283,  0.07184963,\n",
       "         -0.01184549,  0.24875858, -0.20596137,  0.06938057, -0.08275946],\n",
       "        [ 0.16007491, -0.11094365,  0.03575571, -0.06854554, -0.14108474,\n",
       "          0.13955382,  0.12705693, -0.15269998,  0.20126641, -0.13931051],\n",
       "        [ 0.12634662, -0.09689527, -0.00851843,  0.01651411, -0.14204565,\n",
       "          0.15633603,  0.06163798, -0.15758728,  0.21441661, -0.1144833 ],\n",
       "        [ 0.07593282, -0.11441122,  0.09998912, -0.21202644,  0.14558889,\n",
       "         -0.03507746,  0.25512295, -0.25954246,  0.12596653, -0.02846068],\n",
       "        [ 0.12952749, -0.12080361, -0.00239304,  0.21182333, -0.17842448,\n",
       "          0.19219534, -0.12658902, -0.11543901,  0.05199792,  0.01006159],\n",
       "        [ 0.08116492, -0.15124827,  0.00201071,  0.24497567, -0.2404196 ,\n",
       "          0.18919271, -0.16457465, -0.03264907,  0.07845332,  0.03409062],\n",
       "        [ 0.10319534, -0.16178852, -0.01494626,  0.26842605, -0.25248838,\n",
       "          0.21974642, -0.17133545, -0.07522771,  0.11042293,  0.03029234],\n",
       "        [ 0.14012001, -0.10415269,  0.02060449,  0.09340906, -0.15525682,\n",
       "          0.17537579,  0.00300167, -0.19181376,  0.1368489 , -0.07957114],\n",
       "        [ 0.03853071, -0.11052122,  0.2489984 , -0.24003993,  0.39198936,\n",
       "         -0.23831267,  0.27763404, -0.33906534, -0.07901996,  0.09932825],\n",
       "        [ 0.13544471, -0.09935403,  0.00701857, -0.03244584, -0.13651961,\n",
       "          0.147789  ,  0.08966626, -0.14082915,  0.20098819, -0.11877343],\n",
       "        [ 0.18730733, -0.11710465,  0.00527219,  0.11648868, -0.17189084,\n",
       "          0.22328264, -0.01064646, -0.21928897,  0.13666071, -0.09662936],\n",
       "        [ 0.10578231, -0.09294609,  0.00307812, -0.052492  , -0.10143496,\n",
       "          0.11330982,  0.11984805, -0.12683112,  0.20526842, -0.1198007 ],\n",
       "        [ 0.15681569, -0.14270899, -0.05882936,  0.19743992, -0.19628597,\n",
       "          0.25530368, -0.08718898, -0.2175022 ,  0.19917152, -0.0605865 ],\n",
       "        [ 0.03696968, -0.10851278,  0.23516294, -0.22760713,  0.36365754,\n",
       "         -0.22026247,  0.2606415 , -0.32887781, -0.04802876,  0.08186956],\n",
       "        [ 0.16756109, -0.10739538, -0.0280133 ,  0.13307033, -0.15050634,\n",
       "          0.21920602, -0.05066358, -0.19762714,  0.13364661, -0.07575144],\n",
       "        [ 0.1275793 , -0.11716038,  0.14017633, -0.18559035,  0.0736965 ,\n",
       "         -0.00692758,  0.23266241, -0.20851329,  0.06264772, -0.07901132],\n",
       "        [ 0.17916028, -0.11622138,  0.00308008,  0.03287572, -0.18274353,\n",
       "          0.20198524,  0.05197551, -0.20670266,  0.2062966 , -0.12579945],\n",
       "        [ 0.13077622, -0.12253049,  0.11707067, -0.15258708,  0.02455104,\n",
       "          0.02268256,  0.22009563, -0.17635191,  0.11348504, -0.1339051 ],\n",
       "        [ 0.10920553, -0.11969784,  0.06005975, -0.1677967 ,  0.02094685,\n",
       "          0.03897405,  0.21509319, -0.15439393,  0.16053754, -0.12166792],\n",
       "        [ 0.11416606, -0.12322372,  0.09178078, -0.18702304,  0.07330684,\n",
       "          0.01216899,  0.24472745, -0.19272873,  0.1299337 , -0.1040162 ],\n",
       "        [ 0.06817211, -0.09981314,  0.21106983, -0.18810681,  0.26799794,\n",
       "         -0.17745419,  0.23922932, -0.25318662, -0.06478648,  0.03935626],\n",
       "        [ 0.09929333, -0.17139187, -0.00993623,  0.29451228, -0.28381994,\n",
       "          0.20027962, -0.25399708,  0.0851308 , -0.00997814,  0.09437759],\n",
       "        [ 0.05525682, -0.1076603 ,  0.14018978, -0.22741583,  0.24106476,\n",
       "         -0.11251948,  0.26642502, -0.2821718 ,  0.04402411,  0.02809823],\n",
       "        [ 0.11158311, -0.12252605,  0.13973118, -0.19603009,  0.1147931 ,\n",
       "         -0.02209826,  0.24372532, -0.23451713,  0.09539584, -0.05990647],\n",
       "        [ 0.1228583 , -0.13672181,  0.05537155, -0.17006712, -0.01255755,\n",
       "          0.06757228,  0.23341515, -0.16671842,  0.23650218, -0.16700893],\n",
       "        [ 0.15194164, -0.09585281, -0.00128047,  0.05699317, -0.14677686,\n",
       "          0.17799093,  0.02235663, -0.18298422,  0.17300942, -0.09731127],\n",
       "        [ 0.12715952, -0.1070916 , -0.00650129, -0.0814279 , -0.11803149,\n",
       "          0.14026157,  0.13224083, -0.14782388,  0.25507561, -0.13743936],\n",
       "        [ 0.14136443, -0.09123556,  0.02511498, -0.07551014, -0.11805789,\n",
       "          0.11901386,  0.11445846, -0.12728646,  0.16803092, -0.1232739 ],\n",
       "        [ 0.17123985, -0.11015851,  0.00953026, -0.04961846, -0.15633582,\n",
       "          0.17499286,  0.10108569, -0.15715524,  0.20383039, -0.13659053],\n",
       "        [ 0.1084618 , -0.16403595, -0.02624657,  0.26829771, -0.2525057 ,\n",
       "          0.21315001, -0.2085965 , -0.00738982,  0.05188481,  0.05616274],\n",
       "        [ 0.13092975, -0.11738509,  0.05250898,  0.1579281 , -0.18194703,\n",
       "          0.17188449, -0.01967891, -0.23038329,  0.13284784, -0.05146917],\n",
       "        [ 0.09775891, -0.11566205,  0.08276216, -0.17414361,  0.04756752,\n",
       "          0.02094604,  0.21888296, -0.1723724 ,  0.16610362, -0.11887964],\n",
       "        [-0.05066172, -0.08374354,  0.36465167, -0.15619939,  0.70941606,\n",
       "         -0.58151812,  0.31760418, -0.40531188, -0.30896394,  0.23893694],\n",
       "        [ 0.1061042 , -0.1279463 ,  0.09278145, -0.20479031,  0.08972117,\n",
       "          0.00697137,  0.2547886 , -0.21077516,  0.17525737, -0.11243677],\n",
       "        [ 0.0734267 , -0.17470399, -0.00690709,  0.30119687, -0.29008773,\n",
       "          0.17929482, -0.30776143,  0.20167443, -0.0569253 ,  0.12869112],\n",
       "        [-0.02231534, -0.18414902,  0.00318983,  0.39964475, -0.39964577,\n",
       "          0.12671937, -0.53362158,  0.59763332, -0.21899466,  0.28249077],\n",
       "        [ 0.14063625, -0.14048219,  0.02168242,  0.2236558 , -0.20906773,\n",
       "          0.20934068, -0.10719381, -0.19289045,  0.11152199, -0.00881102],\n",
       "        [ 0.11951531, -0.12889058,  0.10679458, -0.16370857,  0.05208789,\n",
       "          0.01282199,  0.22895062, -0.1942177 ,  0.13779241, -0.116348  ],\n",
       "        [ 0.10982773, -0.11644371,  0.0278906 , -0.1466951 , -0.01932915,\n",
       "          0.06941906,  0.19954521, -0.14305913,  0.21194297, -0.13989051],\n",
       "        [ 0.14810563, -0.13936844, -0.05532863,  0.23734505, -0.19568359,\n",
       "          0.24416668, -0.12861654, -0.16593198,  0.13304535, -0.01696672],\n",
       "        [-0.07108738, -0.17328665,  0.00262733,  0.46652639, -0.4837059 ,\n",
       "          0.10040239, -0.6787327 ,  0.83708221, -0.31942511,  0.36621329],\n",
       "        [ 0.09619725, -0.14002091,  0.17827058, -0.25393967,  0.20444391,\n",
       "         -0.08076231,  0.29572821, -0.32748611,  0.08911762, -0.01244135],\n",
       "        [ 0.09327641, -0.11279541,  0.04247048, -0.14018096,  0.00408801,\n",
       "          0.05022149,  0.19911126, -0.15036848,  0.2059593 , -0.13053993],\n",
       "        [ 0.15422987, -0.09865283, -0.01748349, -0.09399863, -0.12771207,\n",
       "          0.14620622,  0.13307983, -0.133032  ,  0.22039139, -0.12300614],\n",
       "        [ 0.15481861, -0.11660904,  0.03506671, -0.10081811, -0.10912071,\n",
       "          0.12120311,  0.17063106, -0.14832101,  0.20689055, -0.14487379],\n",
       "        [ 0.15155075, -0.10142963,  0.07710699, -0.08540242, -0.08695326,\n",
       "          0.0886147 ,  0.14227556, -0.11638654,  0.10534868, -0.12802527]]),\n",
       " 'b4': array([[-4.21477674,  4.44193276, -1.88236548, -0.77296358,  1.46717634,\n",
       "         -1.11226053, -2.03653595,  2.08949302,  0.33646376,  1.6838364 ]])}"
      ]
     },
     "execution_count": 16,
     "metadata": {},
     "output_type": "execute_result"
    }
   ],
   "source": [
    "relu_nn.parameters"
   ]
  },
  {
   "cell_type": "code",
   "execution_count": 18,
   "metadata": {},
   "outputs": [],
   "source": [
    "W4 = relu_nn.parameters[\"W4\"]"
   ]
  },
  {
   "cell_type": "code",
   "execution_count": 48,
   "metadata": {},
   "outputs": [],
   "source": [
    "A_l, act, _ = relu_nn.forward_prop(X_train, relu_nn.parameters)"
   ]
  },
  {
   "cell_type": "code",
   "execution_count": 50,
   "metadata": {},
   "outputs": [],
   "source": [
    "A3 = act[\"A3\"]"
   ]
  },
  {
   "cell_type": "code",
   "execution_count": 51,
   "metadata": {},
   "outputs": [
    {
     "data": {
      "text/plain": [
       "(60000, 64)"
      ]
     },
     "execution_count": 51,
     "metadata": {},
     "output_type": "execute_result"
    }
   ],
   "source": [
    "A3.shape"
   ]
  },
  {
   "cell_type": "code",
   "execution_count": 55,
   "metadata": {},
   "outputs": [
    {
     "name": "stdout",
     "output_type": "stream",
     "text": [
      "[t-SNE] Computing 91 nearest neighbors...\n",
      "[t-SNE] Indexed 60000 samples in 2.628s...\n",
      "[t-SNE] Computed neighbors for 60000 samples in 24.351s...\n",
      "[t-SNE] Computed conditional probabilities for sample 1000 / 60000\n",
      "[t-SNE] Computed conditional probabilities for sample 2000 / 60000\n",
      "[t-SNE] Computed conditional probabilities for sample 3000 / 60000\n",
      "[t-SNE] Computed conditional probabilities for sample 4000 / 60000\n",
      "[t-SNE] Computed conditional probabilities for sample 5000 / 60000\n",
      "[t-SNE] Computed conditional probabilities for sample 6000 / 60000\n",
      "[t-SNE] Computed conditional probabilities for sample 7000 / 60000\n",
      "[t-SNE] Computed conditional probabilities for sample 8000 / 60000\n",
      "[t-SNE] Computed conditional probabilities for sample 9000 / 60000\n",
      "[t-SNE] Computed conditional probabilities for sample 10000 / 60000\n",
      "[t-SNE] Computed conditional probabilities for sample 11000 / 60000\n",
      "[t-SNE] Computed conditional probabilities for sample 12000 / 60000\n",
      "[t-SNE] Computed conditional probabilities for sample 13000 / 60000\n",
      "[t-SNE] Computed conditional probabilities for sample 14000 / 60000\n",
      "[t-SNE] Computed conditional probabilities for sample 15000 / 60000\n",
      "[t-SNE] Computed conditional probabilities for sample 16000 / 60000\n",
      "[t-SNE] Computed conditional probabilities for sample 17000 / 60000\n",
      "[t-SNE] Computed conditional probabilities for sample 18000 / 60000\n",
      "[t-SNE] Computed conditional probabilities for sample 19000 / 60000\n",
      "[t-SNE] Computed conditional probabilities for sample 20000 / 60000\n",
      "[t-SNE] Computed conditional probabilities for sample 21000 / 60000\n",
      "[t-SNE] Computed conditional probabilities for sample 22000 / 60000\n",
      "[t-SNE] Computed conditional probabilities for sample 23000 / 60000\n",
      "[t-SNE] Computed conditional probabilities for sample 24000 / 60000\n",
      "[t-SNE] Computed conditional probabilities for sample 25000 / 60000\n",
      "[t-SNE] Computed conditional probabilities for sample 26000 / 60000\n",
      "[t-SNE] Computed conditional probabilities for sample 27000 / 60000\n",
      "[t-SNE] Computed conditional probabilities for sample 28000 / 60000\n",
      "[t-SNE] Computed conditional probabilities for sample 29000 / 60000\n",
      "[t-SNE] Computed conditional probabilities for sample 30000 / 60000\n",
      "[t-SNE] Computed conditional probabilities for sample 31000 / 60000\n",
      "[t-SNE] Computed conditional probabilities for sample 32000 / 60000\n",
      "[t-SNE] Computed conditional probabilities for sample 33000 / 60000\n",
      "[t-SNE] Computed conditional probabilities for sample 34000 / 60000\n",
      "[t-SNE] Computed conditional probabilities for sample 35000 / 60000\n",
      "[t-SNE] Computed conditional probabilities for sample 36000 / 60000\n",
      "[t-SNE] Computed conditional probabilities for sample 37000 / 60000\n",
      "[t-SNE] Computed conditional probabilities for sample 38000 / 60000\n",
      "[t-SNE] Computed conditional probabilities for sample 39000 / 60000\n",
      "[t-SNE] Computed conditional probabilities for sample 40000 / 60000\n",
      "[t-SNE] Computed conditional probabilities for sample 41000 / 60000\n",
      "[t-SNE] Computed conditional probabilities for sample 42000 / 60000\n",
      "[t-SNE] Computed conditional probabilities for sample 43000 / 60000\n",
      "[t-SNE] Computed conditional probabilities for sample 44000 / 60000\n",
      "[t-SNE] Computed conditional probabilities for sample 45000 / 60000\n",
      "[t-SNE] Computed conditional probabilities for sample 46000 / 60000\n",
      "[t-SNE] Computed conditional probabilities for sample 47000 / 60000\n",
      "[t-SNE] Computed conditional probabilities for sample 48000 / 60000\n",
      "[t-SNE] Computed conditional probabilities for sample 49000 / 60000\n",
      "[t-SNE] Computed conditional probabilities for sample 50000 / 60000\n",
      "[t-SNE] Computed conditional probabilities for sample 51000 / 60000\n",
      "[t-SNE] Computed conditional probabilities for sample 52000 / 60000\n",
      "[t-SNE] Computed conditional probabilities for sample 53000 / 60000\n",
      "[t-SNE] Computed conditional probabilities for sample 54000 / 60000\n",
      "[t-SNE] Computed conditional probabilities for sample 55000 / 60000\n",
      "[t-SNE] Computed conditional probabilities for sample 56000 / 60000\n",
      "[t-SNE] Computed conditional probabilities for sample 57000 / 60000\n",
      "[t-SNE] Computed conditional probabilities for sample 58000 / 60000\n",
      "[t-SNE] Computed conditional probabilities for sample 59000 / 60000\n",
      "[t-SNE] Computed conditional probabilities for sample 60000 / 60000\n",
      "[t-SNE] Mean sigma: 0.000000\n",
      "[t-SNE] KL divergence after 250 iterations with early exaggeration: 88.335701\n",
      "[t-SNE] KL divergence after 1000 iterations: 2.265090\n"
     ]
    }
   ],
   "source": [
    "from sklearn.manifold import TSNE\n",
    "tsne_em = TSNE(n_components=2, perplexity=30.0, n_iter=1000, verbose=1).fit_transform(A3)"
   ]
  },
  {
   "cell_type": "code",
   "execution_count": 56,
   "metadata": {},
   "outputs": [
    {
     "data": {
      "text/plain": [
       "((60000,), (60000,))"
      ]
     },
     "execution_count": 56,
     "metadata": {},
     "output_type": "execute_result"
    }
   ],
   "source": [
    "tsne_em[:,0].shape,tsne_em[:,1].shape"
   ]
  },
  {
   "cell_type": "code",
   "execution_count": 58,
   "metadata": {
    "scrolled": false
   },
   "outputs": [
    {
     "data": {
      "image/png": "[encoded data removed]",
      "text/plain": [
       "<Figure size 720x720 with 1 Axes>"
      ]
     },
     "metadata": {
      "needs_background": "light"
     },
     "output_type": "display_data"
    }
   ],
   "source": [
    "import matplotlib.pyplot as plt\n",
    "import seaborn as sns\n",
    "plt.figure(figsize = (10,10))\n",
    "plt.scatter(tsne_em[:,0],tsne_em[:,1])\n",
    "# plt.scatter(tsne_em[:,0], tsne_em[:,1],color = \"green\", hue = y_train);\n",
    "# sns.scatterplot(x = df_tsne_pca_2d[\"x\"], y = df_tsne_pca_2d[\"y\"], hue = df_tsne_pca_2d[\"label\"], palette = sns.color_palette(\"husl\", 10) )\n",
    "plt.show()"
   ]
  },
  {
   "cell_type": "markdown",
   "metadata": {},
   "source": [
    "Sklearn imp"
   ]
  },
  {
   "cell_type": "code",
   "execution_count": 31,
   "metadata": {},
   "outputs": [],
   "source": [
    "from sklearn.neural_network import MLPClassifier"
   ]
  },
  {
   "cell_type": "code",
   "execution_count": 32,
   "metadata": {},
   "outputs": [],
   "source": [
    "clf = MLPClassifier(solver='lbfgs', alpha=0.1, hidden_layer_sizes=(256,128,64), random_state=1, activation = 'relu')"
   ]
  },
  {
   "cell_type": "code",
   "execution_count": 33,
   "metadata": {},
   "outputs": [
    {
     "data": {
      "text/plain": [
       "MLPClassifier(alpha=0.1, hidden_layer_sizes=(256, 128, 64), random_state=1,\n",
       "              solver='lbfgs')"
      ]
     },
     "execution_count": 33,
     "metadata": {},
     "output_type": "execute_result"
    }
   ],
   "source": [
    "clf.fit(X_train,y_train)"
   ]
  },
  {
   "cell_type": "code",
   "execution_count": 36,
   "metadata": {},
   "outputs": [
    {
     "data": {
      "text/plain": [
       "MLPClassifier(activation='logistic', alpha=0.1,\n",
       "              hidden_layer_sizes=(256, 128, 64), random_state=1,\n",
       "              solver='lbfgs')"
      ]
     },
     "execution_count": 36,
     "metadata": {},
     "output_type": "execute_result"
    }
   ],
   "source": [
    "clf2 = MLPClassifier(solver='lbfgs', alpha=0.1, hidden_layer_sizes=(256,128,64), random_state=1, activation = 'logistic')\n",
    "clf2.fit(X_train,y_train)"
   ]
  },
  {
   "cell_type": "code",
   "execution_count": 37,
   "metadata": {},
   "outputs": [
    {
     "data": {
      "text/plain": [
       "MLPClassifier(activation='tanh', alpha=0.1, hidden_layer_sizes=(256, 128, 64),\n",
       "              random_state=1, solver='lbfgs')"
      ]
     },
     "execution_count": 37,
     "metadata": {},
     "output_type": "execute_result"
    }
   ],
   "source": [
    "clf3 = MLPClassifier(solver='lbfgs', alpha=0.1, hidden_layer_sizes=(256,128,64), random_state=1, activation = 'tanh')\n",
    "clf3.fit(X_train,y_train)"
   ]
  },
  {
   "cell_type": "code",
   "execution_count": 38,
   "metadata": {},
   "outputs": [
    {
     "name": "stderr",
     "output_type": "stream",
     "text": [
      "C:\\Users\\Asus\\Anaconda3\\lib\\site-packages\\sklearn\\neural_network\\_multilayer_perceptron.py:471: ConvergenceWarning: lbfgs failed to converge (status=1):\n",
      "STOP: TOTAL NO. of ITERATIONS REACHED LIMIT.\n",
      "\n",
      "Increase the number of iterations (max_iter) or scale the data as shown in:\n",
      "    https://scikit-learn.org/stable/modules/preprocessing.html\n",
      "  self.n_iter_ = _check_optimize_result(\"lbfgs\", opt_res, self.max_iter)\n"
     ]
    },
    {
     "data": {
      "text/plain": [
       "MLPClassifier(activation='identity', alpha=0.1,\n",
       "              hidden_layer_sizes=(256, 128, 64), random_state=1,\n",
       "              solver='lbfgs')"
      ]
     },
     "execution_count": 38,
     "metadata": {},
     "output_type": "execute_result"
    }
   ],
   "source": [
    "clf4 = MLPClassifier(solver='lbfgs', alpha=0.1, hidden_layer_sizes=(256,128,64), random_state=1, activation = 'identity')\n",
    "clf4.fit(X_train,y_train)"
   ]
  },
  {
   "cell_type": "code",
   "execution_count": 39,
   "metadata": {},
   "outputs": [
    {
     "name": "stdout",
     "output_type": "stream",
     "text": [
      "For Relu Activation :  0.9767\n"
     ]
    }
   ],
   "source": [
    "s1 = clf.score(X_test,y_test)\n",
    "print(\"For Relu Activation : \", s1)"
   ]
  },
  {
   "cell_type": "code",
   "execution_count": 40,
   "metadata": {},
   "outputs": [
    {
     "name": "stdout",
     "output_type": "stream",
     "text": [
      "For Sigmoid/Logistic Activation :  0.9644\n"
     ]
    }
   ],
   "source": [
    "s2 = clf2.score(X_test,y_test)\n",
    "print(\"For Sigmoid/Logistic Activation : \", s2)"
   ]
  },
  {
   "cell_type": "code",
   "execution_count": 41,
   "metadata": {},
   "outputs": [
    {
     "name": "stdout",
     "output_type": "stream",
     "text": [
      "For tanh Activation :  0.9667\n"
     ]
    }
   ],
   "source": [
    "s3 = clf3.score(X_test,y_test)\n",
    "print(\"For tanh Activation : \", s3)"
   ]
  },
  {
   "cell_type": "code",
   "execution_count": 42,
   "metadata": {},
   "outputs": [
    {
     "name": "stdout",
     "output_type": "stream",
     "text": [
      "For Linear/Identity Activation :  0.9767\n"
     ]
    }
   ],
   "source": [
    "s4 = clf.score(X_test,y_test)\n",
    "print(\"For Linear/Identity Activation : \", s4)"
   ]
  },
  {
   "cell_type": "markdown",
   "metadata": {},
   "source": [
    "MYnn accuracy"
   ]
  },
  {
   "cell_type": "code",
   "execution_count": 43,
   "metadata": {},
   "outputs": [],
   "source": [
    "relu_nn = pickle.load(open(\"models/relu\", \"rb\"))\n",
    "sigmoid_nn = pickle.load(open(\"models/sigmoid\", \"rb\"))\n",
    "linear_nn = pickle.load(open(\"models/linear2\", \"rb\"))\n",
    "tanh_nn =  pickle.load(open(\"models/tanh\", \"rb\"))"
   ]
  },
  {
   "cell_type": "code",
   "execution_count": 44,
   "metadata": {},
   "outputs": [
    {
     "data": {
      "text/plain": [
       "0.9388"
      ]
     },
     "execution_count": 44,
     "metadata": {},
     "output_type": "execute_result"
    }
   ],
   "source": [
    "relu_nn.score(X_test, y_test)"
   ]
  },
  {
   "cell_type": "code",
   "execution_count": 45,
   "metadata": {},
   "outputs": [
    {
     "data": {
      "text/plain": [
       "0.9036"
      ]
     },
     "execution_count": 45,
     "metadata": {},
     "output_type": "execute_result"
    }
   ],
   "source": [
    "sigmoid_nn.score(X_test, y_test)"
   ]
  },
  {
   "cell_type": "code",
   "execution_count": 46,
   "metadata": {},
   "outputs": [
    {
     "data": {
      "text/plain": [
       "0.8163"
      ]
     },
     "execution_count": 46,
     "metadata": {},
     "output_type": "execute_result"
    }
   ],
   "source": [
    "linear_nn.score(X_test, y_test)"
   ]
  },
  {
   "cell_type": "code",
   "execution_count": 47,
   "metadata": {},
   "outputs": [
    {
     "data": {
      "text/plain": [
       "0.91"
      ]
     },
     "execution_count": 47,
     "metadata": {},
     "output_type": "execute_result"
    }
   ],
   "source": [
    "tanh_nn.score(X_test, y_test)"
   ]
  },
  {
   "cell_type": "code",
   "execution_count": null,
   "metadata": {},
   "outputs": [],
   "source": []
  }
 ],
 "metadata": {
  "kernelspec": {
   "display_name": "Python 3",
   "language": "python",
   "name": "python3"
  },
  "language_info": {
   "codemirror_mode": {
    "name": "ipython",
    "version": 3
   },
   "file_extension": ".py",
   "mimetype": "text/x-python",
   "name": "python",
   "nbconvert_exporter": "python",
   "pygments_lexer": "ipython3",
   "version": "3.7.4"
  }
 },
 "nbformat": 4,
 "nbformat_minor": 2
}
